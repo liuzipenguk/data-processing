{
 "cells": [
  {
   "cell_type": "code",
   "execution_count": 1,
   "metadata": {},
   "outputs": [],
   "source": [
    "import re\n",
    "import os \n",
    "from glob import glob\n",
    "import pandas as pd\n",
    "import numpy as np\n",
    "import matplotlib as mpl\n",
    "import matplotlib.pyplot as plt\n",
    "\n",
    "from scipy import integrate\n",
    "from scipy import interpolate\n",
    "from scipy.signal import find_peaks\n",
    "from scipy.interpolate import interp1d\n",
    "from scipy.signal import savgol_filter"
   ]
  },
  {
   "cell_type": "code",
   "execution_count": 27,
   "metadata": {},
   "outputs": [],
   "source": [
    "class Indirect():\n",
    "    \n",
    "    def Treading(path):\n",
    "        files = os.listdir(path)\n",
    "        temperature = list()\n",
    "        for file in files:\n",
    "            if file.endswith(\".tab\"):\n",
    "                num = re.findall(r\"\\d+.\\d+\", file)\n",
    "                temperature.append(float(num[0]))\n",
    "            if file.endswith(\".csv\"):\n",
    "                num = re.findall(r\"\\d+.\\d+\", file)\n",
    "                temperature.append(float(num[0]))\n",
    "            if file.endswith(\".txt\"):\n",
    "                num = re.findall(r\"\\d+.\\d+\", file)\n",
    "                temperature.append(float(num[0]))\n",
    "        print('T stored in -' 'temperature')\n",
    "        print(temperature)\n",
    "        print('Number of T =',len(temperature))\n",
    "   \n",
    "    def PEresolve(path):\n",
    "        files = glob(path + \"/*.tab\")\n",
    "        P_upper_fitting = pd.DataFrame()\n",
    "        E = np.linspace(0, 1200000, num=240, endpoint=True)\n",
    "        P_upper_fitting.insert(len(P_upper_fitting.columns), \"E\", E)\n",
    "\n",
    "        i= 0\n",
    "        for file in files:\n",
    "            df = pd.read_csv(file,delimiter='\\t', engine='python')\n",
    "            index1 = df['P_SI'].idxmax()\n",
    "            index2 = df['P_SI'].idxmin()\n",
    "            P_upper = df.loc[index1:index2, [ 'E','P_SI']]\n",
    "            x = P_upper['E']\n",
    "            y = P_upper['P_SI']\n",
    "            f = interp1d(x, y, fill_value=\"extrapolate\",kind='next')\n",
    "            \n",
    "            column_name = str(temperature[i])\n",
    "            P_upper_fitting.insert(len(P_upper_fitting.columns), column_name, f(E))\n",
    "            plt.plot(y)\n",
    "            i = i+1\n",
    "        print(P_upper_fitting.shape)\n",
    "        plt.show()\n",
    "        return\n",
    "\n",
    "\n",
    "    \n",
    "    # Treading(path)"
   ]
  },
  {
   "cell_type": "code",
   "execution_count": 4,
   "metadata": {},
   "outputs": [],
   "source": [
    "path = r'C:\\Users\\Caloric\\Documents\\Data for Python\\No1 PlasticCrytal\\PE loops heating new'\n"
   ]
  },
  {
   "cell_type": "code",
   "execution_count": 30,
   "metadata": {},
   "outputs": [
    {
     "name": "stdout",
     "output_type": "stream",
     "text": [
      "T stored in -temperature\n",
      "[290.0, 290.14, 290.71, 291.36, 291.89, 292.34, 292.78, 293.23, 293.69, 294.16, 294.64, 295.11, 295.59, 296.06, 296.52, 297.0, 297.47, 297.94, 298.41, 298.88, 299.36, 299.82, 300.29, 300.77, 301.23, 301.7, 302.18, 302.64, 303.11, 303.58, 304.06, 304.52, 305.0, 305.46, 305.94, 306.41, 306.88, 307.35, 307.82, 308.29, 308.76, 309.23, 309.7, 310.17, 310.64, 311.12, 311.59, 312.06, 312.52, 313.0, 313.47, 313.94, 314.42, 314.88, 315.35, 315.83, 316.3, 316.76, 317.24, 317.71, 318.17, 318.64, 319.12, 319.59, 320.06, 320.52, 321.0, 321.47, 321.94, 322.42, 322.88, 323.36, 323.83, 324.3, 324.76, 325.24, 325.81, 326.28, 326.75, 327.21, 327.69, 328.16, 328.64, 329.1, 329.57, 330.05, 330.52, 330.99, 331.46, 331.93, 332.39, 332.87, 333.34, 333.81, 334.28, 334.75, 335.23, 335.7, 336.16, 336.63, 337.11, 337.57, 338.05, 338.52, 338.99, 339.46, 339.93, 339.99, 340.0, 340.01, 340.04, 340.21, 340.3]\n",
      "Number of T = 113\n"
     ]
    }
   ],
   "source": [
    "Indirect.Treading(path)\n"
   ]
  },
  {
   "cell_type": "code",
   "execution_count": 31,
   "metadata": {},
   "outputs": [
    {
     "ename": "NameError",
     "evalue": "name 'temperature' is not defined",
     "output_type": "error",
     "traceback": [
      "\u001b[1;31m---------------------------------------------------------------------------\u001b[0m",
      "\u001b[1;31mNameError\u001b[0m                                 Traceback (most recent call last)",
      "\u001b[1;32mg:\\Other computers\\My Laptop\\PhD-Zipeng\\Modelling\\Library_indirect.ipynb Cell 5'\u001b[0m in \u001b[0;36m<cell line: 1>\u001b[1;34m()\u001b[0m\n\u001b[1;32m----> <a href='vscode-notebook-cell:/g%3A/Other%20computers/My%20Laptop/PhD-Zipeng/Modelling/Library_indirect.ipynb#ch0000006?line=0'>1</a>\u001b[0m Indirect\u001b[39m.\u001b[39;49mPEresolve(path)\n",
      "\u001b[1;32mg:\\Other computers\\My Laptop\\PhD-Zipeng\\Modelling\\Library_indirect.ipynb Cell 2'\u001b[0m in \u001b[0;36mIndirect.PEresolve\u001b[1;34m(path)\u001b[0m\n\u001b[0;32m     <a href='vscode-notebook-cell:/g%3A/Other%20computers/My%20Laptop/PhD-Zipeng/Modelling/Library_indirect.ipynb#ch0000001?line=32'>33</a>\u001b[0m y \u001b[39m=\u001b[39m P_upper[\u001b[39m'\u001b[39m\u001b[39mP_SI\u001b[39m\u001b[39m'\u001b[39m]\n\u001b[0;32m     <a href='vscode-notebook-cell:/g%3A/Other%20computers/My%20Laptop/PhD-Zipeng/Modelling/Library_indirect.ipynb#ch0000001?line=33'>34</a>\u001b[0m f \u001b[39m=\u001b[39m interp1d(x, y, fill_value\u001b[39m=\u001b[39m\u001b[39m\"\u001b[39m\u001b[39mextrapolate\u001b[39m\u001b[39m\"\u001b[39m,kind\u001b[39m=\u001b[39m\u001b[39m'\u001b[39m\u001b[39mnext\u001b[39m\u001b[39m'\u001b[39m)\n\u001b[1;32m---> <a href='vscode-notebook-cell:/g%3A/Other%20computers/My%20Laptop/PhD-Zipeng/Modelling/Library_indirect.ipynb#ch0000001?line=35'>36</a>\u001b[0m column_name \u001b[39m=\u001b[39m \u001b[39mstr\u001b[39m(temperature[i])\n\u001b[0;32m     <a href='vscode-notebook-cell:/g%3A/Other%20computers/My%20Laptop/PhD-Zipeng/Modelling/Library_indirect.ipynb#ch0000001?line=36'>37</a>\u001b[0m P_upper_fitting\u001b[39m.\u001b[39minsert(\u001b[39mlen\u001b[39m(P_upper_fitting\u001b[39m.\u001b[39mcolumns), column_name, f(E))\n\u001b[0;32m     <a href='vscode-notebook-cell:/g%3A/Other%20computers/My%20Laptop/PhD-Zipeng/Modelling/Library_indirect.ipynb#ch0000001?line=37'>38</a>\u001b[0m plt\u001b[39m.\u001b[39mplot(y)\n",
      "\u001b[1;31mNameError\u001b[0m: name 'temperature' is not defined"
     ]
    }
   ],
   "source": [
    "Indirect.PEresolve(path)"
   ]
  },
  {
   "cell_type": "code",
   "execution_count": 24,
   "metadata": {},
   "outputs": [
    {
     "data": {
      "text/html": [
       "<div>\n",
       "<style scoped>\n",
       "    .dataframe tbody tr th:only-of-type {\n",
       "        vertical-align: middle;\n",
       "    }\n",
       "\n",
       "    .dataframe tbody tr th {\n",
       "        vertical-align: top;\n",
       "    }\n",
       "\n",
       "    .dataframe thead th {\n",
       "        text-align: right;\n",
       "    }\n",
       "</style>\n",
       "<table border=\"1\" class=\"dataframe\">\n",
       "  <thead>\n",
       "    <tr style=\"text-align: right;\">\n",
       "      <th></th>\n",
       "      <th>#Drive Voltage</th>\n",
       "      <th>E</th>\n",
       "      <th>E-kV</th>\n",
       "      <th>Measured Polarization</th>\n",
       "      <th>P_SI</th>\n",
       "      <th>Point</th>\n",
       "      <th>Time (ms)</th>\n",
       "    </tr>\n",
       "  </thead>\n",
       "  <tbody>\n",
       "    <tr>\n",
       "      <th>0</th>\n",
       "      <td>-1.1444</td>\n",
       "      <td>-2330.754</td>\n",
       "      <td>-0.023308</td>\n",
       "      <td>-3.453716</td>\n",
       "      <td>-0.034537</td>\n",
       "      <td>1.0</td>\n",
       "      <td>0.05</td>\n",
       "    </tr>\n",
       "    <tr>\n",
       "      <th>1</th>\n",
       "      <td>-3.1281</td>\n",
       "      <td>-6370.876</td>\n",
       "      <td>-0.063709</td>\n",
       "      <td>-3.452673</td>\n",
       "      <td>-0.034527</td>\n",
       "      <td>2.0</td>\n",
       "      <td>0.10</td>\n",
       "    </tr>\n",
       "    <tr>\n",
       "      <th>2</th>\n",
       "      <td>-2.3651</td>\n",
       "      <td>-4816.904</td>\n",
       "      <td>-0.048169</td>\n",
       "      <td>-3.456061</td>\n",
       "      <td>-0.034561</td>\n",
       "      <td>3.0</td>\n",
       "      <td>0.15</td>\n",
       "    </tr>\n",
       "    <tr>\n",
       "      <th>3</th>\n",
       "      <td>-3.3569</td>\n",
       "      <td>-6836.864</td>\n",
       "      <td>-0.068369</td>\n",
       "      <td>-3.450067</td>\n",
       "      <td>-0.034501</td>\n",
       "      <td>4.0</td>\n",
       "      <td>0.20</td>\n",
       "    </tr>\n",
       "    <tr>\n",
       "      <th>4</th>\n",
       "      <td>1.2970</td>\n",
       "      <td>2641.548</td>\n",
       "      <td>0.026415</td>\n",
       "      <td>-3.449807</td>\n",
       "      <td>-0.034498</td>\n",
       "      <td>5.0</td>\n",
       "      <td>0.25</td>\n",
       "    </tr>\n",
       "  </tbody>\n",
       "</table>\n",
       "</div>"
      ],
      "text/plain": [
       "   #Drive Voltage         E      E-kV  Measured Polarization      P_SI  Point  \\\n",
       "0         -1.1444 -2330.754 -0.023308              -3.453716 -0.034537    1.0   \n",
       "1         -3.1281 -6370.876 -0.063709              -3.452673 -0.034527    2.0   \n",
       "2         -2.3651 -4816.904 -0.048169              -3.456061 -0.034561    3.0   \n",
       "3         -3.3569 -6836.864 -0.068369              -3.450067 -0.034501    4.0   \n",
       "4          1.2970  2641.548  0.026415              -3.449807 -0.034498    5.0   \n",
       "\n",
       "   Time (ms)  \n",
       "0       0.05  \n",
       "1       0.10  \n",
       "2       0.15  \n",
       "3       0.20  \n",
       "4       0.25  "
      ]
     },
     "execution_count": 24,
     "metadata": {},
     "output_type": "execute_result"
    }
   ],
   "source": [
    "df = pd.read_csv(r'C:\\Users\\Caloric\\Documents\\Data for Python\\No1 PlasticCrytal\\PE loops heating new\\290.00.tab', delimiter='\\t', encoding= 'unicode_escape')\n",
    "# df = pd.read_csv(file,delimiter='\\t', engine='python')\n",
    "# index1 = df['P_SI'].idxmax()\n",
    "df.head(5)"
   ]
  },
  {
   "cell_type": "code",
   "execution_count": null,
   "metadata": {},
   "outputs": [],
   "source": []
  }
 ],
 "metadata": {
  "interpreter": {
   "hash": "c82e342fd82888b45ad893b78b5d4f7a4244b6ad3d3cff9760ae4daa08365d20"
  },
  "kernelspec": {
   "display_name": "Python 3.10.4 64-bit",
   "language": "python",
   "name": "python3"
  },
  "language_info": {
   "codemirror_mode": {
    "name": "ipython",
    "version": 3
   },
   "file_extension": ".py",
   "mimetype": "text/x-python",
   "name": "python",
   "nbconvert_exporter": "python",
   "pygments_lexer": "ipython3",
   "version": "3.10.4"
  },
  "orig_nbformat": 4
 },
 "nbformat": 4,
 "nbformat_minor": 2
}
