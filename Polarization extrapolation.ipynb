{
 "cells": [
  {
   "cell_type": "code",
   "execution_count": 2,
   "metadata": {
    "collapsed": true
   },
   "outputs": [],
   "source": [
    "import re\n",
    "import os \n",
    "from glob import glob\n",
    "import pandas as pd\n",
    "import numpy as np\n",
    "import matplotlib as mpl\n",
    "import matplotlib.pyplot as plt\n",
    "from sklearn.linear_model import LinearRegression"
   ]
  },
  {
   "cell_type": "code",
   "execution_count": 3,
   "metadata": {
    "scrolled": true
   },
   "outputs": [
    {
     "name": "stdout",
     "output_type": "stream",
     "text": [
      "[299.98, 299.99, 300.03, 300.95, 301.95, 302.88, 303.82, 304.77, 305.68, 306.5, 307.54, 308.43, 309.36, 310.21, 311.12, 312.06, 313.1, 313.9, 314.8, 315.59, 316.61, 317.57, 318.41, 319.44, 320.47, 321.15, 322.06, 323.08, 324.02, 324.89, 325.73, 326.8, 327.67, 328.61, 329.3, 330.48, 331.05, 332.08, 332.94, 333.97, 335.08, 335.77, 336.8, 337.85, 338.49, 339.45, 340.15, 341.25, 342.05, 342.98, 344.25, 344.79, 345.75, 346.7, 347.6, 348.5, 349.13, 350.44, 351.16, 352.56, 353.33, 353.96, 354.8, 355.83, 356.63, 357.56, 358.69, 359.27, 360.6, 361.16, 362.31, 363.06, 363.87, 365.1, 365.75, 366.7, 367.8, 368.89, 369.49, 370.53, 371.08, 372.37, 373.31, 374.17, 374.82, 375.8, 377.13, 377.79, 378.46, 379.71, 380.49, 381.17, 382.57, 383.34, 383.9, 384.86, 385.64, 387.26, 388.08, 388.47, 389.82, 390.38, 391.03, 392.17, 393.48, 394.06, 394.65, 395.9, 397.17, 397.94, 398.76, 399.8, 400.23]\n"
     ]
    }
   ],
   "source": [
    "#从文件名提取温度with regular expression\n",
    "path = r'C:\\Users\\Dev\\Desktop\\MPhil-Zipeng Liu\\Paperwork\\Experiments\\US-BTO\\Following up with Gian\\Sn0\\20kvcm\\PE loop-heating-20kvcm'\n",
    "files = os.listdir(path)\n",
    "temperature = list()\n",
    "for file in files:\n",
    "    if file.endswith(\".tab\"):\n",
    "        num = re.findall(r\"\\d+.\\d+\", file)\n",
    "        temperature.append(float(num[0]))\n",
    "print(temperature)"
   ]
  },
  {
   "cell_type": "code",
   "execution_count": 13,
   "metadata": {},
   "outputs": [
    {
     "name": "stdout",
     "output_type": "stream",
     "text": [
      "             E      P_SI\n",
      "250  1957212.0  0.213493\n",
      "251  1963479.0  0.213924\n",
      "252  1971654.0  0.214094\n"
     ]
    },
    {
     "data": {
      "image/png": "[encoded data removed]",
      "text/plain": [
       "<matplotlib.figure.Figure at 0xc768da0>"
      ]
     },
     "metadata": {},
     "output_type": "display_data"
    }
   ],
   "source": [
    "#读取单个的PE loop的文件\n",
    "df = pd.read_csv(r'C:\\Users\\Dev\\Desktop\\MPhil-Zipeng Liu\\Paperwork\\Experiments\\US-BTO\\Following up with Gian\\Sn0\\20kvcm\\PE loop-heating-20kvcm\\299.98.tab',delimiter='\\t')\n",
    "df.head\n",
    "#选取PE loop 的upper branch的右端做fitting，整个loop1000个点，upperbranch 250个点，再取50个点做外推\n",
    "df_PE=df.iloc[250:300, [1,5]]\n",
    "print(df_PE.head(3))\n",
    "plt.plot(df_PE['E'], df_PE['P_SI'],'go--') \n",
    "plt.show()"
   ]
  },
  {
   "cell_type": "code",
   "execution_count": 17,
   "metadata": {},
   "outputs": [
    {
     "name": "stdout",
     "output_type": "stream",
     "text": [
      "1.82420783799e-08\n",
      "0.178876576773\n"
     ]
    }
   ],
   "source": [
    "#用sklearn的函数做linear regression\n",
    "fittingMatrix=np.matrix(df_PE)\n",
    "X=fittingMatrix[:,0]\n",
    "Y=fittingMatrix[:,1]\n",
    "mdl= LinearRegression().fit(X,Y)\n",
    "a = mdl.coef_[0]\n",
    "b = mdl.intercept_\n",
    "print(a[0])\n",
    "print(b[0])\n",
    "# print(X,Y)"
   ]
  },
  {
   "cell_type": "code",
   "execution_count": 21,
   "metadata": {},
   "outputs": [
    {
     "data": {
      "image/png": "[encoded data removed]",
      "text/plain": [
       "<matplotlib.figure.Figure at 0xcb218d0>"
      ]
     },
     "metadata": {},
     "output_type": "display_data"
    }
   ],
   "source": [
    "##画fitting line\n",
    "xx=np.arange(1500000,2000000, 100)\n",
    "yy=list()\n",
    "for ii in xx:\n",
    "    y=ii*a+b\n",
    "    yy.append(y)\n",
    "plt.plot(xx,yy,\"r\")\n",
    "#画PE loop的散点图\n",
    "plt.scatter([X],[Y],c='g',alpha=0.5)\n",
    "plt.show()"
   ]
  },
  {
   "cell_type": "code",
   "execution_count": 22,
   "metadata": {
    "collapsed": true
   },
   "outputs": [],
   "source": [
    "#批量操作所有文件\n",
    "# files = glob.glob(path + \"/*.tab\")\n",
    "files = glob(path + \"/*.tab\")\n",
    "lst_a=list()\n",
    "lst_b=list()\n",
    "lst_T=list()\n",
    "for file in files:\n",
    "    df = pd.read_csv(file,delimiter='\\t')\n",
    "    df_PE=df.iloc[250:300, [1,5]]\n",
    "    fittingMatrix=np.matrix(df_PE)\n",
    "    X=fittingMatrix[:,0]\n",
    "    Y=fittingMatrix[:,1]\n",
    "    mdl= LinearRegression().fit(X,Y)\n",
    "    a = mdl.coef_[0]\n",
    "    b = mdl.intercept_\n",
    "    lst_a.append(a[0])\n",
    "    lst_b.append(b[0])\n",
    "# print(lst_a)\n",
    "# print(\"!!!!!!!!!!!!!!!!!!!!!!!!!!\")\n",
    "# print(lst_b)\n",
    "# print(lst_T)"
   ]
  },
  {
   "cell_type": "code",
   "execution_count": 38,
   "metadata": {},
   "outputs": [
    {
     "name": "stdout",
     "output_type": "stream",
     "text": [
      "        T             a         b\n",
      "0  299.98  1.824208e-08  0.178877\n",
      "1  299.99  1.839250e-08  0.178130\n",
      "2  300.03  1.914498e-08  0.178452\n"
     ]
    },
    {
     "data": {
      "text/html": [
       "<div>\n",
       "<style>\n",
       "    .dataframe thead tr:only-child th {\n",
       "        text-align: right;\n",
       "    }\n",
       "\n",
       "    .dataframe thead th {\n",
       "        text-align: left;\n",
       "    }\n",
       "\n",
       "    .dataframe tbody tr th {\n",
       "        vertical-align: top;\n",
       "    }\n",
       "</style>\n",
       "<table border=\"1\" class=\"dataframe\">\n",
       "  <thead>\n",
       "    <tr style=\"text-align: right;\">\n",
       "      <th></th>\n",
       "      <th>T</th>\n",
       "      <th>a</th>\n",
       "      <th>b</th>\n",
       "      <th>P_0_SI</th>\n",
       "      <th>P_5_SI</th>\n",
       "      <th>P_10_SI</th>\n",
       "      <th>P_15_SI</th>\n",
       "      <th>P_20_SI</th>\n",
       "      <th>P_0</th>\n",
       "      <th>P_5</th>\n",
       "      <th>P_10</th>\n",
       "      <th>P_15</th>\n",
       "      <th>P_20</th>\n",
       "    </tr>\n",
       "  </thead>\n",
       "  <tbody>\n",
       "    <tr>\n",
       "      <th>0</th>\n",
       "      <td>299.98</td>\n",
       "      <td>1.824208e-08</td>\n",
       "      <td>0.178877</td>\n",
       "      <td>0.178877</td>\n",
       "      <td>0.187998</td>\n",
       "      <td>0.197119</td>\n",
       "      <td>0.206240</td>\n",
       "      <td>0.215361</td>\n",
       "      <td>17.887658</td>\n",
       "      <td>18.799762</td>\n",
       "      <td>19.711866</td>\n",
       "      <td>20.623969</td>\n",
       "      <td>21.536073</td>\n",
       "    </tr>\n",
       "    <tr>\n",
       "      <th>1</th>\n",
       "      <td>299.99</td>\n",
       "      <td>1.839250e-08</td>\n",
       "      <td>0.178130</td>\n",
       "      <td>0.178130</td>\n",
       "      <td>0.187326</td>\n",
       "      <td>0.196523</td>\n",
       "      <td>0.205719</td>\n",
       "      <td>0.214915</td>\n",
       "      <td>17.813000</td>\n",
       "      <td>18.732625</td>\n",
       "      <td>19.652250</td>\n",
       "      <td>20.571875</td>\n",
       "      <td>21.491500</td>\n",
       "    </tr>\n",
       "    <tr>\n",
       "      <th>2</th>\n",
       "      <td>300.03</td>\n",
       "      <td>1.914498e-08</td>\n",
       "      <td>0.178452</td>\n",
       "      <td>0.178452</td>\n",
       "      <td>0.188025</td>\n",
       "      <td>0.197597</td>\n",
       "      <td>0.207170</td>\n",
       "      <td>0.216742</td>\n",
       "      <td>17.845233</td>\n",
       "      <td>18.802482</td>\n",
       "      <td>19.759731</td>\n",
       "      <td>20.716979</td>\n",
       "      <td>21.674228</td>\n",
       "    </tr>\n",
       "  </tbody>\n",
       "</table>\n",
       "</div>"
      ],
      "text/plain": [
       "        T             a         b    P_0_SI    P_5_SI   P_10_SI   P_15_SI  \\\n",
       "0  299.98  1.824208e-08  0.178877  0.178877  0.187998  0.197119  0.206240   \n",
       "1  299.99  1.839250e-08  0.178130  0.178130  0.187326  0.196523  0.205719   \n",
       "2  300.03  1.914498e-08  0.178452  0.178452  0.188025  0.197597  0.207170   \n",
       "\n",
       "    P_20_SI        P_0        P_5       P_10       P_15       P_20  \n",
       "0  0.215361  17.887658  18.799762  19.711866  20.623969  21.536073  \n",
       "1  0.214915  17.813000  18.732625  19.652250  20.571875  21.491500  \n",
       "2  0.216742  17.845233  18.802482  19.759731  20.716979  21.674228  "
      ]
     },
     "execution_count": 38,
     "metadata": {},
     "output_type": "execute_result"
    }
   ],
   "source": [
    "#将list转化成dictionary，然后转化成DataFrame\n",
    "dic={\"a\":lst_a,\n",
    "  \"b\":lst_b,\n",
    "  \"T\":temperature}\n",
    "dt=pd.DataFrame(dic)\n",
    "print(dt.head(3))\n",
    "\n",
    "P_0_SI = dt[\"a\"] *0*100000+ dt[\"b\"]\n",
    "P_5_SI = dt[\"a\"] *5*100000+ dt[\"b\"]\n",
    "P_10_SI = dt[\"a\"] *10*100000+ dt[\"b\"]\n",
    "P_15_SI = dt[\"a\"] *15*100000+ dt[\"b\"]\n",
    "P_20_SI = dt[\"a\"] *20*100000+ dt[\"b\"]\n",
    "\n",
    "dt.insert(len(dt.columns), \"P_0_SI\", P_0_SI)\n",
    "dt.insert(len(dt.columns), \"P_5_SI\", P_5_SI)\n",
    "dt.insert(len(dt.columns), \"P_10_SI\", P_10_SI)\n",
    "dt.insert(len(dt.columns), \"P_15_SI\", P_15_SI)\n",
    "dt.insert(len(dt.columns), \"P_20_SI\", P_20_SI)\n",
    "\n",
    "#convert the SI unit into kV/cm\n",
    "P_0 = 100*P_0_SI\n",
    "P_5 = 100*P_5_SI\n",
    "P_10 = 100*P_10_SI\n",
    "P_15 = 100*P_15_SI\n",
    "P_20 = 100*P_20_SI\n",
    "\n",
    "dt.insert(len(dt.columns), \"P_0\", P_0)\n",
    "dt.insert(len(dt.columns), \"P_5\", P_5)\n",
    "dt.insert(len(dt.columns), \"P_10\", P_10)\n",
    "dt.insert(len(dt.columns), \"P_15\", P_15)\n",
    "dt.insert(len(dt.columns), \"P_20\", P_20)\n",
    "\n",
    "dt.head(3)\n",
    "# dt.to_csv(r'C:\\Users\\Dev\\Desktop\\MPhil-Zipeng Liu\\Paperwork\\Experiments\\US-BTO\\Following up with Gian\\Sn0\\20kvcm\\PE loop-heating-20kvcm\\Extropolated PT at E.csv')"
   ]
  }
 ],
 "metadata": {
  "kernelspec": {
   "display_name": "Python 3",
   "language": "python",
   "name": "python3"
  }
 },
 "nbformat": 4,
 "nbformat_minor": 2
}
