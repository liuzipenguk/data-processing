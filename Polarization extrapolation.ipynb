{
 "cells": [
  {
   "cell_type": "code",
   "execution_count": 17,
   "metadata": {
    "collapsed": true
   },
   "outputs": [],
   "source": [
    "import re\n",
    "import os \n",
    "from glob import glob\n",
    "import pandas as pd\n",
    "import numpy as np\n",
    "import matplotlib as mpl\n",
    "import matplotlib.pyplot as plt\n",
    "from sklearn.linear_model import LinearRegression"
   ]
  },
  {
   "cell_type": "code",
   "execution_count": 23,
   "metadata": {
    "scrolled": true
   },
   "outputs": [
    {
     "name": "stdout",
     "output_type": "stream",
     "text": [
      "<class 'list'>\n"
     ]
    }
   ],
   "source": [
    "#从文件名提取温度with regular expression\n",
    "path = r'C:\\Users\\Dev\\Desktop\\MPhil-Zipeng Liu\\Paperwork\\Experiments\\US-BTO\\Following up with Gian\\Sn0\\20kvcm\\PE loop-heating-20kvcm'\n",
    "files = os.listdir(path)\n",
    "print(type(files))\n",
    "#只提取.tab格式的文件\n",
    "files_tab = filter(lambda x: x[-4:]=='.tab' , files)\n",
    "\n",
    "temperature = list()\n",
    "for i in files_tab:\n",
    "    num = re.findall(r\"\\d+.\\d+\", i)\n",
    "    temperature.append(num)\n",
    "# print(temperature)\n"
   ]
  },
  {
   "cell_type": "code",
   "execution_count": 50,
   "metadata": {},
   "outputs": [
    {
     "name": "stdout",
     "output_type": "stream",
     "text": [
      "             E      P_SI\n",
      "250  1957212.0  0.213493\n",
      "251  1963479.0  0.213924\n",
      "252  1971654.0  0.214094\n"
     ]
    },
    {
     "data": {
      "image/png": "[encoded data removed]",
      "text/plain": [
       "<matplotlib.figure.Figure at 0xd141780>"
      ]
     },
     "metadata": {},
     "output_type": "display_data"
    }
   ],
   "source": [
    "#读取单个的PE loop的文件\n",
    "df = pd.read_csv(r'C:\\Users\\Dev\\Desktop\\MPhil-Zipeng Liu\\Paperwork\\Experiments\\US-BTO\\Following up with Gian\\Sn0\\20kvcm\\PE loop-heating-20kvcm\\299.98.tab',delimiter='\\t')\n",
    "df.head\n",
    "#选取PE loop 的upper branch的右端做fitting，整个loop1000个点，upperbranch 250个点，再取50个点做外推\n",
    "df_PE=df.iloc[250:300, [1,5]]\n",
    "print(df_PE.head(3))\n",
    "df_PE.plot(x='E', y='P_SI') \n",
    "plt.show()"
   ]
  },
  {
   "cell_type": "code",
   "execution_count": 82,
   "metadata": {},
   "outputs": [
    {
     "name": "stdout",
     "output_type": "stream",
     "text": [
      "3.49690144015e-08\n",
      "0.0453912685581\n",
      "[ 814779.51990383]\n"
     ]
    }
   ],
   "source": [
    "#用sklearn的函数做linear regression\n",
    "fittingMatrix=np.matrix(df_PE)\n",
    "X=fittingMatrix[:,0]\n",
    "Y=fittingMatrix[:,1]\n",
    "mdl= LinearRegression().fit(X,Y)\n",
    "a = mdl.coef_[0]\n",
    "b = mdl.intercept_\n",
    "print(a[0])\n",
    "print(b[0])\n",
    "# print(X,Y)"
   ]
  },
  {
   "cell_type": "code",
   "execution_count": 27,
   "metadata": {},
   "outputs": [
    {
     "data": {
      "image/png": "[encoded data removed]",
      "text/plain": [
       "<matplotlib.figure.Figure at 0xc6e8b70>"
      ]
     },
     "metadata": {},
     "output_type": "display_data"
    }
   ],
   "source": [
    "##画fitting line\n",
    "xx=np.arange(1500000,2000000, 100)\n",
    "yy=list()\n",
    "for ii in xx:\n",
    "    y=ii*a+b\n",
    "    yy.append(y)\n",
    "plt.plot(xx,yy,\"r\")\n",
    "#画PE loop的散点图\n",
    "plt.scatter([X],[Y])\n",
    "plt.show()"
   ]
  },
  {
   "cell_type": "code",
   "execution_count": 67,
   "metadata": {},
   "outputs": [],
   "source": [
    "#批量操作所有文件\n",
    "# files = glob.glob(path + \"/*.tab\")\n",
    "files = glob(path + \"/*.tab\")\n",
    "lst_a=list()\n",
    "lst_b=list()\n",
    "lst_T=list()\n",
    "n=0\n",
    "for file in files:\n",
    "    df = pd.read_csv(file,delimiter='\\t')\n",
    "    df_PE=df.iloc[250:300, [1,5]]\n",
    "    fittingMatrix=np.matrix(df_PE)\n",
    "    X=fittingMatrix[:,0]\n",
    "    Y=fittingMatrix[:,1]\n",
    "    mdl= LinearRegression().fit(X,Y)\n",
    "    a = mdl.coef_[0]\n",
    "    b = mdl.intercept_\n",
    "    T = temperature[n]\n",
    "    lst_a.append(a[0])\n",
    "    lst_b.append(b[0])\n",
    "    lst_T.append(T[0])\n",
    "    n=n+1\n",
    "# print(lst_a)\n",
    "# print(\"!!!!!!!!!!!!!!!!!!!!!!!!!!\")\n",
    "# print(lst_b)\n",
    "# print(lst_T)"
   ]
  },
  {
   "cell_type": "code",
   "execution_count": 88,
   "metadata": {},
   "outputs": [],
   "source": [
    "#将list转化成dictionary，然后转化成DataFrame\n",
    "dic={\"a\":lst_a,\n",
    "  \"b\":lst_b,\n",
    "  \"T\":lst_T}\n",
    "dt=pd.DataFrame(dic)\n",
    "dt.head(3)\n",
    "dt.to_csv(r'C:\\Users\\Dev\\Desktop\\MPhil-Zipeng Liu\\Paperwork\\Experiments\\US-BTO\\Following up with Gian\\Sn0\\20kvcm\\PE loop-heating-20kvcm\\final_matrix.csv')"
   ]
  }
 ],
 "metadata": {
  "kernelspec": {
   "display_name": "Python 3",
   "language": "python",
   "name": "python3"
  },
  "language_info": {
   "codemirror_mode": {
    "name": "ipython",
    "version": 3
   },
   "file_extension": ".py",
   "mimetype": "text/x-python",
   "name": "python",
   "nbconvert_exporter": "python",
   "pygments_lexer": "ipython3",
   "version": "3.6.3"
  }
 },
 "nbformat": 4,
 "nbformat_minor": 2
}
