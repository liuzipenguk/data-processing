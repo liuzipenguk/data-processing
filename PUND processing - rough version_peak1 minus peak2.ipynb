{
 "cells": [
  {
   "cell_type": "code",
   "execution_count": 2,
   "metadata": {
    "collapsed": true
   },
   "outputs": [],
   "source": [
    "import re\n",
    "import os \n",
    "from glob import glob\n",
    "import pandas as pd\n",
    "import numpy as np\n",
    "import matplotlib as mpl\n",
    "import matplotlib.pyplot as plt\n",
    "from sklearn.linear_model import LinearRegression\n",
    "from scipy import integrate\n",
    "from scipy.signal import find_peaks"
   ]
  },
  {
   "cell_type": "code",
   "execution_count": 3,
   "metadata": {},
   "outputs": [
    {
     "data": {
      "text/html": [
       "<div>\n",
       "<style>\n",
       "    .dataframe thead tr:only-child th {\n",
       "        text-align: right;\n",
       "    }\n",
       "\n",
       "    .dataframe thead th {\n",
       "        text-align: left;\n",
       "    }\n",
       "\n",
       "    .dataframe tbody tr th {\n",
       "        vertical-align: top;\n",
       "    }\n",
       "</style>\n",
       "<table border=\"1\" class=\"dataframe\">\n",
       "  <thead>\n",
       "    <tr style=\"text-align: right;\">\n",
       "      <th></th>\n",
       "      <th>#Drive Voltage</th>\n",
       "      <th>E_SI</th>\n",
       "      <th>Measured Polarization</th>\n",
       "      <th>P_SI</th>\n",
       "      <th>Point</th>\n",
       "      <th>Time (ms)</th>\n",
       "    </tr>\n",
       "  </thead>\n",
       "  <tbody>\n",
       "    <tr>\n",
       "      <th>0</th>\n",
       "      <td>-8.3160</td>\n",
       "      <td>-8.3160</td>\n",
       "      <td>-2.360650</td>\n",
       "      <td>-0.023606</td>\n",
       "      <td>1.0</td>\n",
       "      <td>0.05</td>\n",
       "    </tr>\n",
       "    <tr>\n",
       "      <th>1</th>\n",
       "      <td>-2.8229</td>\n",
       "      <td>-2.8229</td>\n",
       "      <td>-2.357132</td>\n",
       "      <td>-0.023571</td>\n",
       "      <td>2.0</td>\n",
       "      <td>0.10</td>\n",
       "    </tr>\n",
       "    <tr>\n",
       "      <th>2</th>\n",
       "      <td>-3.5858</td>\n",
       "      <td>-3.5858</td>\n",
       "      <td>-2.350934</td>\n",
       "      <td>-0.023509</td>\n",
       "      <td>3.0</td>\n",
       "      <td>0.15</td>\n",
       "    </tr>\n",
       "    <tr>\n",
       "      <th>3</th>\n",
       "      <td>-4.8065</td>\n",
       "      <td>-4.8065</td>\n",
       "      <td>-2.344568</td>\n",
       "      <td>-0.023446</td>\n",
       "      <td>4.0</td>\n",
       "      <td>0.20</td>\n",
       "    </tr>\n",
       "    <tr>\n",
       "      <th>4</th>\n",
       "      <td>1.5259</td>\n",
       "      <td>1.5259</td>\n",
       "      <td>-2.336025</td>\n",
       "      <td>-0.023360</td>\n",
       "      <td>5.0</td>\n",
       "      <td>0.25</td>\n",
       "    </tr>\n",
       "    <tr>\n",
       "      <th>5</th>\n",
       "      <td>2.5940</td>\n",
       "      <td>2.5940</td>\n",
       "      <td>-2.330664</td>\n",
       "      <td>-0.023307</td>\n",
       "      <td>6.0</td>\n",
       "      <td>0.30</td>\n",
       "    </tr>\n",
       "    <tr>\n",
       "      <th>6</th>\n",
       "      <td>0.0763</td>\n",
       "      <td>0.0763</td>\n",
       "      <td>-2.326309</td>\n",
       "      <td>-0.023263</td>\n",
       "      <td>7.0</td>\n",
       "      <td>0.35</td>\n",
       "    </tr>\n",
       "    <tr>\n",
       "      <th>7</th>\n",
       "      <td>-3.3569</td>\n",
       "      <td>-3.3569</td>\n",
       "      <td>-2.318436</td>\n",
       "      <td>-0.023184</td>\n",
       "      <td>8.0</td>\n",
       "      <td>0.40</td>\n",
       "    </tr>\n",
       "    <tr>\n",
       "      <th>8</th>\n",
       "      <td>6.7139</td>\n",
       "      <td>6.7139</td>\n",
       "      <td>-2.312070</td>\n",
       "      <td>-0.023121</td>\n",
       "      <td>9.0</td>\n",
       "      <td>0.45</td>\n",
       "    </tr>\n",
       "    <tr>\n",
       "      <th>9</th>\n",
       "      <td>4.9591</td>\n",
       "      <td>4.9591</td>\n",
       "      <td>-2.306877</td>\n",
       "      <td>-0.023069</td>\n",
       "      <td>10.0</td>\n",
       "      <td>0.50</td>\n",
       "    </tr>\n",
       "  </tbody>\n",
       "</table>\n",
       "</div>"
      ],
      "text/plain": [
       "   #Drive Voltage    E_SI  Measured Polarization      P_SI  Point  Time (ms)\n",
       "0         -8.3160 -8.3160              -2.360650 -0.023606    1.0       0.05\n",
       "1         -2.8229 -2.8229              -2.357132 -0.023571    2.0       0.10\n",
       "2         -3.5858 -3.5858              -2.350934 -0.023509    3.0       0.15\n",
       "3         -4.8065 -4.8065              -2.344568 -0.023446    4.0       0.20\n",
       "4          1.5259  1.5259              -2.336025 -0.023360    5.0       0.25\n",
       "5          2.5940  2.5940              -2.330664 -0.023307    6.0       0.30\n",
       "6          0.0763  0.0763              -2.326309 -0.023263    7.0       0.35\n",
       "7         -3.3569 -3.3569              -2.318436 -0.023184    8.0       0.40\n",
       "8          6.7139  6.7139              -2.312070 -0.023121    9.0       0.45\n",
       "9          4.9591  4.9591              -2.306877 -0.023069   10.0       0.50"
      ]
     },
     "execution_count": 3,
     "metadata": {},
     "output_type": "execute_result"
    }
   ],
   "source": [
    "#读取单个的PE loop的文件\n",
    "df = pd.read_csv(r'C:\\PhD-Zipeng\\Research projects\\PUND\\BF4 PUND PE Heating\\365.18.tab',delimiter='\\t',encoding= 'unicode_escape')\n",
    "df.head(10)"
   ]
  },
  {
   "cell_type": "code",
   "execution_count": 4,
   "metadata": {},
   "outputs": [
    {
     "name": "stdout",
     "output_type": "stream",
     "text": [
      "<class 'pandas.core.series.Series'>\n"
     ]
    },
    {
     "data": {
      "image/png": "[encoded data removed]",
      "text/plain": [
       "<Figure size 432x288 with 1 Axes>"
      ]
     },
     "metadata": {},
     "output_type": "display_data"
    },
    {
     "name": "stdout",
     "output_type": "stream",
     "text": [
      "[ 250  750 1500]\n"
     ]
    },
    {
     "data": {
      "text/html": [
       "<div>\n",
       "<style>\n",
       "    .dataframe thead tr:only-child th {\n",
       "        text-align: right;\n",
       "    }\n",
       "\n",
       "    .dataframe thead th {\n",
       "        text-align: left;\n",
       "    }\n",
       "\n",
       "    .dataframe tbody tr th {\n",
       "        vertical-align: top;\n",
       "    }\n",
       "</style>\n",
       "<table border=\"1\" class=\"dataframe\">\n",
       "  <thead>\n",
       "    <tr style=\"text-align: right;\">\n",
       "      <th></th>\n",
       "      <th>#Drive Voltage</th>\n",
       "      <th>E_SI</th>\n",
       "      <th>Measured Polarization</th>\n",
       "      <th>P_SI</th>\n",
       "      <th>Point</th>\n",
       "      <th>Time (ms)</th>\n",
       "    </tr>\n",
       "  </thead>\n",
       "  <tbody>\n",
       "    <tr>\n",
       "      <th>250</th>\n",
       "      <td>296.3257</td>\n",
       "      <td>296.3257</td>\n",
       "      <td>3.386357</td>\n",
       "      <td>0.033864</td>\n",
       "      <td>251.0</td>\n",
       "      <td>12.55</td>\n",
       "    </tr>\n",
       "    <tr>\n",
       "      <th>251</th>\n",
       "      <td>297.2412</td>\n",
       "      <td>297.2412</td>\n",
       "      <td>3.385687</td>\n",
       "      <td>0.033857</td>\n",
       "      <td>252.0</td>\n",
       "      <td>12.60</td>\n",
       "    </tr>\n",
       "    <tr>\n",
       "      <th>252</th>\n",
       "      <td>292.3584</td>\n",
       "      <td>292.3584</td>\n",
       "      <td>3.385519</td>\n",
       "      <td>0.033855</td>\n",
       "      <td>253.0</td>\n",
       "      <td>12.65</td>\n",
       "    </tr>\n",
       "    <tr>\n",
       "      <th>253</th>\n",
       "      <td>290.9851</td>\n",
       "      <td>290.9851</td>\n",
       "      <td>3.382839</td>\n",
       "      <td>0.033828</td>\n",
       "      <td>254.0</td>\n",
       "      <td>12.70</td>\n",
       "    </tr>\n",
       "    <tr>\n",
       "      <th>254</th>\n",
       "      <td>294.1132</td>\n",
       "      <td>294.1132</td>\n",
       "      <td>3.382169</td>\n",
       "      <td>0.033822</td>\n",
       "      <td>255.0</td>\n",
       "      <td>12.75</td>\n",
       "    </tr>\n",
       "    <tr>\n",
       "      <th>255</th>\n",
       "      <td>290.3748</td>\n",
       "      <td>290.3748</td>\n",
       "      <td>3.379823</td>\n",
       "      <td>0.033798</td>\n",
       "      <td>256.0</td>\n",
       "      <td>12.80</td>\n",
       "    </tr>\n",
       "    <tr>\n",
       "      <th>256</th>\n",
       "      <td>287.2467</td>\n",
       "      <td>287.2467</td>\n",
       "      <td>3.377311</td>\n",
       "      <td>0.033773</td>\n",
       "      <td>257.0</td>\n",
       "      <td>12.85</td>\n",
       "    </tr>\n",
       "    <tr>\n",
       "      <th>257</th>\n",
       "      <td>288.8489</td>\n",
       "      <td>288.8489</td>\n",
       "      <td>3.378651</td>\n",
       "      <td>0.033787</td>\n",
       "      <td>258.0</td>\n",
       "      <td>12.90</td>\n",
       "    </tr>\n",
       "    <tr>\n",
       "      <th>258</th>\n",
       "      <td>286.4838</td>\n",
       "      <td>286.4838</td>\n",
       "      <td>3.374463</td>\n",
       "      <td>0.033745</td>\n",
       "      <td>259.0</td>\n",
       "      <td>12.95</td>\n",
       "    </tr>\n",
       "    <tr>\n",
       "      <th>259</th>\n",
       "      <td>282.5928</td>\n",
       "      <td>282.5928</td>\n",
       "      <td>3.373123</td>\n",
       "      <td>0.033731</td>\n",
       "      <td>260.0</td>\n",
       "      <td>13.00</td>\n",
       "    </tr>\n",
       "  </tbody>\n",
       "</table>\n",
       "</div>"
      ],
      "text/plain": [
       "     #Drive Voltage      E_SI  Measured Polarization      P_SI  Point  \\\n",
       "250        296.3257  296.3257               3.386357  0.033864  251.0   \n",
       "251        297.2412  297.2412               3.385687  0.033857  252.0   \n",
       "252        292.3584  292.3584               3.385519  0.033855  253.0   \n",
       "253        290.9851  290.9851               3.382839  0.033828  254.0   \n",
       "254        294.1132  294.1132               3.382169  0.033822  255.0   \n",
       "255        290.3748  290.3748               3.379823  0.033798  256.0   \n",
       "256        287.2467  287.2467               3.377311  0.033773  257.0   \n",
       "257        288.8489  288.8489               3.378651  0.033787  258.0   \n",
       "258        286.4838  286.4838               3.374463  0.033745  259.0   \n",
       "259        282.5928  282.5928               3.373123  0.033731  260.0   \n",
       "\n",
       "     Time (ms)  \n",
       "250      12.55  \n",
       "251      12.60  \n",
       "252      12.65  \n",
       "253      12.70  \n",
       "254      12.75  \n",
       "255      12.80  \n",
       "256      12.85  \n",
       "257      12.90  \n",
       "258      12.95  \n",
       "259      13.00  "
      ]
     },
     "execution_count": 4,
     "metadata": {},
     "output_type": "execute_result"
    }
   ],
   "source": [
    "# 提取出P值的plot,并且找到前两个peak，然后做差，即得出 delta P，which is from leakgae only\n",
    "P_value = df['Measured Polarization']\n",
    "print(type(P_value))\n",
    "plt.plot(P_value,'go--')\n",
    "plt.xlabel('time/rows')\n",
    "plt.ylabel('P(kV/cm)')\n",
    "plt.show()\n",
    "indices = find_peaks(P_value, prominence=1)[0]\n",
    "print(indices)\n",
    "\n",
    "df[250:260]\n",
    "\n",
    "# 因为找到的峰不止一个，为了保险起见，我选择将图像分段，0-500和500-1000个点为区间，分别找peak"
   ]
  },
  {
   "cell_type": "code",
   "execution_count": 5,
   "metadata": {},
   "outputs": [
    {
     "data": {
      "image/png": "[encoded data removed]",
      "text/plain": [
       "<Figure size 432x288 with 1 Axes>"
      ]
     },
     "metadata": {},
     "output_type": "display_data"
    },
    {
     "name": "stdout",
     "output_type": "stream",
     "text": [
      "[250]\n"
     ]
    }
   ],
   "source": [
    "P_peak1 = P_value[0:500]\n",
    "plt.plot(P_peak1, color='green', marker='+', linestyle='dashed',linewidth=0.1, markersize=2)\n",
    "plt.show()\n",
    "index1 = find_peaks(P_peak1, prominence = 1)[0]\n",
    "print(index1)\n",
    "# print(type(P_peak1))"
   ]
  },
  {
   "cell_type": "code",
   "execution_count": 8,
   "metadata": {},
   "outputs": [
    {
     "data": {
      "image/png": "[encoded data removed]",
      "text/plain": [
       "<Figure size 432x288 with 1 Axes>"
      ]
     },
     "metadata": {},
     "output_type": "display_data"
    },
    {
     "name": "stdout",
     "output_type": "stream",
     "text": [
      "[750]\n"
     ]
    }
   ],
   "source": [
    "P_peak2 = P_value[500:1000]\n",
    "plt.plot(P_peak2,color='green', marker='+', linestyle='dashed',linewidth=0.1, markersize=2)\n",
    "plt.show()\n",
    "index2 = find_peaks(P_peak2, prominence = 1)[0]+500  #要加上500，因为上一段有500个点\n",
    "print(index2)"
   ]
  },
  {
   "cell_type": "markdown",
   "metadata": {},
   "source": [
    "# 1st peak substract 2nd peak\n",
    "## 非常粗暴的PUND 处理方式，得到很平的PE loop\n",
    "## 原因在于 P有三个 来源：polarization  + constant capacitance + conduction，正常铁电包含前两个。当做粗暴的PUND，我们只考虑了domain翻转，没有考虑他的电容带来的P"
   ]
  },
  {
   "cell_type": "code",
   "execution_count": 6,
   "metadata": {},
   "outputs": [
    {
     "data": {
      "image/png": "[encoded data removed]",
      "text/plain": [
       "<Figure size 432x288 with 1 Axes>"
      ]
     },
     "metadata": {},
     "output_type": "display_data"
    }
   ],
   "source": [
    "Peak1 = list()\n",
    "Peak2 = list()\n",
    "Peak3 = list()\n",
    "Peak4 = list()\n",
    "Voltage = list()\n",
    "\n",
    "j = 0\n",
    "for i in range(500):\n",
    "    Peak1.append(df.loc[j,'Measured Polarization'])\n",
    "    j = j +1\n",
    "\n",
    "# print(Peak1)\n",
    "# print(type(Peak1))\n",
    "n = 500\n",
    "for i in range(500):\n",
    "    Peak2.append(df.loc[n,'Measured Polarization'])\n",
    "    n = n +1\n",
    "    \n",
    "m = 1000\n",
    "for i in range(500):\n",
    "    Peak3.append(df.loc[m,'Measured Polarization'])\n",
    "    m = m +1\n",
    "    \n",
    "k = 1500\n",
    "for i in range(500):\n",
    "    Peak4.append(df.loc[k,'Measured Polarization'])\n",
    "    k = k +1\n",
    "    \n",
    "l = 0\n",
    "for i in range(500):\n",
    "    Voltage.append(df.loc[l,'#Drive Voltage'])\n",
    "    l = l +1\n",
    "    \n",
    "# print(Peak2)\n",
    "\n",
    "dic={\"Drive Vol\":Voltage, \"1st peak\":Peak1,\n",
    "  \"2nd peak\":Peak2, \"3rd peak\":Peak3, \"4th peak\":Peak4}\n",
    "Four_peaks=pd.DataFrame(dic)\n",
    "Four_peaks.head(10)\n",
    "\n",
    "diff_up = Four_peaks['1st peak'] -  Four_peaks['2nd peak']\n",
    "\n",
    "plt.plot(diff_up, color='red', marker='o', linestyle='dashed',linewidth=0.1, markersize=1)\n",
    "plt.plot(Four_peaks['1st peak'], color='blue', marker='o', linestyle='dashed',linewidth=0.1, markersize=1)\n",
    "plt.plot(Four_peaks['2nd peak'], color='green', marker='o', linestyle='dashed',linewidth=0.1, markersize=1)\n",
    "plt.show()"
   ]
  },
  {
   "cell_type": "code",
   "execution_count": 7,
   "metadata": {},
   "outputs": [
    {
     "data": {
      "image/png": "[encoded data removed]",
      "text/plain": [
       "<Figure size 432x288 with 1 Axes>"
      ]
     },
     "metadata": {},
     "output_type": "display_data"
    }
   ],
   "source": [
    "diff_down = Four_peaks['3rd peak'] -  Four_peaks['4th peak']\n",
    "\n",
    "plt.plot(diff_down, color='red', marker='o', linestyle='dashed',linewidth=0.1, markersize=1)\n",
    "plt.plot(Four_peaks['3rd peak'], color='blue', marker='o', linestyle='dashed',linewidth=0.1, markersize=1)\n",
    "plt.plot(Four_peaks['4th peak'], color='green', marker='o', linestyle='dashed',linewidth=0.1, markersize=1)\n",
    "plt.show()"
   ]
  },
  {
   "cell_type": "code",
   "execution_count": 11,
   "metadata": {},
   "outputs": [
    {
     "data": {
      "image/png": "[encoded data removed]",
      "text/plain": [
       "<Figure size 432x288 with 1 Axes>"
      ]
     },
     "metadata": {},
     "output_type": "display_data"
    }
   ],
   "source": [
    "plt.plot(Four_peaks['Drive Vol'],diff_up, color='red', marker='o', linestyle='dashed',linewidth=0.1, markersize=1)\n",
    "plt.plot(-Four_peaks['Drive Vol'],diff_down, color='red', marker='o', linestyle='dashed',linewidth=0.1, markersize=1)\n",
    "\n",
    "plt.show()"
   ]
  },
  {
   "cell_type": "code",
   "execution_count": 16,
   "metadata": {},
   "outputs": [
    {
     "data": {
      "image/png": "[encoded data removed]",
      "text/plain": [
       "<Figure size 432x288 with 1 Axes>"
      ]
     },
     "metadata": {},
     "output_type": "display_data"
    }
   ],
   "source": [
    "# 下面是 polarization fron only switching\n",
    "plt.plot(diff_up, color='red', marker='o', linestyle='dashed',linewidth=0.1, markersize=1)\n",
    "plt.plot(-diff_down, color='blue', marker='o', linestyle='dashed',linewidth=0.1, markersize=1)\n",
    "plt.show()"
   ]
  },
  {
   "cell_type": "code",
   "execution_count": 27,
   "metadata": {},
   "outputs": [
    {
     "data": {
      "image/png": "[encoded data removed]",
      "text/plain": [
       "<Figure size 432x288 with 1 Axes>"
      ]
     },
     "metadata": {},
     "output_type": "display_data"
    }
   ],
   "source": [
    "# 下面是 current fron only switching\n",
    "# 通过直接微分polarization 求得（用的function是np.diff()），此处单位没有换算，只看图像形状\n",
    "switching_current_up = np.diff(diff_up)\n",
    "switching_current_down = np.diff(diff_down)\n",
    "\n",
    "plt.plot(switching_current_up, color='red', marker='o', linestyle='dashed',linewidth=0.1, markersize=1)\n",
    "plt.plot(switching_current_down, color='blue', marker='o', linestyle='dashed',linewidth=0.1, markersize=1)\n",
    "plt.show()"
   ]
  },
  {
   "cell_type": "code",
   "execution_count": null,
   "metadata": {
    "collapsed": true
   },
   "outputs": [],
   "source": []
  }
 ],
 "metadata": {
  "kernelspec": {
   "display_name": "Python 3",
   "language": "python",
   "name": "python3"
  },
  "language_info": {
   "codemirror_mode": {
    "name": "ipython",
    "version": 3
   },
   "file_extension": ".py",
   "mimetype": "text/x-python",
   "name": "python",
   "nbconvert_exporter": "python",
   "pygments_lexer": "ipython3",
   "version": "3.6.3"
  }
 },
 "nbformat": 4,
 "nbformat_minor": 2
}
