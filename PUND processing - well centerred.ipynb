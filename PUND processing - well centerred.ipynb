{
 "cells": [
  {
   "cell_type": "code",
   "execution_count": 122,
   "metadata": {
    "collapsed": true
   },
   "outputs": [],
   "source": [
    "import re\n",
    "import os \n",
    "from glob import glob\n",
    "import pandas as pd\n",
    "import numpy as np\n",
    "import matplotlib as mpl\n",
    "import matplotlib.pyplot as plt\n",
    "from sklearn.linear_model import LinearRegression\n",
    "from scipy import integrate\n",
    "from scipy.signal import find_peaks"
   ]
  },
  {
   "cell_type": "code",
   "execution_count": 237,
   "metadata": {},
   "outputs": [
    {
     "data": {
      "text/html": [
       "<div>\n",
       "<style>\n",
       "    .dataframe thead tr:only-child th {\n",
       "        text-align: right;\n",
       "    }\n",
       "\n",
       "    .dataframe thead th {\n",
       "        text-align: left;\n",
       "    }\n",
       "\n",
       "    .dataframe tbody tr th {\n",
       "        vertical-align: top;\n",
       "    }\n",
       "</style>\n",
       "<table border=\"1\" class=\"dataframe\">\n",
       "  <thead>\n",
       "    <tr style=\"text-align: right;\">\n",
       "      <th></th>\n",
       "      <th>#Drive Voltage</th>\n",
       "      <th>E_SI</th>\n",
       "      <th>Measured Polarization</th>\n",
       "      <th>P_SI</th>\n",
       "      <th>Point</th>\n",
       "      <th>Time (ms)</th>\n",
       "    </tr>\n",
       "  </thead>\n",
       "  <tbody>\n",
       "    <tr>\n",
       "      <th>0</th>\n",
       "      <td>-7.0190</td>\n",
       "      <td>-7.0190</td>\n",
       "      <td>-2.314750</td>\n",
       "      <td>-0.023148</td>\n",
       "      <td>1.0</td>\n",
       "      <td>0.05</td>\n",
       "    </tr>\n",
       "    <tr>\n",
       "      <th>1</th>\n",
       "      <td>-2.8229</td>\n",
       "      <td>-2.8229</td>\n",
       "      <td>-2.310897</td>\n",
       "      <td>-0.023109</td>\n",
       "      <td>2.0</td>\n",
       "      <td>0.10</td>\n",
       "    </tr>\n",
       "    <tr>\n",
       "      <th>2</th>\n",
       "      <td>3.5095</td>\n",
       "      <td>3.5095</td>\n",
       "      <td>-2.303527</td>\n",
       "      <td>-0.023035</td>\n",
       "      <td>3.0</td>\n",
       "      <td>0.15</td>\n",
       "    </tr>\n",
       "    <tr>\n",
       "      <th>3</th>\n",
       "      <td>-1.2207</td>\n",
       "      <td>-1.2207</td>\n",
       "      <td>-2.295486</td>\n",
       "      <td>-0.022955</td>\n",
       "      <td>4.0</td>\n",
       "      <td>0.20</td>\n",
       "    </tr>\n",
       "    <tr>\n",
       "      <th>4</th>\n",
       "      <td>2.6703</td>\n",
       "      <td>2.6703</td>\n",
       "      <td>-2.291298</td>\n",
       "      <td>-0.022913</td>\n",
       "      <td>5.0</td>\n",
       "      <td>0.25</td>\n",
       "    </tr>\n",
       "    <tr>\n",
       "      <th>5</th>\n",
       "      <td>3.1281</td>\n",
       "      <td>3.1281</td>\n",
       "      <td>-2.288115</td>\n",
       "      <td>-0.022881</td>\n",
       "      <td>6.0</td>\n",
       "      <td>0.30</td>\n",
       "    </tr>\n",
       "    <tr>\n",
       "      <th>6</th>\n",
       "      <td>2.3651</td>\n",
       "      <td>2.3651</td>\n",
       "      <td>-2.285100</td>\n",
       "      <td>-0.022851</td>\n",
       "      <td>7.0</td>\n",
       "      <td>0.35</td>\n",
       "    </tr>\n",
       "    <tr>\n",
       "      <th>7</th>\n",
       "      <td>3.6621</td>\n",
       "      <td>3.6621</td>\n",
       "      <td>-2.277226</td>\n",
       "      <td>-0.022772</td>\n",
       "      <td>8.0</td>\n",
       "      <td>0.40</td>\n",
       "    </tr>\n",
       "    <tr>\n",
       "      <th>8</th>\n",
       "      <td>7.5531</td>\n",
       "      <td>7.5531</td>\n",
       "      <td>-2.274546</td>\n",
       "      <td>-0.022745</td>\n",
       "      <td>9.0</td>\n",
       "      <td>0.45</td>\n",
       "    </tr>\n",
       "    <tr>\n",
       "      <th>9</th>\n",
       "      <td>6.0272</td>\n",
       "      <td>6.0272</td>\n",
       "      <td>-2.265668</td>\n",
       "      <td>-0.022657</td>\n",
       "      <td>10.0</td>\n",
       "      <td>0.50</td>\n",
       "    </tr>\n",
       "  </tbody>\n",
       "</table>\n",
       "</div>"
      ],
      "text/plain": [
       "   #Drive Voltage    E_SI  Measured Polarization      P_SI  Point  Time (ms)\n",
       "0         -7.0190 -7.0190              -2.314750 -0.023148    1.0       0.05\n",
       "1         -2.8229 -2.8229              -2.310897 -0.023109    2.0       0.10\n",
       "2          3.5095  3.5095              -2.303527 -0.023035    3.0       0.15\n",
       "3         -1.2207 -1.2207              -2.295486 -0.022955    4.0       0.20\n",
       "4          2.6703  2.6703              -2.291298 -0.022913    5.0       0.25\n",
       "5          3.1281  3.1281              -2.288115 -0.022881    6.0       0.30\n",
       "6          2.3651  2.3651              -2.285100 -0.022851    7.0       0.35\n",
       "7          3.6621  3.6621              -2.277226 -0.022772    8.0       0.40\n",
       "8          7.5531  7.5531              -2.274546 -0.022745    9.0       0.45\n",
       "9          6.0272  6.0272              -2.265668 -0.022657   10.0       0.50"
      ]
     },
     "execution_count": 237,
     "metadata": {},
     "output_type": "execute_result"
    }
   ],
   "source": [
    "#读取单个的PE loop的文件\n",
    "df = pd.read_csv(r'C:\\PhD-Zipeng\\Research projects\\PUND\\BF4 PUND PE Heating\\360.05.tab',delimiter='\\t',encoding= 'unicode_escape')\n",
    "df.head(10)"
   ]
  },
  {
   "cell_type": "code",
   "execution_count": 241,
   "metadata": {},
   "outputs": [
    {
     "data": {
      "image/png": "[encoded data removed]",
      "text/plain": [
       "<Figure size 432x288 with 1 Axes>"
      ]
     },
     "metadata": {},
     "output_type": "display_data"
    }
   ],
   "source": [
    "plt.plot(df['#Drive Voltage'], df['Measured Polarization'],'go--',linewidth=0.1, markersize=1)\n",
    "plt.show()"
   ]
  },
  {
   "cell_type": "code",
   "execution_count": 133,
   "metadata": {},
   "outputs": [
    {
     "data": {
      "image/png": "[encoded data removed]",
      "text/plain": [
       "<Figure size 432x288 with 1 Axes>"
      ]
     },
     "metadata": {},
     "output_type": "display_data"
    },
    {
     "name": "stdout",
     "output_type": "stream",
     "text": [
      "[ 251  750 1500]\n"
     ]
    }
   ],
   "source": [
    "# 提取出P值的plot,并且找到前两个peak，然后做差，即得出 delta P，which is from leakgae only\n",
    "P_value = df['Measured Polarization']\n",
    "# print(type(P_value))\n",
    "\n",
    "plt.plot(P_value,'go--')\n",
    "# plt.plot(-P_value,'ro--')#找到 负向电压的P的2个peak \n",
    "plt.xlabel('time/rows')\n",
    "plt.ylabel('P(kV/cm)')\n",
    "plt.show()\n",
    "indices = find_peaks(P_value, prominence=1)[0]# find pea找到的是 【x,y】，而这里我只需要x, 所以用【0】index\n",
    "print(indices)\n",
    "\n",
    "# indices_2 = find_peaks(-P_value, prominence=1)[0]# find pea找到的是 【x,y】，而这里我只需要x, 所以用【0】index\n",
    "# print(indices_2)\n",
    "\n",
    "# df[250:260]\n",
    "# 因为找到的峰不止一个，为了保险起见，我选择将图像分段，0-500和500-1000个点为区间，分别找peak"
   ]
  },
  {
   "cell_type": "code",
   "execution_count": 134,
   "metadata": {},
   "outputs": [
    {
     "data": {
      "image/png": "[encoded data removed]",
      "text/plain": [
       "<Figure size 432x288 with 1 Axes>"
      ]
     },
     "metadata": {},
     "output_type": "display_data"
    },
    {
     "name": "stdout",
     "output_type": "stream",
     "text": [
      "[251]\n"
     ]
    }
   ],
   "source": [
    "P_peak1 = P_value[0:500]\n",
    "plt.plot(P_peak1, color='green', marker='+', linestyle='dashed',linewidth=0.1, markersize=2)\n",
    "plt.show()\n",
    "index1 = find_peaks(P_peak1, prominence = 1)[0]\n",
    "print(index1)\n",
    "# print(type(P_peak1))"
   ]
  },
  {
   "cell_type": "code",
   "execution_count": 135,
   "metadata": {},
   "outputs": [
    {
     "data": {
      "image/png": "[encoded data removed]",
      "text/plain": [
       "<Figure size 432x288 with 1 Axes>"
      ]
     },
     "metadata": {},
     "output_type": "display_data"
    },
    {
     "name": "stdout",
     "output_type": "stream",
     "text": [
      "[750]\n"
     ]
    }
   ],
   "source": [
    "P_peak2 = P_value[500:1000]\n",
    "plt.plot(P_peak2,color='green', marker='+', linestyle='dashed',linewidth=0.1, markersize=2)\n",
    "plt.show()\n",
    "index2 = find_peaks(P_peak2, prominence = 1)[0]+500  #要加上500，因为上一段有500个点\n",
    "print(index2)"
   ]
  },
  {
   "cell_type": "code",
   "execution_count": 216,
   "metadata": {},
   "outputs": [
    {
     "data": {
      "image/png": "[encoded data removed]",
      "text/plain": [
       "<Figure size 432x288 with 1 Axes>"
      ]
     },
     "metadata": {},
     "output_type": "display_data"
    },
    {
     "name": "stdout",
     "output_type": "stream",
     "text": [
      "[1250]\n"
     ]
    }
   ],
   "source": [
    "P_peak3 = P_value[1000:1500]\n",
    "plt.plot(P_peak3, color='red', marker='+', linestyle='dashed',linewidth=0.1, markersize=2)\n",
    "plt.show()\n",
    "index1 = find_peaks(-P_peak3, prominence = 1)[0]+1000\n",
    "print(index1)\n",
    "# print(type(P_peak1))"
   ]
  },
  {
   "cell_type": "code",
   "execution_count": 217,
   "metadata": {},
   "outputs": [
    {
     "data": {
      "image/png": "[encoded data removed]",
      "text/plain": [
       "<Figure size 432x288 with 1 Axes>"
      ]
     },
     "metadata": {},
     "output_type": "display_data"
    },
    {
     "name": "stdout",
     "output_type": "stream",
     "text": [
      "[1750]\n"
     ]
    }
   ],
   "source": [
    "P_peak4= P_value[1500:2000]\n",
    "plt.plot(P_peak4,color='red', marker='+', linestyle='dashed',linewidth=0.1, markersize=2)\n",
    "plt.show()\n",
    "index2 = find_peaks(-P_peak4, prominence = 1)[0]+1500  #要加上500，因为上一段有500个点\n",
    "print(index2)"
   ]
  },
  {
   "cell_type": "code",
   "execution_count": 136,
   "metadata": {},
   "outputs": [
    {
     "name": "stdout",
     "output_type": "stream",
     "text": [
      "<class 'numpy.float64'>\n",
      "delta P from R =  0.330511 uC/cm2\n"
     ]
    }
   ],
   "source": [
    "# print(type(index2))\n",
    "# print(index2[0])\n",
    "delta_P=df.loc[index2[0],'Measured Polarization']-df.loc[index1[0],'Measured Polarization']\n",
    "\n",
    "print(type(delta_P))\n",
    "print('delta P from R = ',delta_P, 'uC/cm2')\n"
   ]
  },
  {
   "cell_type": "markdown",
   "metadata": {},
   "source": [
    "# 对于 电阻而言\n",
    "# I = U/R\n",
    "# P = Q/Area = inte(Idt) /Area\n",
    "# P = inte(U) / R* Area\n",
    "\n",
    "# ΔP = 1/R*Area *  Δinte(U)"
   ]
  },
  {
   "cell_type": "code",
   "execution_count": 138,
   "metadata": {},
   "outputs": [
    {
     "data": {
      "image/png": "[encoded data removed]",
      "text/plain": [
       "<Figure size 432x288 with 1 Axes>"
      ]
     },
     "metadata": {},
     "output_type": "display_data"
    }
   ],
   "source": [
    "x = 0.001*df['Time (ms)'] # 乘 0.001 是为了把 （毫秒）变成（秒）\n",
    "y = df['#Drive Voltage']\n",
    "y_integration = integrate.cumtrapz(y, x, initial=0)\n",
    "# print(y_integration)\n",
    "plt.plot(y_integration, color='red', marker='o', linestyle='dashed',linewidth=0.1, markersize=1)\n",
    "plt.show()"
   ]
  },
  {
   "cell_type": "code",
   "execution_count": 139,
   "metadata": {},
   "outputs": [
    {
     "data": {
      "text/html": [
       "<div>\n",
       "<style>\n",
       "    .dataframe thead tr:only-child th {\n",
       "        text-align: right;\n",
       "    }\n",
       "\n",
       "    .dataframe thead th {\n",
       "        text-align: left;\n",
       "    }\n",
       "\n",
       "    .dataframe tbody tr th {\n",
       "        vertical-align: top;\n",
       "    }\n",
       "</style>\n",
       "<table border=\"1\" class=\"dataframe\">\n",
       "  <thead>\n",
       "    <tr style=\"text-align: right;\">\n",
       "      <th></th>\n",
       "      <th>#Drive Voltage</th>\n",
       "      <th>E_SI</th>\n",
       "      <th>Measured Polarization</th>\n",
       "      <th>P_SI</th>\n",
       "      <th>Point</th>\n",
       "      <th>Time (ms)</th>\n",
       "      <th>Voltage Integration(V*s)</th>\n",
       "    </tr>\n",
       "  </thead>\n",
       "  <tbody>\n",
       "    <tr>\n",
       "      <th>0</th>\n",
       "      <td>-7.0190</td>\n",
       "      <td>-7.0190</td>\n",
       "      <td>-2.314750</td>\n",
       "      <td>-0.023148</td>\n",
       "      <td>1.0</td>\n",
       "      <td>0.05</td>\n",
       "      <td>0.000000</td>\n",
       "    </tr>\n",
       "    <tr>\n",
       "      <th>1</th>\n",
       "      <td>-2.8229</td>\n",
       "      <td>-2.8229</td>\n",
       "      <td>-2.310897</td>\n",
       "      <td>-0.023109</td>\n",
       "      <td>2.0</td>\n",
       "      <td>0.10</td>\n",
       "      <td>-0.000246</td>\n",
       "    </tr>\n",
       "    <tr>\n",
       "      <th>2</th>\n",
       "      <td>3.5095</td>\n",
       "      <td>3.5095</td>\n",
       "      <td>-2.303527</td>\n",
       "      <td>-0.023035</td>\n",
       "      <td>3.0</td>\n",
       "      <td>0.15</td>\n",
       "      <td>-0.000229</td>\n",
       "    </tr>\n",
       "    <tr>\n",
       "      <th>3</th>\n",
       "      <td>-1.2207</td>\n",
       "      <td>-1.2207</td>\n",
       "      <td>-2.295486</td>\n",
       "      <td>-0.022955</td>\n",
       "      <td>4.0</td>\n",
       "      <td>0.20</td>\n",
       "      <td>-0.000172</td>\n",
       "    </tr>\n",
       "    <tr>\n",
       "      <th>4</th>\n",
       "      <td>2.6703</td>\n",
       "      <td>2.6703</td>\n",
       "      <td>-2.291298</td>\n",
       "      <td>-0.022913</td>\n",
       "      <td>5.0</td>\n",
       "      <td>0.25</td>\n",
       "      <td>-0.000135</td>\n",
       "    </tr>\n",
       "    <tr>\n",
       "      <th>5</th>\n",
       "      <td>3.1281</td>\n",
       "      <td>3.1281</td>\n",
       "      <td>-2.288115</td>\n",
       "      <td>-0.022881</td>\n",
       "      <td>6.0</td>\n",
       "      <td>0.30</td>\n",
       "      <td>0.000010</td>\n",
       "    </tr>\n",
       "    <tr>\n",
       "      <th>6</th>\n",
       "      <td>2.3651</td>\n",
       "      <td>2.3651</td>\n",
       "      <td>-2.285100</td>\n",
       "      <td>-0.022851</td>\n",
       "      <td>7.0</td>\n",
       "      <td>0.35</td>\n",
       "      <td>0.000147</td>\n",
       "    </tr>\n",
       "    <tr>\n",
       "      <th>7</th>\n",
       "      <td>3.6621</td>\n",
       "      <td>3.6621</td>\n",
       "      <td>-2.277226</td>\n",
       "      <td>-0.022772</td>\n",
       "      <td>8.0</td>\n",
       "      <td>0.40</td>\n",
       "      <td>0.000298</td>\n",
       "    </tr>\n",
       "    <tr>\n",
       "      <th>8</th>\n",
       "      <td>7.5531</td>\n",
       "      <td>7.5531</td>\n",
       "      <td>-2.274546</td>\n",
       "      <td>-0.022745</td>\n",
       "      <td>9.0</td>\n",
       "      <td>0.45</td>\n",
       "      <td>0.000578</td>\n",
       "    </tr>\n",
       "    <tr>\n",
       "      <th>9</th>\n",
       "      <td>6.0272</td>\n",
       "      <td>6.0272</td>\n",
       "      <td>-2.265668</td>\n",
       "      <td>-0.022657</td>\n",
       "      <td>10.0</td>\n",
       "      <td>0.50</td>\n",
       "      <td>0.000917</td>\n",
       "    </tr>\n",
       "  </tbody>\n",
       "</table>\n",
       "</div>"
      ],
      "text/plain": [
       "   #Drive Voltage    E_SI  Measured Polarization      P_SI  Point  Time (ms)  \\\n",
       "0         -7.0190 -7.0190              -2.314750 -0.023148    1.0       0.05   \n",
       "1         -2.8229 -2.8229              -2.310897 -0.023109    2.0       0.10   \n",
       "2          3.5095  3.5095              -2.303527 -0.023035    3.0       0.15   \n",
       "3         -1.2207 -1.2207              -2.295486 -0.022955    4.0       0.20   \n",
       "4          2.6703  2.6703              -2.291298 -0.022913    5.0       0.25   \n",
       "5          3.1281  3.1281              -2.288115 -0.022881    6.0       0.30   \n",
       "6          2.3651  2.3651              -2.285100 -0.022851    7.0       0.35   \n",
       "7          3.6621  3.6621              -2.277226 -0.022772    8.0       0.40   \n",
       "8          7.5531  7.5531              -2.274546 -0.022745    9.0       0.45   \n",
       "9          6.0272  6.0272              -2.265668 -0.022657   10.0       0.50   \n",
       "\n",
       "   Voltage Integration(V*s)  \n",
       "0                  0.000000  \n",
       "1                 -0.000246  \n",
       "2                 -0.000229  \n",
       "3                 -0.000172  \n",
       "4                 -0.000135  \n",
       "5                  0.000010  \n",
       "6                  0.000147  \n",
       "7                  0.000298  \n",
       "8                  0.000578  \n",
       "9                  0.000917  "
      ]
     },
     "execution_count": 139,
     "metadata": {},
     "output_type": "execute_result"
    }
   ],
   "source": [
    "#插入voltage的积分这一列\n",
    "df.insert(len(df.columns), \"Voltage Integration(V*s)\", y_integration)\n",
    "df.head(10)"
   ]
  },
  {
   "cell_type": "markdown",
   "metadata": {},
   "source": [
    "#  ΔP =  Δinte(U)/(R*Area )"
   ]
  },
  {
   "cell_type": "code",
   "execution_count": 140,
   "metadata": {},
   "outputs": [
    {
     "name": "stdout",
     "output_type": "stream",
     "text": [
      "3.6191730525\n",
      "0.09132224273489614\n",
      "resistance =  452489041.13692623 ohm\n"
     ]
    }
   ],
   "source": [
    "#求出从peak1 到 peak2的voltage积分的差值\n",
    "delta_V_integral = df.loc[index2[0],'Voltage Integration(V*s)']-df.loc[index1[0],'Voltage Integration(V*s)']\n",
    "print(delta_V_integral)\n",
    "one_over_AR = delta_P/delta_V_integral\n",
    "\n",
    "# Sample area  = 2.42mm2 = 0.0242 cm2\n",
    "# 1 C = 1 A * 1 S  库伦 =  安培 x 秒\n",
    "resistance = (delta_V_integral)/(delta_P*0.0242*0.000001)\n",
    "\n",
    "print(one_over_AR)\n",
    "print('resistance = ', resistance,'ohm')    "
   ]
  },
  {
   "cell_type": "code",
   "execution_count": 141,
   "metadata": {},
   "outputs": [
    {
     "data": {
      "text/html": [
       "<div>\n",
       "<style>\n",
       "    .dataframe thead tr:only-child th {\n",
       "        text-align: right;\n",
       "    }\n",
       "\n",
       "    .dataframe thead th {\n",
       "        text-align: left;\n",
       "    }\n",
       "\n",
       "    .dataframe tbody tr th {\n",
       "        vertical-align: top;\n",
       "    }\n",
       "</style>\n",
       "<table border=\"1\" class=\"dataframe\">\n",
       "  <thead>\n",
       "    <tr style=\"text-align: right;\">\n",
       "      <th></th>\n",
       "      <th>#Drive Voltage</th>\n",
       "      <th>E_SI</th>\n",
       "      <th>Measured Polarization</th>\n",
       "      <th>P_SI</th>\n",
       "      <th>Point</th>\n",
       "      <th>Time (ms)</th>\n",
       "      <th>Voltage Integration(V*s)</th>\n",
       "      <th>P from R</th>\n",
       "    </tr>\n",
       "  </thead>\n",
       "  <tbody>\n",
       "    <tr>\n",
       "      <th>0</th>\n",
       "      <td>-7.0190</td>\n",
       "      <td>-7.0190</td>\n",
       "      <td>-2.314750</td>\n",
       "      <td>-0.023148</td>\n",
       "      <td>1.0</td>\n",
       "      <td>0.05</td>\n",
       "      <td>0.000000</td>\n",
       "      <td>-0.313142</td>\n",
       "    </tr>\n",
       "    <tr>\n",
       "      <th>1</th>\n",
       "      <td>-2.8229</td>\n",
       "      <td>-2.8229</td>\n",
       "      <td>-2.310897</td>\n",
       "      <td>-0.023109</td>\n",
       "      <td>2.0</td>\n",
       "      <td>0.10</td>\n",
       "      <td>-0.000246</td>\n",
       "      <td>-0.313164</td>\n",
       "    </tr>\n",
       "    <tr>\n",
       "      <th>2</th>\n",
       "      <td>3.5095</td>\n",
       "      <td>3.5095</td>\n",
       "      <td>-2.303527</td>\n",
       "      <td>-0.023035</td>\n",
       "      <td>3.0</td>\n",
       "      <td>0.15</td>\n",
       "      <td>-0.000229</td>\n",
       "      <td>-0.313163</td>\n",
       "    </tr>\n",
       "    <tr>\n",
       "      <th>3</th>\n",
       "      <td>-1.2207</td>\n",
       "      <td>-1.2207</td>\n",
       "      <td>-2.295486</td>\n",
       "      <td>-0.022955</td>\n",
       "      <td>4.0</td>\n",
       "      <td>0.20</td>\n",
       "      <td>-0.000172</td>\n",
       "      <td>-0.313158</td>\n",
       "    </tr>\n",
       "    <tr>\n",
       "      <th>4</th>\n",
       "      <td>2.6703</td>\n",
       "      <td>2.6703</td>\n",
       "      <td>-2.291298</td>\n",
       "      <td>-0.022913</td>\n",
       "      <td>5.0</td>\n",
       "      <td>0.25</td>\n",
       "      <td>-0.000135</td>\n",
       "      <td>-0.313154</td>\n",
       "    </tr>\n",
       "    <tr>\n",
       "      <th>5</th>\n",
       "      <td>3.1281</td>\n",
       "      <td>3.1281</td>\n",
       "      <td>-2.288115</td>\n",
       "      <td>-0.022881</td>\n",
       "      <td>6.0</td>\n",
       "      <td>0.30</td>\n",
       "      <td>0.000010</td>\n",
       "      <td>-0.313141</td>\n",
       "    </tr>\n",
       "    <tr>\n",
       "      <th>6</th>\n",
       "      <td>2.3651</td>\n",
       "      <td>2.3651</td>\n",
       "      <td>-2.285100</td>\n",
       "      <td>-0.022851</td>\n",
       "      <td>7.0</td>\n",
       "      <td>0.35</td>\n",
       "      <td>0.000147</td>\n",
       "      <td>-0.313128</td>\n",
       "    </tr>\n",
       "    <tr>\n",
       "      <th>7</th>\n",
       "      <td>3.6621</td>\n",
       "      <td>3.6621</td>\n",
       "      <td>-2.277226</td>\n",
       "      <td>-0.022772</td>\n",
       "      <td>8.0</td>\n",
       "      <td>0.40</td>\n",
       "      <td>0.000298</td>\n",
       "      <td>-0.313115</td>\n",
       "    </tr>\n",
       "    <tr>\n",
       "      <th>8</th>\n",
       "      <td>7.5531</td>\n",
       "      <td>7.5531</td>\n",
       "      <td>-2.274546</td>\n",
       "      <td>-0.022745</td>\n",
       "      <td>9.0</td>\n",
       "      <td>0.45</td>\n",
       "      <td>0.000578</td>\n",
       "      <td>-0.313089</td>\n",
       "    </tr>\n",
       "    <tr>\n",
       "      <th>9</th>\n",
       "      <td>6.0272</td>\n",
       "      <td>6.0272</td>\n",
       "      <td>-2.265668</td>\n",
       "      <td>-0.022657</td>\n",
       "      <td>10.0</td>\n",
       "      <td>0.50</td>\n",
       "      <td>0.000917</td>\n",
       "      <td>-0.313058</td>\n",
       "    </tr>\n",
       "  </tbody>\n",
       "</table>\n",
       "</div>"
      ],
      "text/plain": [
       "   #Drive Voltage    E_SI  Measured Polarization      P_SI  Point  Time (ms)  \\\n",
       "0         -7.0190 -7.0190              -2.314750 -0.023148    1.0       0.05   \n",
       "1         -2.8229 -2.8229              -2.310897 -0.023109    2.0       0.10   \n",
       "2          3.5095  3.5095              -2.303527 -0.023035    3.0       0.15   \n",
       "3         -1.2207 -1.2207              -2.295486 -0.022955    4.0       0.20   \n",
       "4          2.6703  2.6703              -2.291298 -0.022913    5.0       0.25   \n",
       "5          3.1281  3.1281              -2.288115 -0.022881    6.0       0.30   \n",
       "6          2.3651  2.3651              -2.285100 -0.022851    7.0       0.35   \n",
       "7          3.6621  3.6621              -2.277226 -0.022772    8.0       0.40   \n",
       "8          7.5531  7.5531              -2.274546 -0.022745    9.0       0.45   \n",
       "9          6.0272  6.0272              -2.265668 -0.022657   10.0       0.50   \n",
       "\n",
       "   Voltage Integration(V*s)  P from R  \n",
       "0                  0.000000 -0.313142  \n",
       "1                 -0.000246 -0.313164  \n",
       "2                 -0.000229 -0.313163  \n",
       "3                 -0.000172 -0.313158  \n",
       "4                 -0.000135 -0.313154  \n",
       "5                  0.000010 -0.313141  \n",
       "6                  0.000147 -0.313128  \n",
       "7                  0.000298 -0.313115  \n",
       "8                  0.000578 -0.313089  \n",
       "9                  0.000917 -0.313058  "
      ]
     },
     "execution_count": 141,
     "metadata": {},
     "output_type": "execute_result"
    }
   ],
   "source": [
    "#with 1/AR, Volta_integration x 1/AR = 单纯电阻对 P 的贡献\n",
    "P_fromR  = df['Voltage Integration(V*s)']*one_over_AR\n",
    "# 把 P from R 的中心调到原点\n",
    "P_fromR = P_fromR - 0.5*(max(P_fromR)+min(P_fromR))\n",
    "\n",
    "df.insert(len(df.columns), \"P from R\", P_fromR)\n",
    "df.head(10)"
   ]
  },
  {
   "cell_type": "code",
   "execution_count": 143,
   "metadata": {},
   "outputs": [
    {
     "data": {
      "image/png": "[encoded data removed]",
      "text/plain": [
       "<Figure size 432x288 with 1 Axes>"
      ]
     },
     "metadata": {},
     "output_type": "display_data"
    }
   ],
   "source": [
    "plt.plot(df['#Drive Voltage'], df['P from R'], color='green', marker='o', linestyle='dashed',linewidth=0.1, markersize=1)\n",
    "# plt.plot(df['#Drive Voltage'], df['Corrected P'], color='red', marker='o', linestyle='dashed',linewidth=0.1, markersize=1)\n",
    "# plt.plot(df['#Drive Voltage'], df['Measured Polarization'], color='blue', marker='+', linestyle='dashed',linewidth=0.1, markersize=1)\n",
    "plt.show()"
   ]
  },
  {
   "cell_type": "markdown",
   "metadata": {},
   "source": [
    "plt.plot( df['Corrected P'], color='red', marker='o', linestyle='dashed',linewidth=1, markersize=1, label='Model length')\n",
    "plt.plot( df['Measured Polarization'], color='blue', marker='+', linestyle='dashed',linewidth=1, markersize=1)\n",
    "plt.plot(df['P from R'], color='green', marker='o', linestyle='dashed',linewidth=1, markersize=1)\n",
    "\n",
    "plt.legend(['Corrected P', 'Measured', 'PfromR'],loc='upper right', shadow=True, fontsize='large')\n",
    "plt.show()"
   ]
  },
  {
   "cell_type": "markdown",
   "metadata": {},
   "source": [
    "plt.plot( df['P from R'], color='green', marker='o', linestyle='dashed',linewidth=0.1, markersize=1)\n",
    "plt.plot(0.003*df['#Drive Voltage'], color='red', marker='o', linestyle='dashed',linewidth=0.1, markersize=1)\n",
    "\n",
    "plt.show()"
   ]
  },
  {
   "cell_type": "code",
   "execution_count": 154,
   "metadata": {},
   "outputs": [
    {
     "name": "stderr",
     "output_type": "stream",
     "text": [
      "C:\\Users\\Dev\\Anaconda3\\lib\\site-packages\\ipykernel_launcher.py:7: SettingWithCopyWarning: \n",
      "A value is trying to be set on a copy of a slice from a DataFrame.\n",
      "Try using .loc[row_indexer,col_indexer] = value instead\n",
      "\n",
      "See the caveats in the documentation: http://pandas.pydata.org/pandas-docs/stable/indexing.html#indexing-view-versus-copy\n",
      "  import sys\n",
      "C:\\Users\\Dev\\Anaconda3\\lib\\site-packages\\ipykernel_launcher.py:8: SettingWithCopyWarning: \n",
      "A value is trying to be set on a copy of a slice from a DataFrame.\n",
      "Try using .loc[row_indexer,col_indexer] = value instead\n",
      "\n",
      "See the caveats in the documentation: http://pandas.pydata.org/pandas-docs/stable/indexing.html#indexing-view-versus-copy\n",
      "  \n"
     ]
    },
    {
     "data": {
      "image/png": "[encoded data removed]",
      "text/plain": [
       "<Figure size 432x288 with 1 Axes>"
      ]
     },
     "metadata": {},
     "output_type": "display_data"
    },
    {
     "name": "stdout",
     "output_type": "stream",
     "text": [
      "New length =  1000 (lines)\n"
     ]
    },
    {
     "data": {
      "text/html": [
       "<div>\n",
       "<style>\n",
       "    .dataframe thead tr:only-child th {\n",
       "        text-align: right;\n",
       "    }\n",
       "\n",
       "    .dataframe thead th {\n",
       "        text-align: left;\n",
       "    }\n",
       "\n",
       "    .dataframe tbody tr th {\n",
       "        vertical-align: top;\n",
       "    }\n",
       "</style>\n",
       "<table border=\"1\" class=\"dataframe\">\n",
       "  <thead>\n",
       "    <tr style=\"text-align: right;\">\n",
       "      <th></th>\n",
       "      <th>#Drive Voltage</th>\n",
       "      <th>E_SI</th>\n",
       "      <th>Measured Polarization</th>\n",
       "      <th>P_SI</th>\n",
       "      <th>Point</th>\n",
       "      <th>Time (ms)</th>\n",
       "      <th>Voltage Integration(V*s)</th>\n",
       "      <th>P from R</th>\n",
       "    </tr>\n",
       "  </thead>\n",
       "  <tbody>\n",
       "    <tr>\n",
       "      <th>0</th>\n",
       "      <td>-7.0190</td>\n",
       "      <td>-7.0190</td>\n",
       "      <td>-2.314750</td>\n",
       "      <td>-0.023148</td>\n",
       "      <td>1.0</td>\n",
       "      <td>0.05</td>\n",
       "      <td>0.000000</td>\n",
       "      <td>-0.166263</td>\n",
       "    </tr>\n",
       "    <tr>\n",
       "      <th>1</th>\n",
       "      <td>-2.8229</td>\n",
       "      <td>-2.8229</td>\n",
       "      <td>-2.310897</td>\n",
       "      <td>-0.023109</td>\n",
       "      <td>2.0</td>\n",
       "      <td>0.10</td>\n",
       "      <td>-0.000246</td>\n",
       "      <td>-0.166286</td>\n",
       "    </tr>\n",
       "    <tr>\n",
       "      <th>2</th>\n",
       "      <td>3.5095</td>\n",
       "      <td>3.5095</td>\n",
       "      <td>-2.303527</td>\n",
       "      <td>-0.023035</td>\n",
       "      <td>3.0</td>\n",
       "      <td>0.15</td>\n",
       "      <td>-0.000229</td>\n",
       "      <td>-0.166284</td>\n",
       "    </tr>\n",
       "    <tr>\n",
       "      <th>3</th>\n",
       "      <td>-1.2207</td>\n",
       "      <td>-1.2207</td>\n",
       "      <td>-2.295486</td>\n",
       "      <td>-0.022955</td>\n",
       "      <td>4.0</td>\n",
       "      <td>0.20</td>\n",
       "      <td>-0.000172</td>\n",
       "      <td>-0.166279</td>\n",
       "    </tr>\n",
       "    <tr>\n",
       "      <th>4</th>\n",
       "      <td>2.6703</td>\n",
       "      <td>2.6703</td>\n",
       "      <td>-2.291298</td>\n",
       "      <td>-0.022913</td>\n",
       "      <td>5.0</td>\n",
       "      <td>0.25</td>\n",
       "      <td>-0.000135</td>\n",
       "      <td>-0.166276</td>\n",
       "    </tr>\n",
       "  </tbody>\n",
       "</table>\n",
       "</div>"
      ],
      "text/plain": [
       "   #Drive Voltage    E_SI  Measured Polarization      P_SI  Point  Time (ms)  \\\n",
       "0         -7.0190 -7.0190              -2.314750 -0.023148    1.0       0.05   \n",
       "1         -2.8229 -2.8229              -2.310897 -0.023109    2.0       0.10   \n",
       "2          3.5095  3.5095              -2.303527 -0.023035    3.0       0.15   \n",
       "3         -1.2207 -1.2207              -2.295486 -0.022955    4.0       0.20   \n",
       "4          2.6703  2.6703              -2.291298 -0.022913    5.0       0.25   \n",
       "\n",
       "   Voltage Integration(V*s)  P from R  \n",
       "0                  0.000000 -0.166263  \n",
       "1                 -0.000246 -0.166286  \n",
       "2                 -0.000229 -0.166284  \n",
       "3                 -0.000172 -0.166279  \n",
       "4                 -0.000135 -0.166276  "
      ]
     },
     "execution_count": 154,
     "metadata": {},
     "output_type": "execute_result"
    }
   ],
   "source": [
    "#剔除重叠的部分，删除500-1000行 以及 1500-2000行\n",
    "# 创建了 New_dataframe 来装删除后的data\n",
    "P_positivepart= df.iloc[0:500]\n",
    "P_negativepart= df.iloc[1000:1500]\n",
    "\n",
    "#调到原点\n",
    "P_positivepart['P from R'] = P_positivepart['P from R'] - 0.5*(max(P_positivepart['P from R'])+min(P_positivepart['P from R']))\n",
    "P_negativepart['P from R'] = P_negativepart['P from R'] - 0.5*(max(P_negativepart['P from R'])+min(P_negativepart['P from R']))#- (df.loc[1000, 'P from R'] -df.loc[0, 'P from R'])\n",
    "\n",
    "plt.plot(P_positivepart['#Drive Voltage'], P_positivepart['P from R'], color='red', marker='o', linestyle='dashed',linewidth=0.1, markersize=1)\n",
    "plt.plot(P_negativepart['#Drive Voltage'], P_negativepart['P from R'], color='blue', marker='o', linestyle='dashed',linewidth=0.1, markersize=1)\n",
    "plt.show()\n",
    "\n",
    "# 拼接前后2个部分\n",
    "New_df = P_positivepart.append(P_negativepart)\n",
    "print('New length = ',len(New_df),'(lines)',)# 确认length是不是1000，删除前是2000\n",
    "New_df.head(5)"
   ]
  },
  {
   "cell_type": "code",
   "execution_count": 155,
   "metadata": {},
   "outputs": [
    {
     "data": {
      "text/html": [
       "<div>\n",
       "<style>\n",
       "    .dataframe thead tr:only-child th {\n",
       "        text-align: right;\n",
       "    }\n",
       "\n",
       "    .dataframe thead th {\n",
       "        text-align: left;\n",
       "    }\n",
       "\n",
       "    .dataframe tbody tr th {\n",
       "        vertical-align: top;\n",
       "    }\n",
       "</style>\n",
       "<table border=\"1\" class=\"dataframe\">\n",
       "  <thead>\n",
       "    <tr style=\"text-align: right;\">\n",
       "      <th></th>\n",
       "      <th>#Drive Voltage</th>\n",
       "      <th>E_SI</th>\n",
       "      <th>Measured Polarization</th>\n",
       "      <th>P_SI</th>\n",
       "      <th>Point</th>\n",
       "      <th>Time (ms)</th>\n",
       "      <th>Voltage Integration(V*s)</th>\n",
       "      <th>P from R</th>\n",
       "      <th>Corrected P</th>\n",
       "    </tr>\n",
       "  </thead>\n",
       "  <tbody>\n",
       "    <tr>\n",
       "      <th>0</th>\n",
       "      <td>-7.0190</td>\n",
       "      <td>-7.0190</td>\n",
       "      <td>-2.314750</td>\n",
       "      <td>-0.023148</td>\n",
       "      <td>1.0</td>\n",
       "      <td>0.05</td>\n",
       "      <td>0.000000</td>\n",
       "      <td>-0.166263</td>\n",
       "      <td>-2.148487</td>\n",
       "    </tr>\n",
       "    <tr>\n",
       "      <th>1</th>\n",
       "      <td>-2.8229</td>\n",
       "      <td>-2.8229</td>\n",
       "      <td>-2.310897</td>\n",
       "      <td>-0.023109</td>\n",
       "      <td>2.0</td>\n",
       "      <td>0.10</td>\n",
       "      <td>-0.000246</td>\n",
       "      <td>-0.166286</td>\n",
       "      <td>-2.144611</td>\n",
       "    </tr>\n",
       "    <tr>\n",
       "      <th>2</th>\n",
       "      <td>3.5095</td>\n",
       "      <td>3.5095</td>\n",
       "      <td>-2.303527</td>\n",
       "      <td>-0.023035</td>\n",
       "      <td>3.0</td>\n",
       "      <td>0.15</td>\n",
       "      <td>-0.000229</td>\n",
       "      <td>-0.166284</td>\n",
       "      <td>-2.137243</td>\n",
       "    </tr>\n",
       "    <tr>\n",
       "      <th>3</th>\n",
       "      <td>-1.2207</td>\n",
       "      <td>-1.2207</td>\n",
       "      <td>-2.295486</td>\n",
       "      <td>-0.022955</td>\n",
       "      <td>4.0</td>\n",
       "      <td>0.20</td>\n",
       "      <td>-0.000172</td>\n",
       "      <td>-0.166279</td>\n",
       "      <td>-2.129207</td>\n",
       "    </tr>\n",
       "    <tr>\n",
       "      <th>4</th>\n",
       "      <td>2.6703</td>\n",
       "      <td>2.6703</td>\n",
       "      <td>-2.291298</td>\n",
       "      <td>-0.022913</td>\n",
       "      <td>5.0</td>\n",
       "      <td>0.25</td>\n",
       "      <td>-0.000135</td>\n",
       "      <td>-0.166276</td>\n",
       "      <td>-2.125022</td>\n",
       "    </tr>\n",
       "  </tbody>\n",
       "</table>\n",
       "</div>"
      ],
      "text/plain": [
       "   #Drive Voltage    E_SI  Measured Polarization      P_SI  Point  Time (ms)  \\\n",
       "0         -7.0190 -7.0190              -2.314750 -0.023148    1.0       0.05   \n",
       "1         -2.8229 -2.8229              -2.310897 -0.023109    2.0       0.10   \n",
       "2          3.5095  3.5095              -2.303527 -0.023035    3.0       0.15   \n",
       "3         -1.2207 -1.2207              -2.295486 -0.022955    4.0       0.20   \n",
       "4          2.6703  2.6703              -2.291298 -0.022913    5.0       0.25   \n",
       "\n",
       "   Voltage Integration(V*s)  P from R  Corrected P  \n",
       "0                  0.000000 -0.166263    -2.148487  \n",
       "1                 -0.000246 -0.166286    -2.144611  \n",
       "2                 -0.000229 -0.166284    -2.137243  \n",
       "3                 -0.000172 -0.166279    -2.129207  \n",
       "4                 -0.000135 -0.166276    -2.125022  "
      ]
     },
     "execution_count": 155,
     "metadata": {},
     "output_type": "execute_result"
    }
   ],
   "source": [
    "#用测量的 P 减去 P from R，即得到 P without conduction\n",
    "P_corrected =New_df['Measured Polarization']-New_df['P from R']\n",
    "New_df.insert(len(df.columns), \"Corrected P\", P_corrected)\n",
    "New_df.head(5)"
   ]
  },
  {
   "cell_type": "code",
   "execution_count": 157,
   "metadata": {},
   "outputs": [
    {
     "data": {
      "image/png": "[encoded data removed]",
      "text/plain": [
       "<Figure size 432x288 with 1 Axes>"
      ]
     },
     "metadata": {},
     "output_type": "display_data"
    },
    {
     "data": {
      "image/png": "[encoded data removed]",
      "text/plain": [
       "<Figure size 432x288 with 1 Axes>"
      ]
     },
     "metadata": {},
     "output_type": "display_data"
    }
   ],
   "source": [
    "plt.plot(New_df['#Drive Voltage'], New_df['Corrected P'], color='red', marker='o', linestyle='dashed',linewidth=0.1, markersize=1)\n",
    "plt.plot(New_df['#Drive Voltage'], New_df['Measured Polarization'], color='blue', marker='+', linestyle='dashed',linewidth=0.1, markersize=1)\n",
    "\n",
    "plt.legend(['Corrected P', 'Measured', 'PfromR'],loc='lower right', shadow=True, fontsize='large')\n",
    "\n",
    "# plt.axis([-10,30,-1,1])\n",
    "\n",
    "plt.show()\n",
    "\n",
    "plt.plot(New_df.loc[0:1500,'Measured Polarization'], color='blue', marker='+', linestyle='dashed',linewidth=0.1, markersize=1)\n",
    "plt.plot(New_df.loc[0:1500,'Corrected P'], color='red', marker='+', linestyle='dashed',linewidth=0.1, markersize=1)\n",
    "#plt.plot(New_df['Corrected P'], color='red', marker='+', linestyle='dashed',linewidth=0.1, markersize=1)\n",
    "\n",
    "plt.show()"
   ]
  },
  {
   "cell_type": "markdown",
   "metadata": {},
   "source": [
    "# centering Measured_P and Corrected_P"
   ]
  },
  {
   "cell_type": "code",
   "execution_count": 163,
   "metadata": {},
   "outputs": [
    {
     "data": {
      "image/png": "[encoded data removed]",
      "text/plain": [
       "<Figure size 432x288 with 1 Axes>"
      ]
     },
     "metadata": {},
     "output_type": "display_data"
    }
   ],
   "source": [
    "center_MP = New_df.loc[0:500,'Measured Polarization']-0.5*(New_df.loc[0,'Measured Polarization']+ New_df.loc[499,'Measured Polarization'])\n",
    "plt.plot(New_df.loc[0:500,'#Drive Voltage'],center_MP, color='red', marker='+', linestyle='dashed',linewidth=0.1, markersize=1)\n",
    "\n",
    "center_CP = New_df.loc[0:500,'Corrected P']-0.5*(New_df.loc[0,'Corrected P']+ New_df.loc[499,'Corrected P'])\n",
    "plt.plot(New_df.loc[0:500,'#Drive Voltage'],center_CP, color='blue', marker='+', linestyle='dashed',linewidth=0.1, markersize=1)\n",
    "\n",
    "# plt.axis([-10,30,-1,1])\n",
    "plt.show()"
   ]
  },
  {
   "cell_type": "code",
   "execution_count": 164,
   "metadata": {},
   "outputs": [],
   "source": [
    "#centering the 2nd half\n",
    "center_MP2 = New_df.loc[1000:1500,'Measured Polarization'] - (New_df.loc[1000,'Measured Polarization'] - center_MP[499])\n",
    "center_CP2 = New_df.loc[1000:1500,'Corrected P'] - (New_df.loc[1000,'Corrected P'] - center_CP[499])"
   ]
  },
  {
   "cell_type": "code",
   "execution_count": 170,
   "metadata": {},
   "outputs": [
    {
     "data": {
      "image/png": "[encoded data removed]",
      "text/plain": [
       "<Figure size 432x288 with 1 Axes>"
      ]
     },
     "metadata": {},
     "output_type": "display_data"
    }
   ],
   "source": [
    "\n",
    "plt.plot(New_df.loc[0:500,'#Drive Voltage'],center_MP, color='red', marker='+', linestyle='dashed',linewidth=0.1, markersize=1)\n",
    "plt.plot(New_df.loc[0:500,'#Drive Voltage'],center_CP, color='blue', marker='+', linestyle='dashed',linewidth=0.1, markersize=1)\n",
    "\n",
    "plt.plot(New_df.loc[1000:1500,'#Drive Voltage'],center_MP2, color='red', marker='+', linestyle='dashed',linewidth=0.1, markersize=1)\n",
    "plt.plot(New_df.loc[1000:1500,'#Drive Voltage'],center_CP2, color='blue', marker='+', linestyle='dashed',linewidth=0.1, markersize=1)\n",
    "\n",
    "# centering 后的 P_fromR 可以有centering 后的 Measured_P 和 Corrected_P 做差得到\n",
    "plt.plot(New_df.loc[0:500,'#Drive Voltage'],center_MP-center_CP, color='green', marker='+', linestyle='dashed',linewidth=0.1, markersize=1)\n",
    "plt.plot(New_df.loc[1000:1500,'#Drive Voltage'],center_MP2-center_CP2, color='green', marker='+', linestyle='dashed',linewidth=0.1, markersize=1)\n",
    "\n",
    "# plt.axis([-10,30,-1,1])\n",
    "plt.show()"
   ]
  },
  {
   "cell_type": "code",
   "execution_count": 171,
   "metadata": {},
   "outputs": [
    {
     "data": {
      "image/png": "[encoded data removed]",
      "text/plain": [
       "<Figure size 432x288 with 1 Axes>"
      ]
     },
     "metadata": {},
     "output_type": "display_data"
    }
   ],
   "source": [
    "# centering 后的 P_fromR 可以有centering 后的 Measured_P 和 Corrected_P 做差得到\n",
    "plt.plot(New_df.loc[0:500,'#Drive Voltage'],center_MP-center_CP, color='green', marker='+', linestyle='dashed',linewidth=0.1, markersize=1)\n",
    "plt.plot(New_df.loc[1000:1500,'#Drive Voltage'],center_MP2-center_CP2, color='green', marker='+', linestyle='dashed',linewidth=0.1, markersize=1)\n",
    "\n",
    "plt.show()"
   ]
  },
  {
   "cell_type": "code",
   "execution_count": 188,
   "metadata": {},
   "outputs": [
    {
     "name": "stdout",
     "output_type": "stream",
     "text": [
      "(1000, 6)\n"
     ]
    },
    {
     "data": {
      "text/html": [
       "<div>\n",
       "<style>\n",
       "    .dataframe thead tr:only-child th {\n",
       "        text-align: right;\n",
       "    }\n",
       "\n",
       "    .dataframe thead th {\n",
       "        text-align: left;\n",
       "    }\n",
       "\n",
       "    .dataframe tbody tr th {\n",
       "        vertical-align: top;\n",
       "    }\n",
       "</style>\n",
       "<table border=\"1\" class=\"dataframe\">\n",
       "  <thead>\n",
       "    <tr style=\"text-align: right;\">\n",
       "      <th></th>\n",
       "      <th>Corrected P</th>\n",
       "      <th>Drive Voltage</th>\n",
       "      <th>E_SI</th>\n",
       "      <th>Measured Polarization</th>\n",
       "      <th>P from R</th>\n",
       "      <th>Time (ms)</th>\n",
       "    </tr>\n",
       "  </thead>\n",
       "  <tbody>\n",
       "    <tr>\n",
       "      <th>0</th>\n",
       "      <td>-2.047388</td>\n",
       "      <td>-7.0190</td>\n",
       "      <td>-28076.0</td>\n",
       "      <td>-2.213653</td>\n",
       "      <td>-0.166265</td>\n",
       "      <td>0.05</td>\n",
       "    </tr>\n",
       "    <tr>\n",
       "      <th>1</th>\n",
       "      <td>-2.043513</td>\n",
       "      <td>-2.8229</td>\n",
       "      <td>-11291.6</td>\n",
       "      <td>-2.209801</td>\n",
       "      <td>-0.166288</td>\n",
       "      <td>0.10</td>\n",
       "    </tr>\n",
       "    <tr>\n",
       "      <th>2</th>\n",
       "      <td>-2.036145</td>\n",
       "      <td>3.5095</td>\n",
       "      <td>14038.0</td>\n",
       "      <td>-2.202430</td>\n",
       "      <td>-0.166286</td>\n",
       "      <td>0.15</td>\n",
       "    </tr>\n",
       "    <tr>\n",
       "      <th>3</th>\n",
       "      <td>-2.028109</td>\n",
       "      <td>-1.2207</td>\n",
       "      <td>-4882.8</td>\n",
       "      <td>-2.194389</td>\n",
       "      <td>-0.166281</td>\n",
       "      <td>0.20</td>\n",
       "    </tr>\n",
       "    <tr>\n",
       "      <th>4</th>\n",
       "      <td>-2.023924</td>\n",
       "      <td>2.6703</td>\n",
       "      <td>10681.2</td>\n",
       "      <td>-2.190201</td>\n",
       "      <td>-0.166277</td>\n",
       "      <td>0.25</td>\n",
       "    </tr>\n",
       "    <tr>\n",
       "      <th>5</th>\n",
       "      <td>-2.020754</td>\n",
       "      <td>3.1281</td>\n",
       "      <td>12512.4</td>\n",
       "      <td>-2.187019</td>\n",
       "      <td>-0.166264</td>\n",
       "      <td>0.30</td>\n",
       "    </tr>\n",
       "    <tr>\n",
       "      <th>6</th>\n",
       "      <td>-2.017752</td>\n",
       "      <td>2.3651</td>\n",
       "      <td>9460.4</td>\n",
       "      <td>-2.184003</td>\n",
       "      <td>-0.166252</td>\n",
       "      <td>0.35</td>\n",
       "    </tr>\n",
       "    <tr>\n",
       "      <th>7</th>\n",
       "      <td>-2.009892</td>\n",
       "      <td>3.6621</td>\n",
       "      <td>14648.4</td>\n",
       "      <td>-2.176129</td>\n",
       "      <td>-0.166238</td>\n",
       "      <td>0.40</td>\n",
       "    </tr>\n",
       "    <tr>\n",
       "      <th>8</th>\n",
       "      <td>-2.007237</td>\n",
       "      <td>7.5531</td>\n",
       "      <td>30212.4</td>\n",
       "      <td>-2.173449</td>\n",
       "      <td>-0.166212</td>\n",
       "      <td>0.45</td>\n",
       "    </tr>\n",
       "    <tr>\n",
       "      <th>9</th>\n",
       "      <td>-1.998390</td>\n",
       "      <td>6.0272</td>\n",
       "      <td>24108.8</td>\n",
       "      <td>-2.164572</td>\n",
       "      <td>-0.166181</td>\n",
       "      <td>0.50</td>\n",
       "    </tr>\n",
       "  </tbody>\n",
       "</table>\n",
       "</div>"
      ],
      "text/plain": [
       "   Corrected P  Drive Voltage     E_SI  Measured Polarization  P from R  \\\n",
       "0    -2.047388        -7.0190 -28076.0              -2.213653 -0.166265   \n",
       "1    -2.043513        -2.8229 -11291.6              -2.209801 -0.166288   \n",
       "2    -2.036145         3.5095  14038.0              -2.202430 -0.166286   \n",
       "3    -2.028109        -1.2207  -4882.8              -2.194389 -0.166281   \n",
       "4    -2.023924         2.6703  10681.2              -2.190201 -0.166277   \n",
       "5    -2.020754         3.1281  12512.4              -2.187019 -0.166264   \n",
       "6    -2.017752         2.3651   9460.4              -2.184003 -0.166252   \n",
       "7    -2.009892         3.6621  14648.4              -2.176129 -0.166238   \n",
       "8    -2.007237         7.5531  30212.4              -2.173449 -0.166212   \n",
       "9    -1.998390         6.0272  24108.8              -2.164572 -0.166181   \n",
       "\n",
       "   Time (ms)  \n",
       "0       0.05  \n",
       "1       0.10  \n",
       "2       0.15  \n",
       "3       0.20  \n",
       "4       0.25  \n",
       "5       0.30  \n",
       "6       0.35  \n",
       "7       0.40  \n",
       "8       0.45  \n",
       "9       0.50  "
      ]
     },
     "execution_count": 188,
     "metadata": {},
     "output_type": "execute_result"
    }
   ],
   "source": [
    "# 建立新的dataframe,拼接\n",
    "MP = center_MP.append(center_CP2)\n",
    "CP = center_CP.append(center_CP2)\n",
    "DriveVol = New_df.loc[0:500,'#Drive Voltage'].append(New_df.loc[1000:1500,'#Drive Voltage'])\n",
    "PfromR = MP - CP\n",
    "E_SI = DriveVol/(250*0.000001)\n",
    "time = New_df.loc[0:500,'Time (ms)'].append(New_df.loc[1000:1500,'Time (ms)'])\n",
    "\n",
    "dictionary={\"E_SI\":E_SI,\n",
    "\"Measured Polarization\":MP,\n",
    "\"Corrected P\":CP,\n",
    "\"P from R\":PfromR,\n",
    "\"Drive Voltage\":DriveVol,\n",
    "\"Time (ms)\":time\n",
    "           }\n",
    "Centerred_df=pd.DataFrame(dictionary)\n",
    "print(Centerred_df.shape)\n",
    "Centerred_df.head(10)\n",
    "\n",
    "# MP.head(10)\n",
    "# plt.plot(DriveVol, color='green', marker='+', linestyle='dashed',linewidth=0.1, markersize=1)\n",
    "\n",
    "# plt.show()\n",
    "# print(len(DriveVol))\n",
    "# print(len(MP))"
   ]
  },
  {
   "cell_type": "code",
   "execution_count": 189,
   "metadata": {},
   "outputs": [
    {
     "name": "stdout",
     "output_type": "stream",
     "text": [
      "[359.93, 360.05, 360.41, 360.8, 361.17, 361.4, 361.72, 362.03, 362.38, 362.65, 363.04, 363.37, 363.62, 363.96, 364.16, 364.54, 364.75, 364.92, 365.18, 365.41, 365.69, 365.92, 366.19, 366.35, 366.65, 366.91, 367.12, 367.4, 367.63, 367.89, 368.17, 368.4, 368.64, 368.88, 369.1, 369.37, 369.61, 369.91, 370.14, 370.39, 370.58, 370.89, 371.11, 371.37, 371.62, 371.83, 372.08, 372.33, 372.6, 372.82, 373.06, 373.35, 373.53, 373.79, 374.06, 374.3, 374.57, 374.79, 375.07, 375.27, 375.55, 375.77, 376.04, 376.31, 376.47, 376.82, 377.08, 377.25, 377.52, 377.9, 378.06, 378.34, 378.62, 378.88, 379.02, 379.25, 379.64, 379.79, 380.06, 380.29, 380.54, 380.79, 381.0, 381.36, 381.54, 381.84, 381.99, 382.38, 382.46, 382.79, 383.06, 383.32, 383.51, 383.8, 384.01, 384.35, 384.43, 384.8, 384.98, 385.23, 385.44, 385.74, 385.99, 386.22, 386.5, 386.64, 386.96, 387.2, 387.53, 387.73, 387.89, 388.26, 388.44, 388.7, 388.92, 389.22, 389.4, 389.61, 389.96, 390.13, 390.43, 390.63, 390.88, 391.16, 391.39, 391.69, 391.87, 392.16, 392.34, 392.73, 392.9, 393.15, 393.39, 393.67, 393.9, 394.12, 394.37, 394.64, 394.88, 395.08]\n"
     ]
    }
   ],
   "source": [
    "#从文件名提取温度with regular expression\n",
    "path = r'C:\\\\PhD-Zipeng\\\\Research projects\\\\PUND\\\\BF4 PUND PE Heating'\n",
    "files = os.listdir(path)\n",
    "temperature = list()\n",
    "for file in files:\n",
    "    if file.endswith(\".tab\"):\n",
    "        num = re.findall(r\"\\d+.\\d+\", file)\n",
    "        temperature.append(float(num[0]))\n",
    "print(temperature)"
   ]
  },
  {
   "cell_type": "code",
   "execution_count": 224,
   "metadata": {},
   "outputs": [
    {
     "name": "stderr",
     "output_type": "stream",
     "text": [
      "C:\\Users\\Dev\\Anaconda3\\lib\\site-packages\\ipykernel_launcher.py:31: DeprecationWarning: \n",
      ".ix is deprecated. Please use\n",
      ".loc for label based indexing or\n",
      ".iloc for positional indexing\n",
      "\n",
      "See the documentation here:\n",
      "http://pandas.pydata.org/pandas-docs/stable/indexing.html#ix-indexer-is-deprecated\n",
      "C:\\Users\\Dev\\Anaconda3\\lib\\site-packages\\ipykernel_launcher.py:49: SettingWithCopyWarning: \n",
      "A value is trying to be set on a copy of a slice from a DataFrame.\n",
      "Try using .loc[row_indexer,col_indexer] = value instead\n",
      "\n",
      "See the caveats in the documentation: http://pandas.pydata.org/pandas-docs/stable/indexing.html#indexing-view-versus-copy\n",
      "C:\\Users\\Dev\\Anaconda3\\lib\\site-packages\\ipykernel_launcher.py:50: SettingWithCopyWarning: \n",
      "A value is trying to be set on a copy of a slice from a DataFrame.\n",
      "Try using .loc[row_indexer,col_indexer] = value instead\n",
      "\n",
      "See the caveats in the documentation: http://pandas.pydata.org/pandas-docs/stable/indexing.html#indexing-view-versus-copy\n"
     ]
    },
    {
     "name": "stdout",
     "output_type": "stream",
     "text": [
      "(1000, 6)\n",
      "(1000, 6)\n",
      "(1000, 6)\n",
      "(1000, 6)\n",
      "(1000, 6)\n",
      "(1000, 6)\n",
      "(1000, 6)\n",
      "(1000, 6)\n",
      "(1000, 6)\n",
      "(1000, 6)\n",
      "(1000, 6)\n",
      "(1000, 6)\n",
      "(1000, 6)\n",
      "(1000, 6)\n",
      "(1000, 6)\n",
      "(1000, 6)\n",
      "(1000, 6)\n",
      "(1000, 6)\n",
      "(1000, 6)\n",
      "(1000, 6)\n",
      "(1000, 6)\n",
      "(1000, 6)\n",
      "(1000, 6)\n",
      "(1000, 6)\n",
      "(1000, 6)\n",
      "(1000, 6)\n",
      "(1000, 6)\n",
      "(1000, 6)\n",
      "(1000, 6)\n",
      "(1000, 6)\n",
      "(1000, 6)\n",
      "(1000, 6)\n",
      "(1000, 6)\n",
      "(1000, 6)\n",
      "(1000, 6)\n",
      "(1000, 6)\n",
      "(1000, 6)\n",
      "(1000, 6)\n",
      "(1000, 6)\n",
      "(1000, 6)\n",
      "(1000, 6)\n",
      "(1000, 6)\n",
      "(1000, 6)\n",
      "(1000, 6)\n",
      "(1000, 6)\n",
      "(1000, 6)\n",
      "(1000, 6)\n",
      "(1000, 6)\n",
      "(1000, 6)\n",
      "(1000, 6)\n",
      "(1000, 6)\n",
      "(1000, 6)\n",
      "(1000, 6)\n",
      "(1000, 6)\n",
      "(1000, 6)\n",
      "(1000, 6)\n",
      "(1000, 6)\n",
      "(1000, 6)\n",
      "(1000, 6)\n",
      "(1000, 6)\n",
      "(1000, 6)\n",
      "(1000, 6)\n",
      "(1000, 6)\n",
      "(1000, 6)\n",
      "(1000, 6)\n",
      "(1000, 6)\n",
      "(1000, 6)\n",
      "(1000, 6)\n",
      "(1000, 6)\n",
      "(1000, 6)\n",
      "(1000, 6)\n",
      "(1000, 6)\n",
      "(1000, 6)\n",
      "(1000, 6)\n",
      "(1000, 6)\n",
      "(1000, 6)\n",
      "(1000, 6)\n",
      "(1000, 6)\n",
      "(1000, 6)\n",
      "(1000, 6)\n",
      "(1000, 6)\n",
      "(1000, 6)\n",
      "(1000, 6)\n",
      "(1000, 6)\n",
      "(1000, 6)\n",
      "(1000, 6)\n",
      "(1000, 6)\n",
      "(1000, 6)\n",
      "(1000, 6)\n",
      "(1000, 6)\n",
      "(1000, 6)\n",
      "(1000, 6)\n",
      "(1000, 6)\n",
      "(1000, 6)\n",
      "(1000, 6)\n",
      "(1000, 6)\n",
      "(1000, 6)\n",
      "(1000, 6)\n",
      "(1000, 6)\n",
      "(1000, 6)\n",
      "(1000, 6)\n",
      "(1000, 6)\n",
      "(1000, 6)\n",
      "(1000, 6)\n",
      "(1000, 6)\n",
      "(1000, 6)\n",
      "(1000, 6)\n",
      "(1000, 6)\n",
      "(1000, 6)\n",
      "(1000, 6)\n",
      "(1000, 6)\n",
      "(1000, 6)\n",
      "(1000, 6)\n",
      "(1000, 6)\n",
      "(1000, 6)\n",
      "(1000, 6)\n",
      "(1000, 6)\n",
      "(1000, 6)\n",
      "(1000, 6)\n",
      "(1000, 6)\n",
      "(1000, 6)\n",
      "(1000, 6)\n",
      "(1000, 6)\n",
      "(1000, 6)\n",
      "(1000, 6)\n",
      "(1000, 6)\n",
      "(1000, 6)\n",
      "(1000, 6)\n",
      "(1000, 6)\n",
      "(1000, 6)\n",
      "(1000, 6)\n",
      "(1000, 6)\n",
      "(1000, 6)\n",
      "(1000, 6)\n",
      "(1000, 6)\n",
      "(1000, 6)\n",
      "(1000, 6)\n",
      "(1000, 6)\n",
      "(1000, 6)\n",
      "(1000, 6)\n"
     ]
    }
   ],
   "source": [
    "#批量操作所有文件\n",
    "path = 'C:\\\\PhD-Zipeng\\\\Research projects\\\\PUND\\\\BF4 PUND PE Heating'\n",
    "output_path = 'C:\\\\PhD-Zipeng\\\\Research projects\\\\DABCO\\\\BF4\\\\No16_PUND'\n",
    "files = glob(path + \"/*.tab\")\n",
    "\n",
    "lst_R=list()\n",
    "lst_R2=list()\n",
    "lst_T=list()\n",
    "lst_Pshift=list()\n",
    "lst_Pshift2=list()\n",
    "i = 0\n",
    "\n",
    "for file in files:\n",
    "    df = pd.read_csv(file,delimiter='\\t',encoding= 'unicode_escape')\n",
    "    P_value = df['Measured Polarization']\n",
    "    P_peak1 = P_value[0:500]\n",
    "    index1 = find_peaks(P_peak1, prominence = 1)[0]\n",
    "    P_peak2 = P_value[500:1000]\n",
    "    index2 = find_peaks(P_peak2, prominence = 1)[0]+500\n",
    "    P_peak3 = P_value[1000:1500]\n",
    "    index3 = find_peaks(-P_peak3, prominence = 1)[0]+1000\n",
    "    P_peak4 = P_value[1500:2000]\n",
    "    index4 = find_peaks(-P_peak4, prominence = 1)[0]+1500\n",
    "    \n",
    "    ##插入voltage 积分\n",
    "    x = 0.001*df['Time (ms)']\n",
    "    y = df['#Drive Voltage']\n",
    "    y_integration = integrate.cumtrapz(y, x, initial=0)\n",
    "    df.insert(len(df.columns), \"Voltage Integration\", y_integration)\n",
    "    ##计算 V inte, R, 1/Area*R\n",
    "    delta_V_integral = df.ix[index2[0],'Voltage Integration']-df.ix[index1[0],'Voltage Integration']\n",
    "    delta_V_integral2 = df.ix[index4[0],'Voltage Integration']-df.ix[index3[0],'Voltage Integration']\n",
    "    delta_P=df.ix[index2[0],'Measured Polarization']-df.ix[index1[0],'Measured Polarization']\n",
    "    delta_P2=df.ix[index4[0],'Measured Polarization']-df.ix[index3[0],'Measured Polarization']\n",
    "    one_over_AR = delta_P/delta_V_integral\n",
    "    resistance = (delta_V_integral)/(delta_P*0.0242*0.000001)\n",
    "    resistance2 = (delta_V_integral2)/(delta_P2*0.0242*0.000001)\n",
    "    \n",
    "    #计算P from R 然后 Centering\n",
    "    P_fromR  = df['Voltage Integration']*one_over_AR\n",
    "    P_fromR = P_fromR - 0.5*(max(P_fromR)+min(P_fromR))\n",
    "    df.insert(len(df.columns), \"P from R\", P_fromR)\n",
    "    \n",
    "    #剔除重叠的部分，删除500-1000行 以及 1500-2000行\n",
    "    P_positivepart= df.iloc[0:500]\n",
    "    P_negativepart= df.iloc[1000:1500]\n",
    "    \n",
    "    #调到原点\n",
    "    P_positivepart['P from R'] = P_positivepart['P from R'] - 0.5*(max(P_positivepart['P from R'])+min(P_positivepart['P from R']))\n",
    "    P_negativepart['P from R'] = P_negativepart['P from R'] - 0.5*(max(P_negativepart['P from R'])+min(P_negativepart['P from R']))#- (df.loc[1000, 'P from R'] -df.loc[0, 'P from R'])\n",
    "    \n",
    "    #创建了 New_dataframe 来装删除后的data\n",
    "    New_df = P_positivepart.append(P_negativepart)\n",
    "    \n",
    "    #计算corrected P\n",
    "    P_corrected =New_df['Measured Polarization']-New_df['P from R']\n",
    "    New_df.insert(len(df.columns), \"Corrected P\", P_corrected)\n",
    "    \n",
    "    #centering Measured and Corrected P\n",
    "    center_MP = New_df.loc[0:500,'Measured Polarization']-0.5*(New_df.loc[0,'Measured Polarization']+ New_df.loc[499,'Measured Polarization'])\n",
    "    center_CP = New_df.loc[0:500,'Corrected P']-0.5*(New_df.loc[0,'Corrected P']+ New_df.loc[499,'Corrected P'])\n",
    "    #centering the 2nd half\n",
    "    center_MP2 = New_df.loc[1000:1500,'Measured Polarization'] - (New_df.loc[1000,'Measured Polarization'] - center_MP[499])\n",
    "    center_CP2 = New_df.loc[1000:1500,'Corrected P'] - (New_df.loc[1000,'Corrected P'] - center_CP[499])\n",
    "    # 建立新的dataframe,拼接\n",
    "    MP = center_MP.append(center_MP2)\n",
    "    CP = center_CP.append(center_CP2)\n",
    "    DriveVol = New_df.loc[0:500,'#Drive Voltage'].append(New_df.loc[1000:1500,'#Drive Voltage'])\n",
    "    PfromR = MP - CP\n",
    "    E_SI = DriveVol/(250*0.000001)\n",
    "    time = New_df.loc[0:500,'Time (ms)'].append(New_df.loc[1000:1500,'Time (ms)'])\n",
    "\n",
    "    dictionary={\"E_SI\":E_SI,\n",
    "    \"Measured Polarization\":MP,\n",
    "    \"Corrected P\":CP,\n",
    "    \"P from R\":PfromR,\n",
    "    \"Drive Voltage\":DriveVol,\n",
    "    \"Time (ms)\":time\n",
    "               }\n",
    "    Centerred_df=pd.DataFrame(dictionary)\n",
    "    print(Centerred_df.shape)\n",
    "    Centerred_df.head(10)\n",
    "    \n",
    "    #输出center后的 dataframe\n",
    "#     file_name = output_path +'\\\\'+ str(temperature[i])+'.csv'\n",
    "#     Centerred_df.to_csv(file_name, index=None)\n",
    "    \n",
    "    #记录每个PE loop的 resistance value\n",
    "    lst_R.append(resistance)\n",
    "    lst_R2.append(resistance2)\n",
    "    lst_T.append(temperature[i])\n",
    "    lst_Pshift.append(delta_P)\n",
    "    lst_Pshift2.append(delta_P2)\n",
    "    i = i+1\n",
    "    \n",
    "    \n",
    "# print(lst_AR)\n",
    "# print(lst_T)\n",
    "# print(lst_Pshift)\n",
    "\n",
    "#将list转化成dictionary，然后转化成DataFrame\n",
    "dic={\"Resistance value\":lst_R,\n",
    "     \"Resistance value_2nd\":lst_R2,\n",
    "  \"T\":lst_T,\n",
    "  \"delta P(uC/cm2)\":lst_Pshift,\n",
    "     \"delta P_2nd(uC/cm2)\":lst_Pshift2}\n",
    "dt=pd.DataFrame(dic)\n"
   ]
  },
  {
   "cell_type": "code",
   "execution_count": 236,
   "metadata": {},
   "outputs": [
    {
     "name": "stdout",
     "output_type": "stream",
     "text": [
      "   Resistance value  Resistance value_2nd       T  delta P(uC/cm2)  \\\n",
      "0      4.071476e+08          6.003992e+08  359.93         0.366192   \n",
      "1      4.524890e+08          6.805183e+08  360.05         0.330511   \n",
      "2      3.897574e+08          5.815637e+08  360.41         0.382441   \n",
      "\n",
      "   delta P_2nd(uC/cm2)  \n",
      "0            -0.264845  \n",
      "1            -0.233351  \n",
      "2            -0.273220  \n"
     ]
    },
    {
     "data": {
      "image/png": "[encoded data removed]",
      "text/plain": [
       "<Figure size 432x288 with 1 Axes>"
      ]
     },
     "metadata": {},
     "output_type": "display_data"
    },
    {
     "data": {
      "image/png": "[encoded data removed]",
      "text/plain": [
       "<Figure size 432x288 with 1 Axes>"
      ]
     },
     "metadata": {},
     "output_type": "display_data"
    }
   ],
   "source": [
    "print(dt.head(3))\n",
    "plt.figure()\n",
    "plt.plot(dt['T'],dt['Resistance value'],'go')\n",
    "plt.plot(dt['T'],dt['Resistance value_2nd'],'r+')\n",
    "plt.xlabel('T(K)')\n",
    "plt.ylabel('R(ohm)')\n",
    "plt.ticklabel_format(style='sci', axis='y')\n",
    "# plt.axis([377,395,0,1600000000])\n",
    "\n",
    "plt.figure()\n",
    "plt.plot(dt['T'],dt['delta P(uC/cm2)'],'bo--') \n",
    "plt.plot(dt['T'],-dt['delta P_2nd(uC/cm2)'],'r+--') \n",
    "plt.xlabel('T(K)')\n",
    "plt.ylabel('P(uC/cm2)')\n",
    "# plt.axis([-10,30,-1,1])\n",
    "plt.show()"
   ]
  },
  {
   "cell_type": "code",
   "execution_count": null,
   "metadata": {
    "collapsed": true
   },
   "outputs": [],
   "source": []
  }
 ],
 "metadata": {
  "kernelspec": {
   "display_name": "Python 3",
   "language": "python",
   "name": "python3"
  },
  "language_info": {
   "codemirror_mode": {
    "name": "ipython",
    "version": 3
   },
   "file_extension": ".py",
   "mimetype": "text/x-python",
   "name": "python",
   "nbconvert_exporter": "python",
   "pygments_lexer": "ipython3",
   "version": "3.6.3"
  }
 },
 "nbformat": 4,
 "nbformat_minor": 2
}
