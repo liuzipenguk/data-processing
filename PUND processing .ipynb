{
 "cells": [
  {
   "cell_type": "code",
   "execution_count": 25,
   "metadata": {
    "collapsed": true
   },
   "outputs": [],
   "source": [
    "import re\n",
    "import os \n",
    "from glob import glob\n",
    "import pandas as pd\n",
    "import numpy as np\n",
    "import matplotlib as mpl\n",
    "import matplotlib.pyplot as plt\n",
    "from sklearn.linear_model import LinearRegression\n",
    "\n",
    "from scipy.signal import find_peaks"
   ]
  },
  {
   "cell_type": "code",
   "execution_count": 84,
   "metadata": {},
   "outputs": [
    {
     "data": {
      "text/html": [
       "<div>\n",
       "<style>\n",
       "    .dataframe thead tr:only-child th {\n",
       "        text-align: right;\n",
       "    }\n",
       "\n",
       "    .dataframe thead th {\n",
       "        text-align: left;\n",
       "    }\n",
       "\n",
       "    .dataframe tbody tr th {\n",
       "        vertical-align: top;\n",
       "    }\n",
       "</style>\n",
       "<table border=\"1\" class=\"dataframe\">\n",
       "  <thead>\n",
       "    <tr style=\"text-align: right;\">\n",
       "      <th></th>\n",
       "      <th>Point</th>\n",
       "      <th>Time (ms)</th>\n",
       "      <th>Drive Voltage</th>\n",
       "      <th>Measured Polarization</th>\n",
       "    </tr>\n",
       "  </thead>\n",
       "  <tbody>\n",
       "    <tr>\n",
       "      <th>0</th>\n",
       "      <td>1</td>\n",
       "      <td>0.1</td>\n",
       "      <td>-2.5940</td>\n",
       "      <td>-1.721656</td>\n",
       "    </tr>\n",
       "    <tr>\n",
       "      <th>1</th>\n",
       "      <td>2</td>\n",
       "      <td>0.2</td>\n",
       "      <td>-7.0953</td>\n",
       "      <td>-1.716463</td>\n",
       "    </tr>\n",
       "    <tr>\n",
       "      <th>2</th>\n",
       "      <td>3</td>\n",
       "      <td>0.3</td>\n",
       "      <td>-5.1117</td>\n",
       "      <td>-1.711270</td>\n",
       "    </tr>\n",
       "    <tr>\n",
       "      <th>3</th>\n",
       "      <td>4</td>\n",
       "      <td>0.4</td>\n",
       "      <td>-0.6104</td>\n",
       "      <td>-1.701722</td>\n",
       "    </tr>\n",
       "    <tr>\n",
       "      <th>4</th>\n",
       "      <td>5</td>\n",
       "      <td>0.5</td>\n",
       "      <td>-3.6621</td>\n",
       "      <td>-1.695691</td>\n",
       "    </tr>\n",
       "    <tr>\n",
       "      <th>5</th>\n",
       "      <td>6</td>\n",
       "      <td>0.6</td>\n",
       "      <td>2.4414</td>\n",
       "      <td>-1.687483</td>\n",
       "    </tr>\n",
       "    <tr>\n",
       "      <th>6</th>\n",
       "      <td>7</td>\n",
       "      <td>0.7</td>\n",
       "      <td>-2.1362</td>\n",
       "      <td>-1.678772</td>\n",
       "    </tr>\n",
       "    <tr>\n",
       "      <th>7</th>\n",
       "      <td>8</td>\n",
       "      <td>0.8</td>\n",
       "      <td>0.6104</td>\n",
       "      <td>-1.673914</td>\n",
       "    </tr>\n",
       "    <tr>\n",
       "      <th>8</th>\n",
       "      <td>9</td>\n",
       "      <td>0.9</td>\n",
       "      <td>7.0953</td>\n",
       "      <td>-1.666208</td>\n",
       "    </tr>\n",
       "    <tr>\n",
       "      <th>9</th>\n",
       "      <td>10</td>\n",
       "      <td>1.0</td>\n",
       "      <td>1.5259</td>\n",
       "      <td>-1.658837</td>\n",
       "    </tr>\n",
       "  </tbody>\n",
       "</table>\n",
       "</div>"
      ],
      "text/plain": [
       "   Point  Time (ms)  Drive Voltage  Measured Polarization\n",
       "0      1        0.1        -2.5940              -1.721656\n",
       "1      2        0.2        -7.0953              -1.716463\n",
       "2      3        0.3        -5.1117              -1.711270\n",
       "3      4        0.4        -0.6104              -1.701722\n",
       "4      5        0.5        -3.6621              -1.695691\n",
       "5      6        0.6         2.4414              -1.687483\n",
       "6      7        0.7        -2.1362              -1.678772\n",
       "7      8        0.8         0.6104              -1.673914\n",
       "8      9        0.9         7.0953              -1.666208\n",
       "9     10        1.0         1.5259              -1.658837"
      ]
     },
     "execution_count": 84,
     "metadata": {},
     "output_type": "execute_result"
    }
   ],
   "source": [
    "#读取单个的PE loop的文件\n",
    "df = pd.read_csv(r'C:\\PhD-Zipeng\\Research projects\\PUND\\1 - Copy.txt',delimiter='\\t',encoding= 'unicode_escape')\n",
    "df.head(10)"
   ]
  },
  {
   "cell_type": "code",
   "execution_count": 7,
   "metadata": {},
   "outputs": [
    {
     "data": {
      "image/png": "[encoded data removed]",
      "text/plain": [
       "<Figure size 432x288 with 1 Axes>"
      ]
     },
     "metadata": {},
     "output_type": "display_data"
    },
    {
     "name": "stdout",
     "output_type": "stream",
     "text": [
      "[ 256  750 1500]\n"
     ]
    },
    {
     "data": {
      "text/html": [
       "<div>\n",
       "<style>\n",
       "    .dataframe thead tr:only-child th {\n",
       "        text-align: right;\n",
       "    }\n",
       "\n",
       "    .dataframe thead th {\n",
       "        text-align: left;\n",
       "    }\n",
       "\n",
       "    .dataframe tbody tr th {\n",
       "        vertical-align: top;\n",
       "    }\n",
       "</style>\n",
       "<table border=\"1\" class=\"dataframe\">\n",
       "  <thead>\n",
       "    <tr style=\"text-align: right;\">\n",
       "      <th></th>\n",
       "      <th>Point</th>\n",
       "      <th>Time (ms)</th>\n",
       "      <th>Drive Voltage</th>\n",
       "      <th>Measured Polarization</th>\n",
       "    </tr>\n",
       "  </thead>\n",
       "  <tbody>\n",
       "    <tr>\n",
       "      <th>250</th>\n",
       "      <td>251</td>\n",
       "      <td>25.1</td>\n",
       "      <td>296.0968</td>\n",
       "      <td>3.005339</td>\n",
       "    </tr>\n",
       "    <tr>\n",
       "      <th>251</th>\n",
       "      <td>252</td>\n",
       "      <td>25.2</td>\n",
       "      <td>291.8243</td>\n",
       "      <td>3.010365</td>\n",
       "    </tr>\n",
       "    <tr>\n",
       "      <th>252</th>\n",
       "      <td>253</td>\n",
       "      <td>25.3</td>\n",
       "      <td>296.5546</td>\n",
       "      <td>3.013380</td>\n",
       "    </tr>\n",
       "    <tr>\n",
       "      <th>253</th>\n",
       "      <td>254</td>\n",
       "      <td>25.4</td>\n",
       "      <td>288.2385</td>\n",
       "      <td>3.014553</td>\n",
       "    </tr>\n",
       "    <tr>\n",
       "      <th>254</th>\n",
       "      <td>255</td>\n",
       "      <td>25.5</td>\n",
       "      <td>290.8325</td>\n",
       "      <td>3.017735</td>\n",
       "    </tr>\n",
       "    <tr>\n",
       "      <th>255</th>\n",
       "      <td>256</td>\n",
       "      <td>25.6</td>\n",
       "      <td>289.9170</td>\n",
       "      <td>3.017233</td>\n",
       "    </tr>\n",
       "    <tr>\n",
       "      <th>256</th>\n",
       "      <td>257</td>\n",
       "      <td>25.7</td>\n",
       "      <td>286.7126</td>\n",
       "      <td>3.020416</td>\n",
       "    </tr>\n",
       "    <tr>\n",
       "      <th>257</th>\n",
       "      <td>258</td>\n",
       "      <td>25.8</td>\n",
       "      <td>288.5437</td>\n",
       "      <td>3.018573</td>\n",
       "    </tr>\n",
       "    <tr>\n",
       "      <th>258</th>\n",
       "      <td>259</td>\n",
       "      <td>25.9</td>\n",
       "      <td>281.2958</td>\n",
       "      <td>3.017735</td>\n",
       "    </tr>\n",
       "    <tr>\n",
       "      <th>259</th>\n",
       "      <td>260</td>\n",
       "      <td>26.0</td>\n",
       "      <td>283.7372</td>\n",
       "      <td>3.018238</td>\n",
       "    </tr>\n",
       "  </tbody>\n",
       "</table>\n",
       "</div>"
      ],
      "text/plain": [
       "     Point  Time (ms)  Drive Voltage  Measured Polarization\n",
       "250    251       25.1       296.0968               3.005339\n",
       "251    252       25.2       291.8243               3.010365\n",
       "252    253       25.3       296.5546               3.013380\n",
       "253    254       25.4       288.2385               3.014553\n",
       "254    255       25.5       290.8325               3.017735\n",
       "255    256       25.6       289.9170               3.017233\n",
       "256    257       25.7       286.7126               3.020416\n",
       "257    258       25.8       288.5437               3.018573\n",
       "258    259       25.9       281.2958               3.017735\n",
       "259    260       26.0       283.7372               3.018238"
      ]
     },
     "execution_count": 7,
     "metadata": {},
     "output_type": "execute_result"
    }
   ],
   "source": [
    "# 提取出P值的plot,并且找到前两个peak，然后做差，即得出 delta P，which is from leakgae only\n",
    "P_value = df['Measured Polarization']\n",
    "plt.plot(P_value,'go--')\n",
    "plt.show()\n",
    "indices = find_peaks(P_value, prominence=1)[0]\n",
    "print(indices)\n",
    "\n",
    "df[250:260]\n",
    "\n",
    "# 因为找到的峰不止一个，为了保险起见，我选择将图像分段，0-500和500-1000个点为区间，分别找peak"
   ]
  },
  {
   "cell_type": "code",
   "execution_count": 60,
   "metadata": {},
   "outputs": [
    {
     "data": {
      "image/png": "[encoded data removed]",
      "text/plain": [
       "<Figure size 432x288 with 1 Axes>"
      ]
     },
     "metadata": {},
     "output_type": "display_data"
    },
    {
     "name": "stdout",
     "output_type": "stream",
     "text": [
      "[256]\n"
     ]
    }
   ],
   "source": [
    "P_peak1 = P_value[0:500]\n",
    "plt.plot(P_peak1, color='green', marker='+', linestyle='dashed',linewidth=0.1, markersize=2)\n",
    "plt.show()\n",
    "index1 = find_peaks(P_peak1, prominence = 1)[0]\n",
    "print(index1)"
   ]
  },
  {
   "cell_type": "code",
   "execution_count": 59,
   "metadata": {},
   "outputs": [
    {
     "data": {
      "image/png": "[encoded data removed]",
      "text/plain": [
       "<Figure size 432x288 with 1 Axes>"
      ]
     },
     "metadata": {},
     "output_type": "display_data"
    },
    {
     "name": "stdout",
     "output_type": "stream",
     "text": [
      "[750]\n"
     ]
    }
   ],
   "source": [
    "P_peak2 = P_value[500:1000]\n",
    "plt.plot(P_peak2,color='green', marker='+', linestyle='dashed',linewidth=0.1, markersize=2)\n",
    "plt.show()\n",
    "index2 = find_peaks(P_peak2, prominence = 1)[0]+500  #要加上500，因为上一段有500个点\n",
    "print(index2)"
   ]
  },
  {
   "cell_type": "code",
   "execution_count": 24,
   "metadata": {},
   "outputs": [
    {
     "name": "stdout",
     "output_type": "stream",
     "text": [
      "<class 'numpy.float64'>\n",
      "0.24943300000000024\n"
     ]
    }
   ],
   "source": [
    "# print(type(index2))\n",
    "# print(index2[0])\n",
    "delta_P=df.ix[index2[0],'Measured Polarization']-df.ix[index1[0],'Measured Polarization']\n",
    "\n",
    "print(type(delta_P))\n",
    "print(delta_P)\n"
   ]
  },
  {
   "cell_type": "code",
   "execution_count": 64,
   "metadata": {},
   "outputs": [
    {
     "name": "stdout",
     "output_type": "stream",
     "text": [
      "[0. 1. 2. 3. 4. 5. 6.]\n",
      "[ 0.   0.5  2.   4.5  8.  12.5 18. ]\n"
     ]
    },
    {
     "data": {
      "image/png": "[encoded data removed]",
      "text/plain": [
       "<Figure size 432x288 with 1 Axes>"
      ]
     },
     "metadata": {},
     "output_type": "display_data"
    }
   ],
   "source": [
    "###cumulaive integral 的简单例子示范\n",
    "x = np.linspace(0, 6, num=7)\n",
    "print(x)\n",
    "y = x\n",
    "y_int = integrate.cumtrapz(y, x, initial=0)\n",
    "print(y_int)\n",
    "plt.plot(y_int, 'ro')\n",
    "plt.show()"
   ]
  },
  {
   "cell_type": "code",
   "execution_count": 67,
   "metadata": {},
   "outputs": [
    {
     "name": "stdout",
     "output_type": "stream",
     "text": [
      "[ 0.00000000e+00 -4.84465000e-01 -1.09481500e+00 ... -8.94184320e+02\n",
      " -8.94867150e+02 -8.95408835e+02]\n"
     ]
    },
    {
     "data": {
      "image/png": "[encoded data removed]",
      "text/plain": [
       "<Figure size 432x288 with 1 Axes>"
      ]
     },
     "metadata": {},
     "output_type": "display_data"
    }
   ],
   "source": [
    "x = df['Time (ms)']\n",
    "y = df['Drive Voltage']\n",
    "y_integration = integrate.cumtrapz(y, x, initial=0)\n",
    "print(y_integration)\n",
    "plt.plot(y_integration, color='red', marker='o', linestyle='dashed',linewidth=0.1, markersize=1)\n",
    "plt.show()"
   ]
  },
  {
   "cell_type": "code",
   "execution_count": 85,
   "metadata": {},
   "outputs": [
    {
     "data": {
      "text/html": [
       "<div>\n",
       "<style>\n",
       "    .dataframe thead tr:only-child th {\n",
       "        text-align: right;\n",
       "    }\n",
       "\n",
       "    .dataframe thead th {\n",
       "        text-align: left;\n",
       "    }\n",
       "\n",
       "    .dataframe tbody tr th {\n",
       "        vertical-align: top;\n",
       "    }\n",
       "</style>\n",
       "<table border=\"1\" class=\"dataframe\">\n",
       "  <thead>\n",
       "    <tr style=\"text-align: right;\">\n",
       "      <th></th>\n",
       "      <th>Point</th>\n",
       "      <th>Time (ms)</th>\n",
       "      <th>Drive Voltage</th>\n",
       "      <th>Measured Polarization</th>\n",
       "      <th>Voltage Integration</th>\n",
       "    </tr>\n",
       "  </thead>\n",
       "  <tbody>\n",
       "    <tr>\n",
       "      <th>0</th>\n",
       "      <td>1</td>\n",
       "      <td>0.1</td>\n",
       "      <td>-2.5940</td>\n",
       "      <td>-1.721656</td>\n",
       "      <td>0.000000</td>\n",
       "    </tr>\n",
       "    <tr>\n",
       "      <th>1</th>\n",
       "      <td>2</td>\n",
       "      <td>0.2</td>\n",
       "      <td>-7.0953</td>\n",
       "      <td>-1.716463</td>\n",
       "      <td>-0.484465</td>\n",
       "    </tr>\n",
       "    <tr>\n",
       "      <th>2</th>\n",
       "      <td>3</td>\n",
       "      <td>0.3</td>\n",
       "      <td>-5.1117</td>\n",
       "      <td>-1.711270</td>\n",
       "      <td>-1.094815</td>\n",
       "    </tr>\n",
       "    <tr>\n",
       "      <th>3</th>\n",
       "      <td>4</td>\n",
       "      <td>0.4</td>\n",
       "      <td>-0.6104</td>\n",
       "      <td>-1.701722</td>\n",
       "      <td>-1.380920</td>\n",
       "    </tr>\n",
       "    <tr>\n",
       "      <th>4</th>\n",
       "      <td>5</td>\n",
       "      <td>0.5</td>\n",
       "      <td>-3.6621</td>\n",
       "      <td>-1.695691</td>\n",
       "      <td>-1.594545</td>\n",
       "    </tr>\n",
       "    <tr>\n",
       "      <th>5</th>\n",
       "      <td>6</td>\n",
       "      <td>0.6</td>\n",
       "      <td>2.4414</td>\n",
       "      <td>-1.687483</td>\n",
       "      <td>-1.655580</td>\n",
       "    </tr>\n",
       "    <tr>\n",
       "      <th>6</th>\n",
       "      <td>7</td>\n",
       "      <td>0.7</td>\n",
       "      <td>-2.1362</td>\n",
       "      <td>-1.678772</td>\n",
       "      <td>-1.640320</td>\n",
       "    </tr>\n",
       "    <tr>\n",
       "      <th>7</th>\n",
       "      <td>8</td>\n",
       "      <td>0.8</td>\n",
       "      <td>0.6104</td>\n",
       "      <td>-1.673914</td>\n",
       "      <td>-1.716610</td>\n",
       "    </tr>\n",
       "    <tr>\n",
       "      <th>8</th>\n",
       "      <td>9</td>\n",
       "      <td>0.9</td>\n",
       "      <td>7.0953</td>\n",
       "      <td>-1.666208</td>\n",
       "      <td>-1.331325</td>\n",
       "    </tr>\n",
       "    <tr>\n",
       "      <th>9</th>\n",
       "      <td>10</td>\n",
       "      <td>1.0</td>\n",
       "      <td>1.5259</td>\n",
       "      <td>-1.658837</td>\n",
       "      <td>-0.900265</td>\n",
       "    </tr>\n",
       "  </tbody>\n",
       "</table>\n",
       "</div>"
      ],
      "text/plain": [
       "   Point  Time (ms)  Drive Voltage  Measured Polarization  Voltage Integration\n",
       "0      1        0.1        -2.5940              -1.721656             0.000000\n",
       "1      2        0.2        -7.0953              -1.716463            -0.484465\n",
       "2      3        0.3        -5.1117              -1.711270            -1.094815\n",
       "3      4        0.4        -0.6104              -1.701722            -1.380920\n",
       "4      5        0.5        -3.6621              -1.695691            -1.594545\n",
       "5      6        0.6         2.4414              -1.687483            -1.655580\n",
       "6      7        0.7        -2.1362              -1.678772            -1.640320\n",
       "7      8        0.8         0.6104              -1.673914            -1.716610\n",
       "8      9        0.9         7.0953              -1.666208            -1.331325\n",
       "9     10        1.0         1.5259              -1.658837            -0.900265"
      ]
     },
     "execution_count": 85,
     "metadata": {},
     "output_type": "execute_result"
    }
   ],
   "source": [
    "#插入voltage的积分这一列\n",
    "df.insert(len(df.columns), \"Voltage Integration\", y_integaration)\n",
    "df.head(10)"
   ]
  },
  {
   "cell_type": "code",
   "execution_count": 80,
   "metadata": {},
   "outputs": [
    {
     "name": "stdout",
     "output_type": "stream",
     "text": [
      "7087.558785000005\n",
      "3.5193076708992694e-05\n"
     ]
    }
   ],
   "source": [
    "#求出从peak1 到 peak2的voltage积分的差值\n",
    "delta_V_integral = df.ix[index2[0],'Voltage Integration']-df.ix[index1[0],'Voltage Integration']\n",
    "print(delta_V_integral)\n",
    "one_over_AR = delta_P/delta_V_integral\n",
    "print(one_over_AR)"
   ]
  },
  {
   "cell_type": "code",
   "execution_count": 86,
   "metadata": {},
   "outputs": [
    {
     "data": {
      "text/html": [
       "<div>\n",
       "<style>\n",
       "    .dataframe thead tr:only-child th {\n",
       "        text-align: right;\n",
       "    }\n",
       "\n",
       "    .dataframe thead th {\n",
       "        text-align: left;\n",
       "    }\n",
       "\n",
       "    .dataframe tbody tr th {\n",
       "        vertical-align: top;\n",
       "    }\n",
       "</style>\n",
       "<table border=\"1\" class=\"dataframe\">\n",
       "  <thead>\n",
       "    <tr style=\"text-align: right;\">\n",
       "      <th></th>\n",
       "      <th>Point</th>\n",
       "      <th>Time (ms)</th>\n",
       "      <th>Drive Voltage</th>\n",
       "      <th>Measured Polarization</th>\n",
       "      <th>Voltage Integration</th>\n",
       "      <th>P from R</th>\n",
       "      <th>Corrected P</th>\n",
       "    </tr>\n",
       "  </thead>\n",
       "  <tbody>\n",
       "    <tr>\n",
       "      <th>0</th>\n",
       "      <td>1</td>\n",
       "      <td>0.1</td>\n",
       "      <td>-2.5940</td>\n",
       "      <td>-1.721656</td>\n",
       "      <td>0.000000</td>\n",
       "      <td>0.000000</td>\n",
       "      <td>-1.721656</td>\n",
       "    </tr>\n",
       "    <tr>\n",
       "      <th>1</th>\n",
       "      <td>2</td>\n",
       "      <td>0.2</td>\n",
       "      <td>-7.0953</td>\n",
       "      <td>-1.716463</td>\n",
       "      <td>-0.484465</td>\n",
       "      <td>-0.000017</td>\n",
       "      <td>-1.716446</td>\n",
       "    </tr>\n",
       "    <tr>\n",
       "      <th>2</th>\n",
       "      <td>3</td>\n",
       "      <td>0.3</td>\n",
       "      <td>-5.1117</td>\n",
       "      <td>-1.711270</td>\n",
       "      <td>-1.094815</td>\n",
       "      <td>-0.000039</td>\n",
       "      <td>-1.711231</td>\n",
       "    </tr>\n",
       "    <tr>\n",
       "      <th>3</th>\n",
       "      <td>4</td>\n",
       "      <td>0.4</td>\n",
       "      <td>-0.6104</td>\n",
       "      <td>-1.701722</td>\n",
       "      <td>-1.380920</td>\n",
       "      <td>-0.000049</td>\n",
       "      <td>-1.701673</td>\n",
       "    </tr>\n",
       "    <tr>\n",
       "      <th>4</th>\n",
       "      <td>5</td>\n",
       "      <td>0.5</td>\n",
       "      <td>-3.6621</td>\n",
       "      <td>-1.695691</td>\n",
       "      <td>-1.594545</td>\n",
       "      <td>-0.000056</td>\n",
       "      <td>-1.695635</td>\n",
       "    </tr>\n",
       "    <tr>\n",
       "      <th>5</th>\n",
       "      <td>6</td>\n",
       "      <td>0.6</td>\n",
       "      <td>2.4414</td>\n",
       "      <td>-1.687483</td>\n",
       "      <td>-1.655580</td>\n",
       "      <td>-0.000058</td>\n",
       "      <td>-1.687425</td>\n",
       "    </tr>\n",
       "    <tr>\n",
       "      <th>6</th>\n",
       "      <td>7</td>\n",
       "      <td>0.7</td>\n",
       "      <td>-2.1362</td>\n",
       "      <td>-1.678772</td>\n",
       "      <td>-1.640320</td>\n",
       "      <td>-0.000058</td>\n",
       "      <td>-1.678714</td>\n",
       "    </tr>\n",
       "    <tr>\n",
       "      <th>7</th>\n",
       "      <td>8</td>\n",
       "      <td>0.8</td>\n",
       "      <td>0.6104</td>\n",
       "      <td>-1.673914</td>\n",
       "      <td>-1.716610</td>\n",
       "      <td>-0.000060</td>\n",
       "      <td>-1.673854</td>\n",
       "    </tr>\n",
       "    <tr>\n",
       "      <th>8</th>\n",
       "      <td>9</td>\n",
       "      <td>0.9</td>\n",
       "      <td>7.0953</td>\n",
       "      <td>-1.666208</td>\n",
       "      <td>-1.331325</td>\n",
       "      <td>-0.000047</td>\n",
       "      <td>-1.666161</td>\n",
       "    </tr>\n",
       "    <tr>\n",
       "      <th>9</th>\n",
       "      <td>10</td>\n",
       "      <td>1.0</td>\n",
       "      <td>1.5259</td>\n",
       "      <td>-1.658837</td>\n",
       "      <td>-0.900265</td>\n",
       "      <td>-0.000032</td>\n",
       "      <td>-1.658805</td>\n",
       "    </tr>\n",
       "  </tbody>\n",
       "</table>\n",
       "</div>"
      ],
      "text/plain": [
       "   Point  Time (ms)  Drive Voltage  Measured Polarization  \\\n",
       "0      1        0.1        -2.5940              -1.721656   \n",
       "1      2        0.2        -7.0953              -1.716463   \n",
       "2      3        0.3        -5.1117              -1.711270   \n",
       "3      4        0.4        -0.6104              -1.701722   \n",
       "4      5        0.5        -3.6621              -1.695691   \n",
       "5      6        0.6         2.4414              -1.687483   \n",
       "6      7        0.7        -2.1362              -1.678772   \n",
       "7      8        0.8         0.6104              -1.673914   \n",
       "8      9        0.9         7.0953              -1.666208   \n",
       "9     10        1.0         1.5259              -1.658837   \n",
       "\n",
       "   Voltage Integration  P from R  Corrected P  \n",
       "0             0.000000  0.000000    -1.721656  \n",
       "1            -0.484465 -0.000017    -1.716446  \n",
       "2            -1.094815 -0.000039    -1.711231  \n",
       "3            -1.380920 -0.000049    -1.701673  \n",
       "4            -1.594545 -0.000056    -1.695635  \n",
       "5            -1.655580 -0.000058    -1.687425  \n",
       "6            -1.640320 -0.000058    -1.678714  \n",
       "7            -1.716610 -0.000060    -1.673854  \n",
       "8            -1.331325 -0.000047    -1.666161  \n",
       "9            -0.900265 -0.000032    -1.658805  "
      ]
     },
     "execution_count": 86,
     "metadata": {},
     "output_type": "execute_result"
    }
   ],
   "source": [
    "#with 1/AR, Volta_integration x 1/AR = 单纯电阻对 P 的贡献\n",
    "P_fromR  = df['Voltage Integration']*one_over_AR\n",
    "df.insert(len(df.columns), \"P from R\", P_fromR)\n",
    "#用测量的 P 减去 P from R，即得到 P without conduction\n",
    "P_corrected = df['Measured Polarization']-df['P from R']\n",
    "df.insert(len(df.columns), \"Corrected P\", P_corrected)\n",
    "df.head(10)"
   ]
  },
  {
   "cell_type": "code",
   "execution_count": 87,
   "metadata": {},
   "outputs": [
    {
     "data": {
      "image/png": "[encoded data removed]",
      "text/plain": [
       "<Figure size 432x288 with 1 Axes>"
      ]
     },
     "metadata": {},
     "output_type": "display_data"
    }
   ],
   "source": [
    "plt.plot(df['Drive Voltage'], df['Corrected P'], color='red', marker='o', linestyle='dashed',linewidth=0.1, markersize=1)\n",
    "plt.show()"
   ]
  },
  {
   "cell_type": "code",
   "execution_count": 107,
   "metadata": {},
   "outputs": [
    {
     "name": "stdout",
     "output_type": "stream",
     "text": [
      "1000\n"
     ]
    }
   ],
   "source": [
    "#剔除重叠的部分，删除500-1000行 以及 1500-2000行\n",
    "P_positivepart= df.iloc[0:500]\n",
    "\n",
    "P_negativepart= df.iloc[1000:1500]\n",
    "\n",
    "New_df = P_positivepart.append(P_negativepart)\n",
    "print(len(New_df))"
   ]
  },
  {
   "cell_type": "code",
   "execution_count": 108,
   "metadata": {},
   "outputs": [
    {
     "data": {
      "image/png": "[encoded data removed]",
      "text/plain": [
       "<Figure size 432x288 with 1 Axes>"
      ]
     },
     "metadata": {},
     "output_type": "display_data"
    }
   ],
   "source": [
    "plt.plot(New_df['Drive Voltage'], New_df['Corrected P'], color='red', marker='o', linestyle='dashed',linewidth=0.1, markersize=1)\n",
    "plt.show()"
   ]
  },
  {
   "cell_type": "code",
   "execution_count": 114,
   "metadata": {},
   "outputs": [],
   "source": [
    "#r'C:\\PhD-Zipeng\\Research projects\\PUND\\1 - Copy.txt'\n",
    "New_df.to_csv(r'C:\\PhD-Zipeng\\Research projects\\PUND\\1 modified.csv')"
   ]
  },
  {
   "cell_type": "code",
   "execution_count": null,
   "metadata": {
    "collapsed": true
   },
   "outputs": [],
   "source": [
    "#批量操作所有文件\n",
    "# files = glob.glob(path + \"/*.tab\")\n",
    "# files = glob(path + \"/*.tab\")"
   ]
  }
 ],
 "metadata": {
  "kernelspec": {
   "display_name": "Python 3",
   "language": "python",
   "name": "python3"
  },
  "language_info": {
   "codemirror_mode": {
    "name": "ipython",
    "version": 3
   },
   "file_extension": ".py",
   "mimetype": "text/x-python",
   "name": "python",
   "nbconvert_exporter": "python",
   "pygments_lexer": "ipython3",
   "version": "3.6.3"
  }
 },
 "nbformat": 4,
 "nbformat_minor": 2
}
