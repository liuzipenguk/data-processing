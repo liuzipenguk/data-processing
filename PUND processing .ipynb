{
 "cells": [
  {
   "cell_type": "code",
   "execution_count": 128,
   "metadata": {
    "collapsed": true
   },
   "outputs": [],
   "source": [
    "import re\n",
    "import os \n",
    "from glob import glob\n",
    "import pandas as pd\n",
    "import numpy as np\n",
    "import matplotlib as mpl\n",
    "import matplotlib.pyplot as plt\n",
    "from sklearn.linear_model import LinearRegression\n",
    "from scipy import integrate\n",
    "from scipy.signal import find_peaks"
   ]
  },
  {
   "cell_type": "code",
   "execution_count": 27,
   "metadata": {},
   "outputs": [
    {
     "data": {
      "text/html": [
       "<div>\n",
       "<style>\n",
       "    .dataframe thead tr:only-child th {\n",
       "        text-align: right;\n",
       "    }\n",
       "\n",
       "    .dataframe thead th {\n",
       "        text-align: left;\n",
       "    }\n",
       "\n",
       "    .dataframe tbody tr th {\n",
       "        vertical-align: top;\n",
       "    }\n",
       "</style>\n",
       "<table border=\"1\" class=\"dataframe\">\n",
       "  <thead>\n",
       "    <tr style=\"text-align: right;\">\n",
       "      <th></th>\n",
       "      <th>#Drive Voltage</th>\n",
       "      <th>E_SI</th>\n",
       "      <th>Measured Polarization</th>\n",
       "      <th>P_SI</th>\n",
       "      <th>Point</th>\n",
       "      <th>Time (ms)</th>\n",
       "    </tr>\n",
       "  </thead>\n",
       "  <tbody>\n",
       "    <tr>\n",
       "      <th>0</th>\n",
       "      <td>-4.5776</td>\n",
       "      <td>-4.5776</td>\n",
       "      <td>-0.889348</td>\n",
       "      <td>-0.008893</td>\n",
       "      <td>1.0</td>\n",
       "      <td>0.05</td>\n",
       "    </tr>\n",
       "    <tr>\n",
       "      <th>1</th>\n",
       "      <td>-6.1798</td>\n",
       "      <td>-6.1798</td>\n",
       "      <td>-0.887338</td>\n",
       "      <td>-0.008873</td>\n",
       "      <td>2.0</td>\n",
       "      <td>0.10</td>\n",
       "    </tr>\n",
       "    <tr>\n",
       "      <th>2</th>\n",
       "      <td>0.4578</td>\n",
       "      <td>0.4578</td>\n",
       "      <td>-0.882480</td>\n",
       "      <td>-0.008825</td>\n",
       "      <td>3.0</td>\n",
       "      <td>0.15</td>\n",
       "    </tr>\n",
       "    <tr>\n",
       "      <th>3</th>\n",
       "      <td>-0.9155</td>\n",
       "      <td>-0.9155</td>\n",
       "      <td>-0.876449</td>\n",
       "      <td>-0.008764</td>\n",
       "      <td>4.0</td>\n",
       "      <td>0.20</td>\n",
       "    </tr>\n",
       "    <tr>\n",
       "      <th>4</th>\n",
       "      <td>0.4578</td>\n",
       "      <td>0.4578</td>\n",
       "      <td>-0.869748</td>\n",
       "      <td>-0.008697</td>\n",
       "      <td>5.0</td>\n",
       "      <td>0.25</td>\n",
       "    </tr>\n",
       "    <tr>\n",
       "      <th>5</th>\n",
       "      <td>2.8992</td>\n",
       "      <td>2.8992</td>\n",
       "      <td>-0.866063</td>\n",
       "      <td>-0.008661</td>\n",
       "      <td>6.0</td>\n",
       "      <td>0.30</td>\n",
       "    </tr>\n",
       "    <tr>\n",
       "      <th>6</th>\n",
       "      <td>4.1962</td>\n",
       "      <td>4.1962</td>\n",
       "      <td>-0.860702</td>\n",
       "      <td>-0.008607</td>\n",
       "      <td>7.0</td>\n",
       "      <td>0.35</td>\n",
       "    </tr>\n",
       "    <tr>\n",
       "      <th>7</th>\n",
       "      <td>2.8992</td>\n",
       "      <td>2.8992</td>\n",
       "      <td>-0.854504</td>\n",
       "      <td>-0.008545</td>\n",
       "      <td>8.0</td>\n",
       "      <td>0.40</td>\n",
       "    </tr>\n",
       "    <tr>\n",
       "      <th>8</th>\n",
       "      <td>5.7220</td>\n",
       "      <td>5.7220</td>\n",
       "      <td>-0.848641</td>\n",
       "      <td>-0.008486</td>\n",
       "      <td>9.0</td>\n",
       "      <td>0.45</td>\n",
       "    </tr>\n",
       "    <tr>\n",
       "      <th>9</th>\n",
       "      <td>7.6294</td>\n",
       "      <td>7.6294</td>\n",
       "      <td>-0.843448</td>\n",
       "      <td>-0.008434</td>\n",
       "      <td>10.0</td>\n",
       "      <td>0.50</td>\n",
       "    </tr>\n",
       "  </tbody>\n",
       "</table>\n",
       "</div>"
      ],
      "text/plain": [
       "   #Drive Voltage    E_SI  Measured Polarization      P_SI  Point  Time (ms)\n",
       "0         -4.5776 -4.5776              -0.889348 -0.008893    1.0       0.05\n",
       "1         -6.1798 -6.1798              -0.887338 -0.008873    2.0       0.10\n",
       "2          0.4578  0.4578              -0.882480 -0.008825    3.0       0.15\n",
       "3         -0.9155 -0.9155              -0.876449 -0.008764    4.0       0.20\n",
       "4          0.4578  0.4578              -0.869748 -0.008697    5.0       0.25\n",
       "5          2.8992  2.8992              -0.866063 -0.008661    6.0       0.30\n",
       "6          4.1962  4.1962              -0.860702 -0.008607    7.0       0.35\n",
       "7          2.8992  2.8992              -0.854504 -0.008545    8.0       0.40\n",
       "8          5.7220  5.7220              -0.848641 -0.008486    9.0       0.45\n",
       "9          7.6294  7.6294              -0.843448 -0.008434   10.0       0.50"
      ]
     },
     "execution_count": 27,
     "metadata": {},
     "output_type": "execute_result"
    }
   ],
   "source": [
    "#读取单个的PE loop的文件\n",
    "df = pd.read_csv(r'C:\\PhD-Zipeng\\Research projects\\PUND\\BF4 PUND PE Heating\\377.08.tab',delimiter='\\t',encoding= 'unicode_escape')\n",
    "df.head(10)"
   ]
  },
  {
   "cell_type": "code",
   "execution_count": 28,
   "metadata": {},
   "outputs": [
    {
     "data": {
      "image/png": "[encoded data removed]",
      "text/plain": [
       "<Figure size 432x288 with 1 Axes>"
      ]
     },
     "metadata": {},
     "output_type": "display_data"
    },
    {
     "name": "stdout",
     "output_type": "stream",
     "text": [
      "[ 251  750 1500]\n"
     ]
    },
    {
     "data": {
      "text/html": [
       "<div>\n",
       "<style>\n",
       "    .dataframe thead tr:only-child th {\n",
       "        text-align: right;\n",
       "    }\n",
       "\n",
       "    .dataframe thead th {\n",
       "        text-align: left;\n",
       "    }\n",
       "\n",
       "    .dataframe tbody tr th {\n",
       "        vertical-align: top;\n",
       "    }\n",
       "</style>\n",
       "<table border=\"1\" class=\"dataframe\">\n",
       "  <thead>\n",
       "    <tr style=\"text-align: right;\">\n",
       "      <th></th>\n",
       "      <th>#Drive Voltage</th>\n",
       "      <th>E_SI</th>\n",
       "      <th>Measured Polarization</th>\n",
       "      <th>P_SI</th>\n",
       "      <th>Point</th>\n",
       "      <th>Time (ms)</th>\n",
       "    </tr>\n",
       "  </thead>\n",
       "  <tbody>\n",
       "    <tr>\n",
       "      <th>250</th>\n",
       "      <td>293.5791</td>\n",
       "      <td>293.5791</td>\n",
       "      <td>1.707166</td>\n",
       "      <td>0.017072</td>\n",
       "      <td>251.0</td>\n",
       "      <td>12.55</td>\n",
       "    </tr>\n",
       "    <tr>\n",
       "      <th>251</th>\n",
       "      <td>295.2576</td>\n",
       "      <td>295.2576</td>\n",
       "      <td>1.707501</td>\n",
       "      <td>0.017075</td>\n",
       "      <td>252.0</td>\n",
       "      <td>12.60</td>\n",
       "    </tr>\n",
       "    <tr>\n",
       "      <th>252</th>\n",
       "      <td>291.7480</td>\n",
       "      <td>291.7480</td>\n",
       "      <td>1.706998</td>\n",
       "      <td>0.017070</td>\n",
       "      <td>253.0</td>\n",
       "      <td>12.65</td>\n",
       "    </tr>\n",
       "    <tr>\n",
       "      <th>253</th>\n",
       "      <td>289.9170</td>\n",
       "      <td>289.9170</td>\n",
       "      <td>1.705658</td>\n",
       "      <td>0.017057</td>\n",
       "      <td>254.0</td>\n",
       "      <td>12.70</td>\n",
       "    </tr>\n",
       "    <tr>\n",
       "      <th>254</th>\n",
       "      <td>291.9769</td>\n",
       "      <td>291.9769</td>\n",
       "      <td>1.703983</td>\n",
       "      <td>0.017040</td>\n",
       "      <td>255.0</td>\n",
       "      <td>12.75</td>\n",
       "    </tr>\n",
       "    <tr>\n",
       "      <th>255</th>\n",
       "      <td>286.7889</td>\n",
       "      <td>286.7889</td>\n",
       "      <td>1.701638</td>\n",
       "      <td>0.017016</td>\n",
       "      <td>256.0</td>\n",
       "      <td>12.80</td>\n",
       "    </tr>\n",
       "    <tr>\n",
       "      <th>256</th>\n",
       "      <td>284.9579</td>\n",
       "      <td>284.9579</td>\n",
       "      <td>1.702643</td>\n",
       "      <td>0.017026</td>\n",
       "      <td>257.0</td>\n",
       "      <td>12.85</td>\n",
       "    </tr>\n",
       "    <tr>\n",
       "      <th>257</th>\n",
       "      <td>285.4919</td>\n",
       "      <td>285.4919</td>\n",
       "      <td>1.699963</td>\n",
       "      <td>0.017000</td>\n",
       "      <td>258.0</td>\n",
       "      <td>12.90</td>\n",
       "    </tr>\n",
       "    <tr>\n",
       "      <th>258</th>\n",
       "      <td>285.6445</td>\n",
       "      <td>285.6445</td>\n",
       "      <td>1.700465</td>\n",
       "      <td>0.017005</td>\n",
       "      <td>259.0</td>\n",
       "      <td>12.95</td>\n",
       "    </tr>\n",
       "    <tr>\n",
       "      <th>259</th>\n",
       "      <td>281.7535</td>\n",
       "      <td>281.7535</td>\n",
       "      <td>1.696947</td>\n",
       "      <td>0.016969</td>\n",
       "      <td>260.0</td>\n",
       "      <td>13.00</td>\n",
       "    </tr>\n",
       "  </tbody>\n",
       "</table>\n",
       "</div>"
      ],
      "text/plain": [
       "     #Drive Voltage      E_SI  Measured Polarization      P_SI  Point  \\\n",
       "250        293.5791  293.5791               1.707166  0.017072  251.0   \n",
       "251        295.2576  295.2576               1.707501  0.017075  252.0   \n",
       "252        291.7480  291.7480               1.706998  0.017070  253.0   \n",
       "253        289.9170  289.9170               1.705658  0.017057  254.0   \n",
       "254        291.9769  291.9769               1.703983  0.017040  255.0   \n",
       "255        286.7889  286.7889               1.701638  0.017016  256.0   \n",
       "256        284.9579  284.9579               1.702643  0.017026  257.0   \n",
       "257        285.4919  285.4919               1.699963  0.017000  258.0   \n",
       "258        285.6445  285.6445               1.700465  0.017005  259.0   \n",
       "259        281.7535  281.7535               1.696947  0.016969  260.0   \n",
       "\n",
       "     Time (ms)  \n",
       "250      12.55  \n",
       "251      12.60  \n",
       "252      12.65  \n",
       "253      12.70  \n",
       "254      12.75  \n",
       "255      12.80  \n",
       "256      12.85  \n",
       "257      12.90  \n",
       "258      12.95  \n",
       "259      13.00  "
      ]
     },
     "execution_count": 28,
     "metadata": {},
     "output_type": "execute_result"
    }
   ],
   "source": [
    "# 提取出P值的plot,并且找到前两个peak，然后做差，即得出 delta P，which is from leakgae only\n",
    "P_value = df['Measured Polarization']\n",
    "plt.plot(P_value,'go--')\n",
    "plt.show()\n",
    "indices = find_peaks(P_value, prominence=1)[0]\n",
    "print(indices)\n",
    "\n",
    "df[250:260]\n",
    "\n",
    "# 因为找到的峰不止一个，为了保险起见，我选择将图像分段，0-500和500-1000个点为区间，分别找peak"
   ]
  },
  {
   "cell_type": "code",
   "execution_count": 29,
   "metadata": {},
   "outputs": [
    {
     "data": {
      "image/png": "[encoded data removed]",
      "text/plain": [
       "<Figure size 432x288 with 1 Axes>"
      ]
     },
     "metadata": {},
     "output_type": "display_data"
    },
    {
     "name": "stdout",
     "output_type": "stream",
     "text": [
      "[251]\n"
     ]
    }
   ],
   "source": [
    "P_peak1 = P_value[0:500]\n",
    "plt.plot(P_peak1, color='green', marker='+', linestyle='dashed',linewidth=0.1, markersize=2)\n",
    "plt.show()\n",
    "index1 = find_peaks(P_peak1, prominence = 1)[0]\n",
    "print(index1)"
   ]
  },
  {
   "cell_type": "code",
   "execution_count": 30,
   "metadata": {},
   "outputs": [
    {
     "data": {
      "image/png": "[encoded data removed]",
      "text/plain": [
       "<Figure size 432x288 with 1 Axes>"
      ]
     },
     "metadata": {},
     "output_type": "display_data"
    },
    {
     "name": "stdout",
     "output_type": "stream",
     "text": [
      "[750]\n"
     ]
    }
   ],
   "source": [
    "P_peak2 = P_value[500:1000]\n",
    "plt.plot(P_peak2,color='green', marker='+', linestyle='dashed',linewidth=0.1, markersize=2)\n",
    "plt.show()\n",
    "index2 = find_peaks(P_peak2, prominence = 1)[0]+500  #要加上500，因为上一段有500个点\n",
    "print(index2)"
   ]
  },
  {
   "cell_type": "code",
   "execution_count": 31,
   "metadata": {},
   "outputs": [
    {
     "name": "stdout",
     "output_type": "stream",
     "text": [
      "<class 'numpy.float64'>\n",
      "0.5837969999999999\n"
     ]
    },
    {
     "name": "stderr",
     "output_type": "stream",
     "text": [
      "C:\\Users\\Dev\\Anaconda3\\lib\\site-packages\\ipykernel_launcher.py:3: DeprecationWarning: \n",
      ".ix is deprecated. Please use\n",
      ".loc for label based indexing or\n",
      ".iloc for positional indexing\n",
      "\n",
      "See the documentation here:\n",
      "http://pandas.pydata.org/pandas-docs/stable/indexing.html#ix-indexer-is-deprecated\n",
      "  This is separate from the ipykernel package so we can avoid doing imports until\n"
     ]
    }
   ],
   "source": [
    "# print(type(index2))\n",
    "# print(index2[0])\n",
    "delta_P=df.ix[index2[0],'Measured Polarization']-df.ix[index1[0],'Measured Polarization']\n",
    "\n",
    "print(type(delta_P))\n",
    "print(delta_P)\n"
   ]
  },
  {
   "cell_type": "code",
   "execution_count": 32,
   "metadata": {},
   "outputs": [
    {
     "name": "stdout",
     "output_type": "stream",
     "text": [
      "[ 0.00000000e+00 -2.68935000e-01 -4.11985000e-01 ... -4.41207927e+02\n",
      " -4.41434902e+02 -4.41616100e+02]\n"
     ]
    },
    {
     "data": {
      "image/png": "[encoded data removed]",
      "text/plain": [
       "<Figure size 432x288 with 1 Axes>"
      ]
     },
     "metadata": {},
     "output_type": "display_data"
    }
   ],
   "source": [
    "x = df['Time (ms)']\n",
    "y = df['#Drive Voltage']\n",
    "y_integration = integrate.cumtrapz(y, x, initial=0)\n",
    "print(y_integration)\n",
    "plt.plot(y_integration, color='red', marker='o', linestyle='dashed',linewidth=0.1, markersize=1)\n",
    "plt.show()"
   ]
  },
  {
   "cell_type": "code",
   "execution_count": 33,
   "metadata": {},
   "outputs": [
    {
     "data": {
      "text/html": [
       "<div>\n",
       "<style>\n",
       "    .dataframe thead tr:only-child th {\n",
       "        text-align: right;\n",
       "    }\n",
       "\n",
       "    .dataframe thead th {\n",
       "        text-align: left;\n",
       "    }\n",
       "\n",
       "    .dataframe tbody tr th {\n",
       "        vertical-align: top;\n",
       "    }\n",
       "</style>\n",
       "<table border=\"1\" class=\"dataframe\">\n",
       "  <thead>\n",
       "    <tr style=\"text-align: right;\">\n",
       "      <th></th>\n",
       "      <th>#Drive Voltage</th>\n",
       "      <th>E_SI</th>\n",
       "      <th>Measured Polarization</th>\n",
       "      <th>P_SI</th>\n",
       "      <th>Point</th>\n",
       "      <th>Time (ms)</th>\n",
       "      <th>Voltage Integration</th>\n",
       "    </tr>\n",
       "  </thead>\n",
       "  <tbody>\n",
       "    <tr>\n",
       "      <th>0</th>\n",
       "      <td>-4.5776</td>\n",
       "      <td>-4.5776</td>\n",
       "      <td>-0.889348</td>\n",
       "      <td>-0.008893</td>\n",
       "      <td>1.0</td>\n",
       "      <td>0.05</td>\n",
       "      <td>0.000000</td>\n",
       "    </tr>\n",
       "    <tr>\n",
       "      <th>1</th>\n",
       "      <td>-6.1798</td>\n",
       "      <td>-6.1798</td>\n",
       "      <td>-0.887338</td>\n",
       "      <td>-0.008873</td>\n",
       "      <td>2.0</td>\n",
       "      <td>0.10</td>\n",
       "      <td>-0.268935</td>\n",
       "    </tr>\n",
       "    <tr>\n",
       "      <th>2</th>\n",
       "      <td>0.4578</td>\n",
       "      <td>0.4578</td>\n",
       "      <td>-0.882480</td>\n",
       "      <td>-0.008825</td>\n",
       "      <td>3.0</td>\n",
       "      <td>0.15</td>\n",
       "      <td>-0.411985</td>\n",
       "    </tr>\n",
       "    <tr>\n",
       "      <th>3</th>\n",
       "      <td>-0.9155</td>\n",
       "      <td>-0.9155</td>\n",
       "      <td>-0.876449</td>\n",
       "      <td>-0.008764</td>\n",
       "      <td>4.0</td>\n",
       "      <td>0.20</td>\n",
       "      <td>-0.423428</td>\n",
       "    </tr>\n",
       "    <tr>\n",
       "      <th>4</th>\n",
       "      <td>0.4578</td>\n",
       "      <td>0.4578</td>\n",
       "      <td>-0.869748</td>\n",
       "      <td>-0.008697</td>\n",
       "      <td>5.0</td>\n",
       "      <td>0.25</td>\n",
       "      <td>-0.434870</td>\n",
       "    </tr>\n",
       "    <tr>\n",
       "      <th>5</th>\n",
       "      <td>2.8992</td>\n",
       "      <td>2.8992</td>\n",
       "      <td>-0.866063</td>\n",
       "      <td>-0.008661</td>\n",
       "      <td>6.0</td>\n",
       "      <td>0.30</td>\n",
       "      <td>-0.350945</td>\n",
       "    </tr>\n",
       "    <tr>\n",
       "      <th>6</th>\n",
       "      <td>4.1962</td>\n",
       "      <td>4.1962</td>\n",
       "      <td>-0.860702</td>\n",
       "      <td>-0.008607</td>\n",
       "      <td>7.0</td>\n",
       "      <td>0.35</td>\n",
       "      <td>-0.173560</td>\n",
       "    </tr>\n",
       "    <tr>\n",
       "      <th>7</th>\n",
       "      <td>2.8992</td>\n",
       "      <td>2.8992</td>\n",
       "      <td>-0.854504</td>\n",
       "      <td>-0.008545</td>\n",
       "      <td>8.0</td>\n",
       "      <td>0.40</td>\n",
       "      <td>0.003825</td>\n",
       "    </tr>\n",
       "    <tr>\n",
       "      <th>8</th>\n",
       "      <td>5.7220</td>\n",
       "      <td>5.7220</td>\n",
       "      <td>-0.848641</td>\n",
       "      <td>-0.008486</td>\n",
       "      <td>9.0</td>\n",
       "      <td>0.45</td>\n",
       "      <td>0.219355</td>\n",
       "    </tr>\n",
       "    <tr>\n",
       "      <th>9</th>\n",
       "      <td>7.6294</td>\n",
       "      <td>7.6294</td>\n",
       "      <td>-0.843448</td>\n",
       "      <td>-0.008434</td>\n",
       "      <td>10.0</td>\n",
       "      <td>0.50</td>\n",
       "      <td>0.553140</td>\n",
       "    </tr>\n",
       "  </tbody>\n",
       "</table>\n",
       "</div>"
      ],
      "text/plain": [
       "   #Drive Voltage    E_SI  Measured Polarization      P_SI  Point  Time (ms)  \\\n",
       "0         -4.5776 -4.5776              -0.889348 -0.008893    1.0       0.05   \n",
       "1         -6.1798 -6.1798              -0.887338 -0.008873    2.0       0.10   \n",
       "2          0.4578  0.4578              -0.882480 -0.008825    3.0       0.15   \n",
       "3         -0.9155 -0.9155              -0.876449 -0.008764    4.0       0.20   \n",
       "4          0.4578  0.4578              -0.869748 -0.008697    5.0       0.25   \n",
       "5          2.8992  2.8992              -0.866063 -0.008661    6.0       0.30   \n",
       "6          4.1962  4.1962              -0.860702 -0.008607    7.0       0.35   \n",
       "7          2.8992  2.8992              -0.854504 -0.008545    8.0       0.40   \n",
       "8          5.7220  5.7220              -0.848641 -0.008486    9.0       0.45   \n",
       "9          7.6294  7.6294              -0.843448 -0.008434   10.0       0.50   \n",
       "\n",
       "   Voltage Integration  \n",
       "0             0.000000  \n",
       "1            -0.268935  \n",
       "2            -0.411985  \n",
       "3            -0.423428  \n",
       "4            -0.434870  \n",
       "5            -0.350945  \n",
       "6            -0.173560  \n",
       "7             0.003825  \n",
       "8             0.219355  \n",
       "9             0.553140  "
      ]
     },
     "execution_count": 33,
     "metadata": {},
     "output_type": "execute_result"
    }
   ],
   "source": [
    "#插入voltage的积分这一列\n",
    "df.insert(len(df.columns), \"Voltage Integration\", y_integration)\n",
    "df.head(10)"
   ]
  },
  {
   "cell_type": "code",
   "execution_count": 34,
   "metadata": {},
   "outputs": [
    {
     "name": "stdout",
     "output_type": "stream",
     "text": [
      "3614.175787500005\n",
      "0.00016152977451155566\n"
     ]
    }
   ],
   "source": [
    "#求出从peak1 到 peak2的voltage积分的差值\n",
    "delta_V_integral = df.ix[index2[0],'Voltage Integration']-df.ix[index1[0],'Voltage Integration']\n",
    "print(delta_V_integral)\n",
    "one_over_AR = delta_P/delta_V_integral\n",
    "print(one_over_AR)"
   ]
  },
  {
   "cell_type": "code",
   "execution_count": 35,
   "metadata": {},
   "outputs": [
    {
     "data": {
      "text/html": [
       "<div>\n",
       "<style>\n",
       "    .dataframe thead tr:only-child th {\n",
       "        text-align: right;\n",
       "    }\n",
       "\n",
       "    .dataframe thead th {\n",
       "        text-align: left;\n",
       "    }\n",
       "\n",
       "    .dataframe tbody tr th {\n",
       "        vertical-align: top;\n",
       "    }\n",
       "</style>\n",
       "<table border=\"1\" class=\"dataframe\">\n",
       "  <thead>\n",
       "    <tr style=\"text-align: right;\">\n",
       "      <th></th>\n",
       "      <th>#Drive Voltage</th>\n",
       "      <th>E_SI</th>\n",
       "      <th>Measured Polarization</th>\n",
       "      <th>P_SI</th>\n",
       "      <th>Point</th>\n",
       "      <th>Time (ms)</th>\n",
       "      <th>Voltage Integration</th>\n",
       "      <th>P from R</th>\n",
       "      <th>Corrected P</th>\n",
       "    </tr>\n",
       "  </thead>\n",
       "  <tbody>\n",
       "    <tr>\n",
       "      <th>0</th>\n",
       "      <td>-4.5776</td>\n",
       "      <td>-4.5776</td>\n",
       "      <td>-0.889348</td>\n",
       "      <td>-0.008893</td>\n",
       "      <td>1.0</td>\n",
       "      <td>0.05</td>\n",
       "      <td>0.000000</td>\n",
       "      <td>0.000000e+00</td>\n",
       "      <td>-0.889348</td>\n",
       "    </tr>\n",
       "    <tr>\n",
       "      <th>1</th>\n",
       "      <td>-6.1798</td>\n",
       "      <td>-6.1798</td>\n",
       "      <td>-0.887338</td>\n",
       "      <td>-0.008873</td>\n",
       "      <td>2.0</td>\n",
       "      <td>0.10</td>\n",
       "      <td>-0.268935</td>\n",
       "      <td>-4.344101e-05</td>\n",
       "      <td>-0.887295</td>\n",
       "    </tr>\n",
       "    <tr>\n",
       "      <th>2</th>\n",
       "      <td>0.4578</td>\n",
       "      <td>0.4578</td>\n",
       "      <td>-0.882480</td>\n",
       "      <td>-0.008825</td>\n",
       "      <td>3.0</td>\n",
       "      <td>0.15</td>\n",
       "      <td>-0.411985</td>\n",
       "      <td>-6.654784e-05</td>\n",
       "      <td>-0.882413</td>\n",
       "    </tr>\n",
       "    <tr>\n",
       "      <th>3</th>\n",
       "      <td>-0.9155</td>\n",
       "      <td>-0.9155</td>\n",
       "      <td>-0.876449</td>\n",
       "      <td>-0.008764</td>\n",
       "      <td>4.0</td>\n",
       "      <td>0.20</td>\n",
       "      <td>-0.423428</td>\n",
       "      <td>-6.839615e-05</td>\n",
       "      <td>-0.876381</td>\n",
       "    </tr>\n",
       "    <tr>\n",
       "      <th>4</th>\n",
       "      <td>0.4578</td>\n",
       "      <td>0.4578</td>\n",
       "      <td>-0.869748</td>\n",
       "      <td>-0.008697</td>\n",
       "      <td>5.0</td>\n",
       "      <td>0.25</td>\n",
       "      <td>-0.434870</td>\n",
       "      <td>-7.024445e-05</td>\n",
       "      <td>-0.869678</td>\n",
       "    </tr>\n",
       "    <tr>\n",
       "      <th>5</th>\n",
       "      <td>2.8992</td>\n",
       "      <td>2.8992</td>\n",
       "      <td>-0.866063</td>\n",
       "      <td>-0.008661</td>\n",
       "      <td>6.0</td>\n",
       "      <td>0.30</td>\n",
       "      <td>-0.350945</td>\n",
       "      <td>-5.668807e-05</td>\n",
       "      <td>-0.866006</td>\n",
       "    </tr>\n",
       "    <tr>\n",
       "      <th>6</th>\n",
       "      <td>4.1962</td>\n",
       "      <td>4.1962</td>\n",
       "      <td>-0.860702</td>\n",
       "      <td>-0.008607</td>\n",
       "      <td>7.0</td>\n",
       "      <td>0.35</td>\n",
       "      <td>-0.173560</td>\n",
       "      <td>-2.803511e-05</td>\n",
       "      <td>-0.860674</td>\n",
       "    </tr>\n",
       "    <tr>\n",
       "      <th>7</th>\n",
       "      <td>2.8992</td>\n",
       "      <td>2.8992</td>\n",
       "      <td>-0.854504</td>\n",
       "      <td>-0.008545</td>\n",
       "      <td>8.0</td>\n",
       "      <td>0.40</td>\n",
       "      <td>0.003825</td>\n",
       "      <td>6.178514e-07</td>\n",
       "      <td>-0.854505</td>\n",
       "    </tr>\n",
       "    <tr>\n",
       "      <th>8</th>\n",
       "      <td>5.7220</td>\n",
       "      <td>5.7220</td>\n",
       "      <td>-0.848641</td>\n",
       "      <td>-0.008486</td>\n",
       "      <td>9.0</td>\n",
       "      <td>0.45</td>\n",
       "      <td>0.219355</td>\n",
       "      <td>3.543236e-05</td>\n",
       "      <td>-0.848676</td>\n",
       "    </tr>\n",
       "    <tr>\n",
       "      <th>9</th>\n",
       "      <td>7.6294</td>\n",
       "      <td>7.6294</td>\n",
       "      <td>-0.843448</td>\n",
       "      <td>-0.008434</td>\n",
       "      <td>10.0</td>\n",
       "      <td>0.50</td>\n",
       "      <td>0.553140</td>\n",
       "      <td>8.934858e-05</td>\n",
       "      <td>-0.843537</td>\n",
       "    </tr>\n",
       "  </tbody>\n",
       "</table>\n",
       "</div>"
      ],
      "text/plain": [
       "   #Drive Voltage    E_SI  Measured Polarization      P_SI  Point  Time (ms)  \\\n",
       "0         -4.5776 -4.5776              -0.889348 -0.008893    1.0       0.05   \n",
       "1         -6.1798 -6.1798              -0.887338 -0.008873    2.0       0.10   \n",
       "2          0.4578  0.4578              -0.882480 -0.008825    3.0       0.15   \n",
       "3         -0.9155 -0.9155              -0.876449 -0.008764    4.0       0.20   \n",
       "4          0.4578  0.4578              -0.869748 -0.008697    5.0       0.25   \n",
       "5          2.8992  2.8992              -0.866063 -0.008661    6.0       0.30   \n",
       "6          4.1962  4.1962              -0.860702 -0.008607    7.0       0.35   \n",
       "7          2.8992  2.8992              -0.854504 -0.008545    8.0       0.40   \n",
       "8          5.7220  5.7220              -0.848641 -0.008486    9.0       0.45   \n",
       "9          7.6294  7.6294              -0.843448 -0.008434   10.0       0.50   \n",
       "\n",
       "   Voltage Integration      P from R  Corrected P  \n",
       "0             0.000000  0.000000e+00    -0.889348  \n",
       "1            -0.268935 -4.344101e-05    -0.887295  \n",
       "2            -0.411985 -6.654784e-05    -0.882413  \n",
       "3            -0.423428 -6.839615e-05    -0.876381  \n",
       "4            -0.434870 -7.024445e-05    -0.869678  \n",
       "5            -0.350945 -5.668807e-05    -0.866006  \n",
       "6            -0.173560 -2.803511e-05    -0.860674  \n",
       "7             0.003825  6.178514e-07    -0.854505  \n",
       "8             0.219355  3.543236e-05    -0.848676  \n",
       "9             0.553140  8.934858e-05    -0.843537  "
      ]
     },
     "execution_count": 35,
     "metadata": {},
     "output_type": "execute_result"
    }
   ],
   "source": [
    "#with 1/AR, Volta_integration x 1/AR = 单纯电阻对 P 的贡献\n",
    "P_fromR  = df['Voltage Integration']*one_over_AR\n",
    "df.insert(len(df.columns), \"P from R\", P_fromR)\n",
    "#用测量的 P 减去 P from R，即得到 P without conduction\n",
    "P_corrected = df['Measured Polarization']-df['P from R']\n",
    "df.insert(len(df.columns), \"Corrected P\", P_corrected)\n",
    "df.head(10)"
   ]
  },
  {
   "cell_type": "code",
   "execution_count": 36,
   "metadata": {},
   "outputs": [
    {
     "data": {
      "image/png": "[encoded data removed]",
      "text/plain": [
       "<Figure size 432x288 with 1 Axes>"
      ]
     },
     "metadata": {},
     "output_type": "display_data"
    }
   ],
   "source": [
    "plt.plot(df['#Drive Voltage'], df['Corrected P'], color='red', marker='o', linestyle='dashed',linewidth=0.1, markersize=1)\n",
    "plt.show()"
   ]
  },
  {
   "cell_type": "code",
   "execution_count": 37,
   "metadata": {},
   "outputs": [
    {
     "name": "stdout",
     "output_type": "stream",
     "text": [
      "1000\n"
     ]
    }
   ],
   "source": [
    "#剔除重叠的部分，删除500-1000行 以及 1500-2000行\n",
    "P_positivepart= df.iloc[0:500]\n",
    "\n",
    "P_negativepart= df.iloc[1000:1500]\n",
    "\n",
    "New_df = P_positivepart.append(P_negativepart)\n",
    "print(len(New_df))"
   ]
  },
  {
   "cell_type": "code",
   "execution_count": 38,
   "metadata": {},
   "outputs": [
    {
     "data": {
      "image/png": "[encoded data removed]",
      "text/plain": [
       "<Figure size 432x288 with 1 Axes>"
      ]
     },
     "metadata": {},
     "output_type": "display_data"
    }
   ],
   "source": [
    "plt.plot(New_df['#Drive Voltage'], New_df['Corrected P'], color='red', marker='o', linestyle='dashed',linewidth=0.1, markersize=1)\n",
    "plt.show()"
   ]
  },
  {
   "cell_type": "code",
   "execution_count": 107,
   "metadata": {},
   "outputs": [],
   "source": [
    "#r'C:\\PhD-Zipeng\\Research projects\\PUND\\1 - Copy.txt'\n",
    "New_df.to_csv(r'C:\\PhD-Zipeng\\Research projects\\PUND\\380.90.csv', index=None)"
   ]
  },
  {
   "cell_type": "code",
   "execution_count": 133,
   "metadata": {},
   "outputs": [
    {
     "name": "stdout",
     "output_type": "stream",
     "text": [
      "[359.93, 360.05, 360.41, 360.8, 361.17, 361.4, 361.72, 362.03, 362.38, 362.65, 363.04, 363.37, 363.62, 363.96, 364.16, 364.54, 364.75, 364.92, 365.18, 365.41, 365.69, 365.92, 366.19, 366.35, 366.65, 366.91, 367.12, 367.4, 367.63, 367.89, 368.17, 368.4, 368.64, 368.88, 369.1, 369.37, 369.61, 369.91, 370.14, 370.39, 370.58, 370.89, 371.11, 371.37, 371.62, 371.83, 372.08, 372.33, 372.6, 372.82, 373.06, 373.35, 373.53, 373.79, 374.06, 374.3, 374.57, 374.79, 375.07, 375.27, 375.55, 375.77, 376.04, 376.31, 376.47, 376.82, 377.08, 377.25, 377.52, 377.9, 378.06, 378.34, 378.62, 378.88, 379.02, 379.25, 379.64, 379.79, 380.06, 380.29, 380.54, 380.79, 381.0, 381.36, 381.54, 381.84, 381.99, 382.38, 382.46, 382.79, 383.06, 383.32, 383.51, 383.8, 384.01, 384.35, 384.43, 384.8, 384.98, 385.23, 385.44, 385.74, 385.99, 386.22, 386.5, 386.64, 386.96, 387.2, 387.53, 387.73, 387.89, 388.26, 388.44, 388.7, 388.92, 389.22, 389.4, 389.61, 389.96, 390.13, 390.43, 390.63, 390.88, 391.16, 391.39, 391.69, 391.87, 392.16, 392.34, 392.73, 392.9, 393.15, 393.39, 393.67, 393.9, 394.12, 394.37, 394.64, 394.88, 395.08]\n"
     ]
    }
   ],
   "source": [
    "#从文件名提取温度with regular expression\n",
    "path = r'C:\\\\PhD-Zipeng\\\\Research projects\\\\PUND\\\\BF4 PUND PE Heating'\n",
    "files = os.listdir(path)\n",
    "temperature = list()\n",
    "for file in files:\n",
    "    if file.endswith(\".tab\"):\n",
    "        num = re.findall(r\"\\d+.\\d+\", file)\n",
    "        temperature.append(float(num[0]))\n",
    "print(temperature)"
   ]
  },
  {
   "cell_type": "code",
   "execution_count": 147,
   "metadata": {},
   "outputs": [
    {
     "name": "stderr",
     "output_type": "stream",
     "text": [
      "C:\\Users\\Dev\\Anaconda3\\lib\\site-packages\\ipykernel_launcher.py:24: DeprecationWarning: \n",
      ".ix is deprecated. Please use\n",
      ".loc for label based indexing or\n",
      ".iloc for positional indexing\n",
      "\n",
      "See the documentation here:\n",
      "http://pandas.pydata.org/pandas-docs/stable/indexing.html#ix-indexer-is-deprecated\n"
     ]
    },
    {
     "name": "stdout",
     "output_type": "stream",
     "text": [
      "             AR       T   delta P\n",
      "0   9852.973099  359.93  0.366192\n",
      "1  10950.234796  360.05  0.330511\n",
      "2   9432.129479  360.41  0.382441\n"
     ]
    },
    {
     "data": {
      "image/png": "[encoded data removed]",
      "text/plain": [
       "<Figure size 432x288 with 1 Axes>"
      ]
     },
     "metadata": {},
     "output_type": "display_data"
    },
    {
     "data": {
      "image/png": "[encoded data removed]",
      "text/plain": [
       "<Figure size 432x288 with 1 Axes>"
      ]
     },
     "metadata": {},
     "output_type": "display_data"
    }
   ],
   "source": [
    "#批量操作所有文件\n",
    "path = 'C:\\\\PhD-Zipeng\\\\Research projects\\\\PUND\\\\BF4 PUND PE Heating'\n",
    "output_path = 'C:\\\\PhD-Zipeng\\\\Research projects\\\\PUND\\\\BF4 PUND PE Heating\\\\PECorrected'\n",
    "files = glob(path + \"/*.tab\")\n",
    "\n",
    "lst_AR=list()\n",
    "lst_T=list()\n",
    "lst_Pshift=list()\n",
    "i = 0\n",
    "\n",
    "for file in files:\n",
    "    df = pd.read_csv(file,delimiter='\\t',encoding= 'unicode_escape')\n",
    "    P_value = df['Measured Polarization']\n",
    "    P_peak1 = P_value[0:500]\n",
    "    index1 = find_peaks(P_peak1, prominence = 1)[0]\n",
    "    P_peak2 = P_value[500:1000]\n",
    "    index2 = find_peaks(P_peak2, prominence = 1)[0]+500\n",
    "    ##插入voltage 积分\n",
    "    x = df['Time (ms)']\n",
    "    y = df['#Drive Voltage']\n",
    "    y_integration = integrate.cumtrapz(y, x, initial=0)\n",
    "    df.insert(len(df.columns), \"Voltage Integration\", y_integration)\n",
    "    ##计算\n",
    "    delta_V_integral = df.ix[index2[0],'Voltage Integration']-df.ix[index1[0],'Voltage Integration']\n",
    "    delta_P=df.ix[index2[0],'Measured Polarization']-df.ix[index1[0],'Measured Polarization']\n",
    "    one_over_AR = delta_P/delta_V_integral\n",
    "    \n",
    "    P_fromR  = df['Voltage Integration']*one_over_AR\n",
    "    df.insert(len(df.columns), \"P from R\", P_fromR)\n",
    "    \n",
    "    P_corrected = df['Measured Polarization']-df['P from R']\n",
    "    df.insert(len(df.columns), \"Corrected P\", P_corrected)\n",
    "    \n",
    "    P_positivepart= df.iloc[0:500]\n",
    "    P_negativepart= df.iloc[1000:1500]\n",
    "    New_df = P_positivepart.append(P_negativepart)\n",
    "\n",
    "    file_name = output_path +'\\\\'+ str(temperature[i])+'.csv'\n",
    "    New_df.to_csv(file_name, index=None)\n",
    "    lst_AR.append(1/one_over_AR)\n",
    "    lst_T.append(temperature[i])\n",
    "    lst_Pshift.append(delta_P)\n",
    "    i = i+1\n",
    "    \n",
    "    \n",
    "# print(lst_AR)\n",
    "# print(lst_T)\n",
    "# print(lst_Pshift)\n",
    "\n",
    "#将list转化成dictionary，然后转化成DataFrame\n",
    "dic={\"AR\":lst_AR,\n",
    "  \"T\":lst_T,\n",
    "  \"delta P\":lst_Pshift}\n",
    "dt=pd.DataFrame(dic)\n",
    "print(dt.head(3))\n",
    "plt.figure()\n",
    "plt.plot(dt['T'],dt['AR'],'go--')\n",
    "plt.xlabel('T(K)')\n",
    "plt.ylabel('AR')\n",
    "plt.figure()\n",
    "plt.plot(dt['T'],dt['delta P'],'bo--') \n",
    "plt.xlabel('T(K)')\n",
    "plt.ylabel('delta P')\n",
    "plt.show()"
   ]
  },
  {
   "cell_type": "code",
   "execution_count": null,
   "metadata": {
    "collapsed": true
   },
   "outputs": [],
   "source": []
  }
 ],
 "metadata": {
  "kernelspec": {
   "display_name": "Python 3",
   "language": "python",
   "name": "python3"
  },
  "language_info": {
   "codemirror_mode": {
    "name": "ipython",
    "version": 3
   },
   "file_extension": ".py",
   "mimetype": "text/x-python",
   "name": "python",
   "nbconvert_exporter": "python",
   "pygments_lexer": "ipython3",
   "version": "3.6.3"
  }
 },
 "nbformat": 4,
 "nbformat_minor": 2
}
