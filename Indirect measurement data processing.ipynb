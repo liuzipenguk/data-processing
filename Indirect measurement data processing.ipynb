{
 "cells": [
  {
   "cell_type": "code",
   "execution_count": 24,
   "metadata": {
    "collapsed": true
   },
   "outputs": [],
   "source": [
    "import re\n",
    "import os \n",
    "from glob import glob\n",
    "import pandas as pd\n",
    "import numpy as np\n",
    "import matplotlib as mpl\n",
    "import matplotlib.pyplot as plt\n",
    "\n",
    "from scipy import integrate\n",
    "from scipy import interpolate\n",
    "from scipy.signal import find_peaks\n",
    "from scipy.interpolate import interp1d\n",
    "from scipy.signal import savgol_filter"
   ]
  },
  {
   "cell_type": "markdown",
   "metadata": {},
   "source": [
    "# Data cleaning, all in SI units"
   ]
  },
  {
   "cell_type": "code",
   "execution_count": 7,
   "metadata": {
    "scrolled": true
   },
   "outputs": [
    {
     "name": "stdout",
     "output_type": "stream",
     "text": [
      "   #Drive Voltage    E_SI  Measured Polarization      P_SI  Point  Time (ms)  \\\n",
      "0         -4.5776 -4.5776              -0.889348 -0.008893    1.0       0.05   \n",
      "1         -6.1798 -6.1798              -0.887338 -0.008873    2.0       0.10   \n",
      "2          0.4578  0.4578              -0.882480 -0.008825    3.0       0.15   \n",
      "3         -0.9155 -0.9155              -0.876449 -0.008764    4.0       0.20   \n",
      "4          0.4578  0.4578              -0.869748 -0.008697    5.0       0.25   \n",
      "\n",
      "   Voltage Integration  P from R  Corrected P  \n",
      "0             0.000000  0.000000    -0.889348  \n",
      "1            -0.268935 -0.000043    -0.887295  \n",
      "2            -0.411985 -0.000067    -0.882413  \n",
      "3            -0.423428 -0.000068    -0.876381  \n",
      "4            -0.434870 -0.000070    -0.869678  \n",
      "#--------------------------below is after interting columns of P_SI AND E_SI0---------------------------------------#\n",
      "   #Drive Voltage  Measured Polarization  Point  Time (ms)  \\\n",
      "0         -4.5776              -0.889348    1.0       0.05   \n",
      "1         -6.1798              -0.887338    2.0       0.10   \n",
      "2          0.4578              -0.882480    3.0       0.15   \n",
      "3         -0.9155              -0.876449    4.0       0.20   \n",
      "4          0.4578              -0.869748    5.0       0.25   \n",
      "\n",
      "   Voltage Integration  P from R  Corrected P     E_SI      P_SI  \n",
      "0             0.000000  0.000000    -0.889348 -18310.4 -0.008893  \n",
      "1            -0.268935 -0.000043    -0.887295 -24719.2 -0.008873  \n",
      "2            -0.411985 -0.000067    -0.882413   1831.2 -0.008824  \n",
      "3            -0.423428 -0.000068    -0.876381  -3662.0 -0.008764  \n",
      "4            -0.434870 -0.000070    -0.869678   1831.2 -0.008697  \n",
      "#-------------------------------------------------------------------------------------------------------------------#\n"
     ]
    },
    {
     "data": {
      "image/png": "[encoded data removed]",
      "text/plain": [
       "<Figure size 432x288 with 1 Axes>"
      ]
     },
     "metadata": {},
     "output_type": "display_data"
    }
   ],
   "source": [
    "path = 'C:\\\\PhD-Zipeng\\\\Research projects\\\\PUND\\\\BF4 PUND PE Heating\\\\PECorrected'\n",
    "output_path = 'C:\\\\PhD-Zipeng\\\\Research projects\\\\DABCO\\\\BF4\\\\No16_2x42mm2_250um\\\\PUND indirect\\\\PE'\n",
    "\n",
    "\n",
    "df = pd.read_csv(r'C:\\\\PhD-Zipeng\\\\Research projects\\\\PUND\\\\BF4 PUND PE Heating\\\\PECorrected\\\\377.08.csv',encoding= 'unicode_escape')\n",
    "print(df.head(5))\n",
    "#删除以前的错误 P_Si 和 E_SI 列，避免混乱\n",
    "df.drop(['P_SI'],axis=1,inplace=True)\n",
    "df.drop(['E_SI'],axis=1,inplace=True)\n",
    "# print(df.head(5))\n",
    "\n",
    "# convert P into C/m^2\n",
    "# convert E into V/m\n",
    "thickness = 250 # unit in micro-metre\n",
    "\n",
    "P_SI  = df['Corrected P']*0.01\n",
    "E_SI  = df['#Drive Voltage']/(thickness*0.000001)\n",
    "\n",
    "df.insert(len(df.columns), \"E_SI\", E_SI)\n",
    "df.insert(len(df.columns), \"P_SI\", P_SI)\n",
    "\n",
    "print('#--------------------------below is after interting columns of P_SI AND E_SI0---------------------------------------#')\n",
    "print(df.head(5))\n",
    "print('#-------------------------------------------------------------------------------------------------------------------#')\n",
    "plt.plot(df['E_SI'],df['P_SI'],'go--')\n",
    "plt.xlabel('E_SI')\n",
    "plt.ylabel('P_SI')\n",
    "plt.show()"
   ]
  },
  {
   "cell_type": "code",
   "execution_count": 86,
   "metadata": {
    "scrolled": true
   },
   "outputs": [
    {
     "name": "stderr",
     "output_type": "stream",
     "text": [
      "C:\\Users\\Dev\\Anaconda3\\lib\\site-packages\\ipykernel_launcher.py:8: ParserWarning: Falling back to the 'python' engine because the 'c' engine does not support regex separators (separators > 1 char and different from '\\s+' are interpreted as regex); you can avoid this warning by specifying engine='python'.\n",
      "  \n"
     ]
    }
   ],
   "source": [
    "## 批量操作所有文件\n",
    "\n",
    "path = 'C:\\\\PhD-Zipeng\\\\Research projects\\\\PUND\\\\BF4 PUND PE Heating\\\\PECorrected'\n",
    "output_path = 'C:\\\\PhD-Zipeng\\\\Research projects\\\\DABCO\\\\BF4\\\\No16_2x42mm2_250um\\\\PUND indirect\\\\Raw data_SI units'\n",
    "files = glob(path + \"/*.csv\")\n",
    "thickness = 250 # unit in micro-metre\n",
    "i = 0\n",
    "\n",
    "for file in files:\n",
    "    df = pd.read_csv(file,delimiter='\\,')\n",
    "    df.drop(['P_SI'],axis=1,inplace=True)\n",
    "    df.drop(['E_SI'],axis=1,inplace=True)\n",
    "\n",
    "    P_SI  = df['Corrected P']*0.01\n",
    "    E_SI  = df['#Drive Voltage']/(thickness*0.000001)\n",
    "\n",
    "    df.insert(len(df.columns), \"E_SI\", E_SI)\n",
    "    df.insert(len(df.columns), \"P_SI\", P_SI)\n",
    "    \n",
    "    file_name = output_path +'\\\\'+ str(temperature[i])+'.csv'\n",
    "    \n",
    "    df.to_csv(file_name, index=None)\n",
    "    i = i+1"
   ]
  },
  {
   "cell_type": "markdown",
   "metadata": {},
   "source": [
    "### 如果上面的loop无法运行，用这个cell 来 debug（一般问题是 csv读取格式/ delimiter 用逗号还是空格）\n",
    "path = 'C:\\\\PhD-Zipeng\\\\Research projects\\\\PUND\\\\BF4 PUND PE Heating\\\\PECorrected\\\\359.93.csv'\n",
    "output_path = 'C:\\\\PhD-Zipeng\\\\Research projects\\\\DABCO\\\\BF4\\\\No16_2x42mm2_250um\\\\PUND indirect\\\\Raw data_SI units'\n",
    "files = glob(path + \"/*.csv\")\n",
    "thickness = 250 # unit in micro-metre\n",
    "df = pd.read_csv(file,delimiter='\\,')\n",
    "df.head(5)"
   ]
  },
  {
   "cell_type": "markdown",
   "metadata": {},
   "source": [
    "# Resolve PE and find upper-branch"
   ]
  },
  {
   "cell_type": "code",
   "execution_count": 59,
   "metadata": {},
   "outputs": [
    {
     "data": {
      "image/png": "[encoded data removed]",
      "text/plain": [
       "<Figure size 432x288 with 1 Axes>"
      ]
     },
     "metadata": {},
     "output_type": "display_data"
    },
    {
     "data": {
      "image/png": "[encoded data removed]",
      "text/plain": [
       "<Figure size 432x288 with 1 Axes>"
      ]
     },
     "metadata": {},
     "output_type": "display_data"
    }
   ],
   "source": [
    "plt.plot(df['P_SI'])\n",
    "plt.xlabel('rows')\n",
    "plt.ylabel('P_SI')\n",
    "plt.show()\n",
    "index1 = df['P_SI'].idxmax()\n",
    "index2 = df['P_SI'].idxmin()\n",
    "\n",
    "###提取特定的行列，构成 P_upper_branch\n",
    "# P_upper = df[index1:index2]\n",
    "P_upper = df.loc[index1:index2, [ 'E_SI','P_SI']]\n",
    "# print(P_upper)\n",
    "plt.plot(P_upper['E_SI'],P_upper['P_SI'])\n",
    "plt.xlabel('E_SI')\n",
    "plt.ylabel('P_SI')\n",
    "plt.show()"
   ]
  },
  {
   "cell_type": "code",
   "execution_count": 61,
   "metadata": {},
   "outputs": [
    {
     "data": {
      "image/png": "[encoded data removed]",
      "text/plain": [
       "<Figure size 432x288 with 1 Axes>"
      ]
     },
     "metadata": {},
     "output_type": "display_data"
    },
    {
     "data": {
      "image/png": "[encoded data removed]",
      "text/plain": [
       "<Figure size 432x288 with 1 Axes>"
      ]
     },
     "metadata": {},
     "output_type": "display_data"
    }
   ],
   "source": [
    "### https://docs.scipy.org/doc/scipy/reference/generated/scipy.interpolate.interp1d.html\n",
    "### 根据实验数据，插点 得到 P_SI, E_SI。 这一步的目的是为了之后 求 P（T），使得所有的 P（E）数据点对齐\n",
    "x = P_upper['E_SI']\n",
    "y = P_upper['P_SI']\n",
    "\n",
    "## 如果需要 ， 可以smooth data！！！！！\n",
    "\n",
    "# y = savgol_filter(P_upper['P_SI'], 21, 1)\n",
    "# plt.plot(x, y)\n",
    "# plt.show()\n",
    "         \n",
    "f = interp1d(x, y, fill_value=\"extrapolate\",kind='next')\n",
    "xnew = np.linspace(0, 1200000, num=200, endpoint=True)\n",
    "\n",
    "plot1 = plt.plot(x, y,)\n",
    "plot2 = plt.plot(xnew, f(xnew), 'r-')\n",
    "plt.legend(['raw data', 'fitting data'], loc='best')\n",
    "plt.xlabel('E_SI')\n",
    "plt.ylabel('P_SI')\n",
    "plt.show() \n",
    "\n",
    "\n",
    "plot1 = plt.plot(x, y,)\n",
    "plot2 = plt.plot(xnew, f(xnew), 'r-')\n",
    "plt.legend(['raw data', 'linear'], loc='best')\n",
    "plt.axis([1100000,1200000,0.013,0.015])\n",
    "plt.xlabel('E_SI')\n",
    "plt.ylabel('P_SI')\n",
    "plt.show() "
   ]
  },
  {
   "cell_type": "code",
   "execution_count": 62,
   "metadata": {},
   "outputs": [
    {
     "data": {
      "image/png": "[encoded data removed]",
      "text/plain": [
       "<Figure size 432x288 with 1 Axes>"
      ]
     },
     "metadata": {},
     "output_type": "display_data"
    },
    {
     "name": "stdout",
     "output_type": "stream",
     "text": [
      "Length of data raws =  200\n"
     ]
    },
    {
     "data": {
      "text/html": [
       "<div>\n",
       "<style>\n",
       "    .dataframe thead tr:only-child th {\n",
       "        text-align: right;\n",
       "    }\n",
       "\n",
       "    .dataframe thead th {\n",
       "        text-align: left;\n",
       "    }\n",
       "\n",
       "    .dataframe tbody tr th {\n",
       "        vertical-align: top;\n",
       "    }\n",
       "</style>\n",
       "<table border=\"1\" class=\"dataframe\">\n",
       "  <thead>\n",
       "    <tr style=\"text-align: right;\">\n",
       "      <th></th>\n",
       "      <th>E_SI</th>\n",
       "      <th>P_SI</th>\n",
       "      <th>P_smooth</th>\n",
       "    </tr>\n",
       "  </thead>\n",
       "  <tbody>\n",
       "    <tr>\n",
       "      <th>0</th>\n",
       "      <td>0.000000</td>\n",
       "      <td>-0.001082</td>\n",
       "      <td>-0.001085</td>\n",
       "    </tr>\n",
       "    <tr>\n",
       "      <th>1</th>\n",
       "      <td>6030.150754</td>\n",
       "      <td>-0.000940</td>\n",
       "      <td>-0.001011</td>\n",
       "    </tr>\n",
       "    <tr>\n",
       "      <th>2</th>\n",
       "      <td>12060.301508</td>\n",
       "      <td>-0.001019</td>\n",
       "      <td>-0.000936</td>\n",
       "    </tr>\n",
       "    <tr>\n",
       "      <th>3</th>\n",
       "      <td>18090.452261</td>\n",
       "      <td>-0.000901</td>\n",
       "      <td>-0.000861</td>\n",
       "    </tr>\n",
       "    <tr>\n",
       "      <th>4</th>\n",
       "      <td>24120.603015</td>\n",
       "      <td>-0.000698</td>\n",
       "      <td>-0.000786</td>\n",
       "    </tr>\n",
       "  </tbody>\n",
       "</table>\n",
       "</div>"
      ],
      "text/plain": [
       "           E_SI      P_SI  P_smooth\n",
       "0      0.000000 -0.001082 -0.001085\n",
       "1   6030.150754 -0.000940 -0.001011\n",
       "2  12060.301508 -0.001019 -0.000936\n",
       "3  18090.452261 -0.000901 -0.000861\n",
       "4  24120.603015 -0.000698 -0.000786"
      ]
     },
     "execution_count": 62,
     "metadata": {},
     "output_type": "execute_result"
    }
   ],
   "source": [
    "### PE的数据可能需要 smooth，所有插入一列\n",
    "P_upper_fitting = pd.DataFrame()\n",
    "P_upper_fitting.insert(len(P_upper_fitting.columns), \"E_SI\", xnew)\n",
    "P_upper_fitting.insert(len(P_upper_fitting.columns), \"P_SI\", f(xnew))\n",
    "\n",
    "P_smooth = savgol_filter(P_upper_fitting[\"P_SI\"], 11, 1)\n",
    "P_upper_fitting.insert(len(P_upper_fitting.columns), \"P_smooth\", P_smooth)\n",
    "\n",
    "plt.plot(P_upper_fitting[\"E_SI\"], P_upper_fitting[\"P_SI\"], 'r-')\n",
    "plt.plot(P_upper_fitting[\"E_SI\"], P_upper_fitting[\"P_smooth\"], 'g')\n",
    "plt.xlabel('E_SI')\n",
    "plt.ylabel('P_SI')\n",
    "plt.legend(['raw data', 'savgol_filter smoothed'], loc='best')\n",
    "plt.show()\n",
    "print('Length of data raws = ',len(P_upper_fitting))\n",
    "P_upper_fitting.head(5)"
   ]
  },
  {
   "cell_type": "markdown",
   "metadata": {},
   "source": [
    "#为上一栏调试 smooth 的参数： window size 51, polynomial order 3\n",
    "\n",
    "x = P_upper_fitting[\"E_SI\"]\n",
    "y = P_upper_fitting[\"P_SI\"]\n",
    "yhat = savgol_filter(y, 11, 1) # window size 51, polynomial order 3\n",
    "print(len(yhat))\n",
    "plt.plot(x,y)\n",
    "plt.plot(x,yhat, color='red')\n",
    "plt.axis([1100000,1200000,0.013,0.015])\n",
    "plt.show()"
   ]
  },
  {
   "cell_type": "markdown",
   "metadata": {},
   "source": [
    "# Convert P(E) to P(T)"
   ]
  },
  {
   "cell_type": "code",
   "execution_count": 63,
   "metadata": {},
   "outputs": [
    {
     "name": "stdout",
     "output_type": "stream",
     "text": [
      "<class 'pandas.core.frame.DataFrame'>\n"
     ]
    }
   ],
   "source": [
    "### 不同 T 的 PE loops 排成一个大矩阵\n",
    "print(type(P_upper_fitting))"
   ]
  },
  {
   "cell_type": "code",
   "execution_count": 109,
   "metadata": {},
   "outputs": [
    {
     "name": "stdout",
     "output_type": "stream",
     "text": [
      "[359.93, 360.05, 360.41, 360.8, 361.17, 361.4, 361.72, 362.03, 362.38, 362.65, 363.04, 363.37, 363.62, 363.96, 364.16, 364.54, 364.75, 364.92, 365.18, 365.41, 365.69, 365.92, 366.19, 366.35, 366.65, 366.91, 367.12, 367.4, 367.63, 367.89, 368.17, 368.4, 368.64, 368.88, 369.1, 369.37, 369.61, 369.91, 370.14, 370.39, 370.58, 370.89, 371.11, 371.37, 371.62, 371.83, 372.08, 372.33, 372.6, 372.82, 373.06, 373.35, 373.53, 373.79, 374.06, 374.3, 374.57, 374.79, 375.07, 375.27, 375.55, 375.77, 376.04, 376.31, 376.47, 376.82, 377.08, 377.25, 377.52, 377.9, 378.06, 378.34, 378.62, 378.88, 379.02, 379.25, 379.64, 379.79, 380.06, 380.29, 380.54, 380.79, 381.0, 381.36, 381.54, 381.84, 381.99, 382.38, 382.46, 382.79, 383.06, 383.32, 383.51, 383.8, 384.01, 384.35, 384.43, 384.8, 384.98, 385.23, 385.44, 385.74, 385.99, 386.22, 386.5, 386.64, 386.96, 387.2, 387.53, 387.73, 387.89, 388.26, 388.44, 388.7, 388.92, 389.22, 389.4, 389.61, 389.96, 390.13, 390.43, 390.63, 390.88, 391.16, 391.39, 391.69, 391.87, 392.16, 392.34, 392.73, 392.9, 393.15, 393.39, 393.67, 393.9, 394.12, 394.37, 394.64, 394.88, 395.08]\n"
     ]
    }
   ],
   "source": [
    "#从文件名提取温度with regular expression\n",
    "# path = 'C:\\\\PhD-Zipeng\\\\Research projects\\\\PUND\\\\BF4 PUND PE Heating\\\\PECorrected\\\\Try'\n",
    "path = 'C:\\\\PhD-Zipeng\\\\Research projects\\\\PUND\\\\BF4 PUND PE Heating\\\\PECorrected'\n",
    "files = os.listdir(path)\n",
    "temperature = list()\n",
    "for file in files:\n",
    "    if file.endswith(\".csv\"):\n",
    "        num = re.findall(r\"\\d+.\\d+\", file)\n",
    "        temperature.append(float(num[0]))\n",
    "print(temperature)"
   ]
  },
  {
   "cell_type": "code",
   "execution_count": 116,
   "metadata": {},
   "outputs": [
    {
     "name": "stderr",
     "output_type": "stream",
     "text": [
      "C:\\Users\\Dev\\Anaconda3\\lib\\site-packages\\ipykernel_launcher.py:12: ParserWarning: Falling back to the 'python' engine because the 'c' engine does not support regex separators (separators > 1 char and different from '\\s+' are interpreted as regex); you can avoid this warning by specifying engine='python'.\n",
      "  if sys.path[0] == '':\n"
     ]
    },
    {
     "name": "stdout",
     "output_type": "stream",
     "text": [
      "(240, 141)\n"
     ]
    }
   ],
   "source": [
    "# path = 'C:\\\\PhD-Zipeng\\\\Research projects\\\\PUND\\\\BF4 PUND PE Heating\\\\PECorrected\\\\Try'\n",
    "path = 'C:\\\\PhD-Zipeng\\\\Research projects\\\\PUND\\\\BF4 PUND PE Heating\\\\PECorrected'\n",
    "output_path = 'C:\\\\PhD-Zipeng\\\\Research projects\\\\DABCO\\\\BF4\\\\No16_2x42mm2_250um\\\\PUND indirect\\\\PE matrix'\n",
    "files = glob(path + \"/*.csv\")\n",
    "\n",
    "P_upper_fitting = pd.DataFrame()\n",
    "E = np.linspace(0, 1200000, num=240, endpoint=True)\n",
    "P_upper_fitting.insert(len(P_upper_fitting.columns), \"E_SI\", E)\n",
    "\n",
    "i= 0\n",
    "for file in files:\n",
    "    df = pd.read_csv(file,delimiter='\\,')\n",
    "    index1 = df['P_SI'].idxmax()\n",
    "    index2 = df['P_SI'].idxmin()\n",
    "    x = P_upper['E_SI']\n",
    "    y = P_upper['P_SI']\n",
    "    P_upper = df.loc[index1:index2, [ 'E_SI','P_SI']]\n",
    "    f = interp1d(x, y, fill_value=\"extrapolate\",kind='next')\n",
    "    \n",
    "    column_name = str(temperature[i])\n",
    "    P_upper_fitting.insert(len(P_upper_fitting.columns), column_name, f(E))\n",
    "    i = i+1\n",
    "    \n",
    "print(P_upper_fitting.shape)\n",
    "# print(P_upper_fitting.head(5))\n",
    "\n",
    "P_upper_fitting.to_csv(output_path+'.csv', index=None)"
   ]
  },
  {
   "cell_type": "code",
   "execution_count": 117,
   "metadata": {},
   "outputs": [
    {
     "data": {
      "text/html": [
       "<div>\n",
       "<style>\n",
       "    .dataframe thead tr:only-child th {\n",
       "        text-align: right;\n",
       "    }\n",
       "\n",
       "    .dataframe thead th {\n",
       "        text-align: left;\n",
       "    }\n",
       "\n",
       "    .dataframe tbody tr th {\n",
       "        vertical-align: top;\n",
       "    }\n",
       "</style>\n",
       "<table border=\"1\" class=\"dataframe\">\n",
       "  <thead>\n",
       "    <tr style=\"text-align: right;\">\n",
       "      <th></th>\n",
       "      <th>E_SI</th>\n",
       "      <th>359.93</th>\n",
       "      <th>360.05</th>\n",
       "      <th>360.41</th>\n",
       "      <th>360.8</th>\n",
       "      <th>361.17</th>\n",
       "      <th>361.4</th>\n",
       "      <th>361.72</th>\n",
       "      <th>362.03</th>\n",
       "      <th>362.38</th>\n",
       "      <th>...</th>\n",
       "      <th>392.9</th>\n",
       "      <th>393.15</th>\n",
       "      <th>393.39</th>\n",
       "      <th>393.67</th>\n",
       "      <th>393.9</th>\n",
       "      <th>394.12</th>\n",
       "      <th>394.37</th>\n",
       "      <th>394.64</th>\n",
       "      <th>394.88</th>\n",
       "      <th>395.08</th>\n",
       "    </tr>\n",
       "  </thead>\n",
       "  <tbody>\n",
       "    <tr>\n",
       "      <th>0</th>\n",
       "      <td>0.000000</td>\n",
       "      <td>0.000580</td>\n",
       "      <td>0.021920</td>\n",
       "      <td>0.021308</td>\n",
       "      <td>0.021951</td>\n",
       "      <td>0.021890</td>\n",
       "      <td>0.021811</td>\n",
       "      <td>0.021753</td>\n",
       "      <td>0.021794</td>\n",
       "      <td>0.021919</td>\n",
       "      <td>...</td>\n",
       "      <td>-0.000153</td>\n",
       "      <td>0.000113</td>\n",
       "      <td>-0.000057</td>\n",
       "      <td>-0.000043</td>\n",
       "      <td>0.000218</td>\n",
       "      <td>0.000359</td>\n",
       "      <td>0.000070</td>\n",
       "      <td>0.000215</td>\n",
       "      <td>0.000153</td>\n",
       "      <td>0.000177</td>\n",
       "    </tr>\n",
       "    <tr>\n",
       "      <th>1</th>\n",
       "      <td>5020.920502</td>\n",
       "      <td>0.012918</td>\n",
       "      <td>0.033263</td>\n",
       "      <td>0.033919</td>\n",
       "      <td>0.033325</td>\n",
       "      <td>0.033675</td>\n",
       "      <td>0.033822</td>\n",
       "      <td>0.033901</td>\n",
       "      <td>0.033865</td>\n",
       "      <td>0.033955</td>\n",
       "      <td>...</td>\n",
       "      <td>0.013491</td>\n",
       "      <td>0.013722</td>\n",
       "      <td>0.013514</td>\n",
       "      <td>0.013659</td>\n",
       "      <td>0.013621</td>\n",
       "      <td>0.013473</td>\n",
       "      <td>0.013644</td>\n",
       "      <td>0.013146</td>\n",
       "      <td>0.013526</td>\n",
       "      <td>0.013278</td>\n",
       "    </tr>\n",
       "    <tr>\n",
       "      <th>2</th>\n",
       "      <td>10041.841004</td>\n",
       "      <td>0.012918</td>\n",
       "      <td>0.033263</td>\n",
       "      <td>0.033919</td>\n",
       "      <td>0.033325</td>\n",
       "      <td>0.033675</td>\n",
       "      <td>0.033822</td>\n",
       "      <td>0.033901</td>\n",
       "      <td>0.033865</td>\n",
       "      <td>0.033955</td>\n",
       "      <td>...</td>\n",
       "      <td>0.013491</td>\n",
       "      <td>0.013722</td>\n",
       "      <td>0.013514</td>\n",
       "      <td>0.013659</td>\n",
       "      <td>0.013621</td>\n",
       "      <td>0.013473</td>\n",
       "      <td>0.013644</td>\n",
       "      <td>0.013146</td>\n",
       "      <td>0.013526</td>\n",
       "      <td>0.013278</td>\n",
       "    </tr>\n",
       "    <tr>\n",
       "      <th>3</th>\n",
       "      <td>15062.761506</td>\n",
       "      <td>0.012918</td>\n",
       "      <td>0.033263</td>\n",
       "      <td>0.033919</td>\n",
       "      <td>0.033325</td>\n",
       "      <td>0.033675</td>\n",
       "      <td>0.033822</td>\n",
       "      <td>0.033901</td>\n",
       "      <td>0.033865</td>\n",
       "      <td>0.033955</td>\n",
       "      <td>...</td>\n",
       "      <td>0.013491</td>\n",
       "      <td>0.013722</td>\n",
       "      <td>0.013514</td>\n",
       "      <td>0.013659</td>\n",
       "      <td>0.013621</td>\n",
       "      <td>0.013473</td>\n",
       "      <td>0.013644</td>\n",
       "      <td>0.013146</td>\n",
       "      <td>0.013526</td>\n",
       "      <td>0.013278</td>\n",
       "    </tr>\n",
       "    <tr>\n",
       "      <th>4</th>\n",
       "      <td>20083.682008</td>\n",
       "      <td>0.012918</td>\n",
       "      <td>0.033263</td>\n",
       "      <td>0.033919</td>\n",
       "      <td>0.033325</td>\n",
       "      <td>0.033675</td>\n",
       "      <td>0.033822</td>\n",
       "      <td>0.033901</td>\n",
       "      <td>0.033865</td>\n",
       "      <td>0.033955</td>\n",
       "      <td>...</td>\n",
       "      <td>0.013491</td>\n",
       "      <td>0.013722</td>\n",
       "      <td>0.013514</td>\n",
       "      <td>0.013659</td>\n",
       "      <td>0.013621</td>\n",
       "      <td>0.013473</td>\n",
       "      <td>0.013644</td>\n",
       "      <td>0.013146</td>\n",
       "      <td>0.013526</td>\n",
       "      <td>0.013278</td>\n",
       "    </tr>\n",
       "  </tbody>\n",
       "</table>\n",
       "<p>5 rows × 141 columns</p>\n",
       "</div>"
      ],
      "text/plain": [
       "           E_SI    359.93    360.05    360.41     360.8    361.17     361.4  \\\n",
       "0      0.000000  0.000580  0.021920  0.021308  0.021951  0.021890  0.021811   \n",
       "1   5020.920502  0.012918  0.033263  0.033919  0.033325  0.033675  0.033822   \n",
       "2  10041.841004  0.012918  0.033263  0.033919  0.033325  0.033675  0.033822   \n",
       "3  15062.761506  0.012918  0.033263  0.033919  0.033325  0.033675  0.033822   \n",
       "4  20083.682008  0.012918  0.033263  0.033919  0.033325  0.033675  0.033822   \n",
       "\n",
       "     361.72    362.03    362.38    ...        392.9    393.15    393.39  \\\n",
       "0  0.021753  0.021794  0.021919    ...    -0.000153  0.000113 -0.000057   \n",
       "1  0.033901  0.033865  0.033955    ...     0.013491  0.013722  0.013514   \n",
       "2  0.033901  0.033865  0.033955    ...     0.013491  0.013722  0.013514   \n",
       "3  0.033901  0.033865  0.033955    ...     0.013491  0.013722  0.013514   \n",
       "4  0.033901  0.033865  0.033955    ...     0.013491  0.013722  0.013514   \n",
       "\n",
       "     393.67     393.9    394.12    394.37    394.64    394.88    395.08  \n",
       "0 -0.000043  0.000218  0.000359  0.000070  0.000215  0.000153  0.000177  \n",
       "1  0.013659  0.013621  0.013473  0.013644  0.013146  0.013526  0.013278  \n",
       "2  0.013659  0.013621  0.013473  0.013644  0.013146  0.013526  0.013278  \n",
       "3  0.013659  0.013621  0.013473  0.013644  0.013146  0.013526  0.013278  \n",
       "4  0.013659  0.013621  0.013473  0.013644  0.013146  0.013526  0.013278  \n",
       "\n",
       "[5 rows x 141 columns]"
      ]
     },
     "execution_count": 117,
     "metadata": {},
     "output_type": "execute_result"
    }
   ],
   "source": [
    "P_upper_fitting.head(5)"
   ]
  },
  {
   "cell_type": "code",
   "execution_count": 125,
   "metadata": {},
   "outputs": [
    {
     "data": {
      "text/html": [
       "<div>\n",
       "<style>\n",
       "    .dataframe thead tr:only-child th {\n",
       "        text-align: right;\n",
       "    }\n",
       "\n",
       "    .dataframe thead th {\n",
       "        text-align: left;\n",
       "    }\n",
       "\n",
       "    .dataframe tbody tr th {\n",
       "        vertical-align: top;\n",
       "    }\n",
       "</style>\n",
       "<table border=\"1\" class=\"dataframe\">\n",
       "  <thead>\n",
       "    <tr style=\"text-align: right;\">\n",
       "      <th></th>\n",
       "      <th>0</th>\n",
       "      <th>1</th>\n",
       "      <th>2</th>\n",
       "      <th>3</th>\n",
       "      <th>4</th>\n",
       "      <th>5</th>\n",
       "      <th>6</th>\n",
       "      <th>7</th>\n",
       "      <th>8</th>\n",
       "      <th>9</th>\n",
       "      <th>...</th>\n",
       "      <th>230</th>\n",
       "      <th>231</th>\n",
       "      <th>232</th>\n",
       "      <th>233</th>\n",
       "      <th>234</th>\n",
       "      <th>235</th>\n",
       "      <th>236</th>\n",
       "      <th>237</th>\n",
       "      <th>238</th>\n",
       "      <th>239</th>\n",
       "    </tr>\n",
       "  </thead>\n",
       "  <tbody>\n",
       "    <tr>\n",
       "      <th>E_SI</th>\n",
       "      <td>0.000000</td>\n",
       "      <td>5020.920502</td>\n",
       "      <td>10041.841004</td>\n",
       "      <td>15062.761506</td>\n",
       "      <td>20083.682008</td>\n",
       "      <td>25104.602510</td>\n",
       "      <td>30125.523013</td>\n",
       "      <td>35146.443515</td>\n",
       "      <td>40167.364017</td>\n",
       "      <td>45188.284519</td>\n",
       "      <td>...</td>\n",
       "      <td>1.154812e+06</td>\n",
       "      <td>1.159833e+06</td>\n",
       "      <td>1.164854e+06</td>\n",
       "      <td>1.169874e+06</td>\n",
       "      <td>1.174895e+06</td>\n",
       "      <td>1.179916e+06</td>\n",
       "      <td>1.184937e+06</td>\n",
       "      <td>1.189958e+06</td>\n",
       "      <td>1.194979e+06</td>\n",
       "      <td>1.200000e+06</td>\n",
       "    </tr>\n",
       "    <tr>\n",
       "      <th>359.93</th>\n",
       "      <td>0.000580</td>\n",
       "      <td>0.012918</td>\n",
       "      <td>0.012918</td>\n",
       "      <td>0.012918</td>\n",
       "      <td>0.012918</td>\n",
       "      <td>0.012918</td>\n",
       "      <td>0.012918</td>\n",
       "      <td>0.012918</td>\n",
       "      <td>0.012918</td>\n",
       "      <td>0.012918</td>\n",
       "      <td>...</td>\n",
       "      <td>1.291825e-02</td>\n",
       "      <td>1.291825e-02</td>\n",
       "      <td>1.291825e-02</td>\n",
       "      <td>1.291825e-02</td>\n",
       "      <td>1.291825e-02</td>\n",
       "      <td>1.291825e-02</td>\n",
       "      <td>1.291825e-02</td>\n",
       "      <td>1.291825e-02</td>\n",
       "      <td>1.291825e-02</td>\n",
       "      <td>1.291825e-02</td>\n",
       "    </tr>\n",
       "    <tr>\n",
       "      <th>360.05</th>\n",
       "      <td>0.021920</td>\n",
       "      <td>0.033263</td>\n",
       "      <td>0.033263</td>\n",
       "      <td>0.033263</td>\n",
       "      <td>0.033263</td>\n",
       "      <td>0.033263</td>\n",
       "      <td>0.033263</td>\n",
       "      <td>0.033263</td>\n",
       "      <td>0.033263</td>\n",
       "      <td>0.033263</td>\n",
       "      <td>...</td>\n",
       "      <td>3.326302e-02</td>\n",
       "      <td>3.326302e-02</td>\n",
       "      <td>3.326302e-02</td>\n",
       "      <td>3.326302e-02</td>\n",
       "      <td>3.326302e-02</td>\n",
       "      <td>3.326302e-02</td>\n",
       "      <td>3.326302e-02</td>\n",
       "      <td>3.326302e-02</td>\n",
       "      <td>3.326302e-02</td>\n",
       "      <td>3.326302e-02</td>\n",
       "    </tr>\n",
       "    <tr>\n",
       "      <th>360.41</th>\n",
       "      <td>0.021308</td>\n",
       "      <td>0.033919</td>\n",
       "      <td>0.033919</td>\n",
       "      <td>0.033919</td>\n",
       "      <td>0.033919</td>\n",
       "      <td>0.033919</td>\n",
       "      <td>0.033919</td>\n",
       "      <td>0.033919</td>\n",
       "      <td>0.033919</td>\n",
       "      <td>0.033919</td>\n",
       "      <td>...</td>\n",
       "      <td>3.391885e-02</td>\n",
       "      <td>3.391885e-02</td>\n",
       "      <td>3.391885e-02</td>\n",
       "      <td>3.391885e-02</td>\n",
       "      <td>3.391885e-02</td>\n",
       "      <td>3.391885e-02</td>\n",
       "      <td>3.391885e-02</td>\n",
       "      <td>3.391885e-02</td>\n",
       "      <td>3.391885e-02</td>\n",
       "      <td>3.391885e-02</td>\n",
       "    </tr>\n",
       "    <tr>\n",
       "      <th>360.8</th>\n",
       "      <td>0.021951</td>\n",
       "      <td>0.033325</td>\n",
       "      <td>0.033325</td>\n",
       "      <td>0.033325</td>\n",
       "      <td>0.033325</td>\n",
       "      <td>0.033325</td>\n",
       "      <td>0.033325</td>\n",
       "      <td>0.033325</td>\n",
       "      <td>0.033325</td>\n",
       "      <td>0.033325</td>\n",
       "      <td>...</td>\n",
       "      <td>3.332500e-02</td>\n",
       "      <td>3.332500e-02</td>\n",
       "      <td>3.332500e-02</td>\n",
       "      <td>3.332500e-02</td>\n",
       "      <td>3.332500e-02</td>\n",
       "      <td>3.332500e-02</td>\n",
       "      <td>3.332500e-02</td>\n",
       "      <td>3.332500e-02</td>\n",
       "      <td>3.332500e-02</td>\n",
       "      <td>3.332500e-02</td>\n",
       "    </tr>\n",
       "  </tbody>\n",
       "</table>\n",
       "<p>5 rows × 240 columns</p>\n",
       "</div>"
      ],
      "text/plain": [
       "             0            1             2             3             4    \\\n",
       "E_SI    0.000000  5020.920502  10041.841004  15062.761506  20083.682008   \n",
       "359.93  0.000580     0.012918      0.012918      0.012918      0.012918   \n",
       "360.05  0.021920     0.033263      0.033263      0.033263      0.033263   \n",
       "360.41  0.021308     0.033919      0.033919      0.033919      0.033919   \n",
       "360.8   0.021951     0.033325      0.033325      0.033325      0.033325   \n",
       "\n",
       "                 5             6             7             8             9    \\\n",
       "E_SI    25104.602510  30125.523013  35146.443515  40167.364017  45188.284519   \n",
       "359.93      0.012918      0.012918      0.012918      0.012918      0.012918   \n",
       "360.05      0.033263      0.033263      0.033263      0.033263      0.033263   \n",
       "360.41      0.033919      0.033919      0.033919      0.033919      0.033919   \n",
       "360.8       0.033325      0.033325      0.033325      0.033325      0.033325   \n",
       "\n",
       "            ...                230           231           232           233  \\\n",
       "E_SI        ...       1.154812e+06  1.159833e+06  1.164854e+06  1.169874e+06   \n",
       "359.93      ...       1.291825e-02  1.291825e-02  1.291825e-02  1.291825e-02   \n",
       "360.05      ...       3.326302e-02  3.326302e-02  3.326302e-02  3.326302e-02   \n",
       "360.41      ...       3.391885e-02  3.391885e-02  3.391885e-02  3.391885e-02   \n",
       "360.8       ...       3.332500e-02  3.332500e-02  3.332500e-02  3.332500e-02   \n",
       "\n",
       "                 234           235           236           237           238  \\\n",
       "E_SI    1.174895e+06  1.179916e+06  1.184937e+06  1.189958e+06  1.194979e+06   \n",
       "359.93  1.291825e-02  1.291825e-02  1.291825e-02  1.291825e-02  1.291825e-02   \n",
       "360.05  3.326302e-02  3.326302e-02  3.326302e-02  3.326302e-02  3.326302e-02   \n",
       "360.41  3.391885e-02  3.391885e-02  3.391885e-02  3.391885e-02  3.391885e-02   \n",
       "360.8   3.332500e-02  3.332500e-02  3.332500e-02  3.332500e-02  3.332500e-02   \n",
       "\n",
       "                 239  \n",
       "E_SI    1.200000e+06  \n",
       "359.93  1.291825e-02  \n",
       "360.05  3.326302e-02  \n",
       "360.41  3.391885e-02  \n",
       "360.8   3.332500e-02  \n",
       "\n",
       "[5 rows x 240 columns]"
      ]
     },
     "execution_count": 125,
     "metadata": {},
     "output_type": "execute_result"
    }
   ],
   "source": [
    "P_T = P_upper_fitting.transpose()\n",
    "P_T.head(5)\n",
    "# P_T.to_csv('C:\\\\PhD-Zipeng\\\\Research projects\\\\DABCO\\\\BF4\\\\No16_2x42mm2_250um\\\\PUND indirect\\\\PT matrix'+'.csv')"
   ]
  },
  {
   "cell_type": "code",
   "execution_count": null,
   "metadata": {
    "collapsed": true
   },
   "outputs": [],
   "source": []
  }
 ],
 "metadata": {
  "kernelspec": {
   "display_name": "Python 3",
   "language": "python",
   "name": "python3"
  },
  "language_info": {
   "codemirror_mode": {
    "name": "ipython",
    "version": 3
   },
   "file_extension": ".py",
   "mimetype": "text/x-python",
   "name": "python",
   "nbconvert_exporter": "python",
   "pygments_lexer": "ipython3",
   "version": "3.6.3"
  }
 },
 "nbformat": 4,
 "nbformat_minor": 2
}
