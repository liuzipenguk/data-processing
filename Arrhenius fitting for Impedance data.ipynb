{
 "cells": [
  {
   "cell_type": "code",
   "execution_count": 1,
   "metadata": {
    "collapsed": true
   },
   "outputs": [],
   "source": [
    "import re\n",
    "import os \n",
    "from glob import glob\n",
    "import pandas as pd\n",
    "import numpy as np\n",
    "import matplotlib as mpl\n",
    "import matplotlib.pyplot as plt\n",
    "from sklearn.linear_model import LinearRegression\n",
    "from scipy import integrate\n",
    "from scipy.signal import find_peaks\n",
    "from scipy.fftpack import fft\n",
    "from scipy import signal, misc\n",
    "from scipy.ndimage import gaussian_filter1d"
   ]
  },
  {
   "cell_type": "code",
   "execution_count": 60,
   "metadata": {},
   "outputs": [
    {
     "data": {
      "text/html": [
       "<div>\n",
       "<style>\n",
       "    .dataframe thead tr:only-child th {\n",
       "        text-align: right;\n",
       "    }\n",
       "\n",
       "    .dataframe thead th {\n",
       "        text-align: left;\n",
       "    }\n",
       "\n",
       "    .dataframe tbody tr th {\n",
       "        vertical-align: top;\n",
       "    }\n",
       "</style>\n",
       "<table border=\"1\" class=\"dataframe\">\n",
       "  <thead>\n",
       "    <tr style=\"text-align: right;\">\n",
       "      <th></th>\n",
       "      <th>#4294A_Frequency</th>\n",
       "      <th>E real</th>\n",
       "      <th>Eimaginary</th>\n",
       "    </tr>\n",
       "  </thead>\n",
       "  <tbody>\n",
       "    <tr>\n",
       "      <th>0</th>\n",
       "      <td>1000.000</td>\n",
       "      <td>52.43872</td>\n",
       "      <td>4.336863</td>\n",
       "    </tr>\n",
       "    <tr>\n",
       "      <th>1</th>\n",
       "      <td>1013.939</td>\n",
       "      <td>51.72060</td>\n",
       "      <td>5.291248</td>\n",
       "    </tr>\n",
       "    <tr>\n",
       "      <th>2</th>\n",
       "      <td>1028.073</td>\n",
       "      <td>51.71726</td>\n",
       "      <td>5.546219</td>\n",
       "    </tr>\n",
       "    <tr>\n",
       "      <th>3</th>\n",
       "      <td>1042.404</td>\n",
       "      <td>51.87074</td>\n",
       "      <td>5.206819</td>\n",
       "    </tr>\n",
       "    <tr>\n",
       "      <th>4</th>\n",
       "      <td>1056.935</td>\n",
       "      <td>50.56518</td>\n",
       "      <td>5.560027</td>\n",
       "    </tr>\n",
       "    <tr>\n",
       "      <th>5</th>\n",
       "      <td>1071.668</td>\n",
       "      <td>51.63305</td>\n",
       "      <td>4.894384</td>\n",
       "    </tr>\n",
       "    <tr>\n",
       "      <th>6</th>\n",
       "      <td>1086.606</td>\n",
       "      <td>52.29094</td>\n",
       "      <td>4.844709</td>\n",
       "    </tr>\n",
       "    <tr>\n",
       "      <th>7</th>\n",
       "      <td>1101.753</td>\n",
       "      <td>52.56074</td>\n",
       "      <td>4.794347</td>\n",
       "    </tr>\n",
       "    <tr>\n",
       "      <th>8</th>\n",
       "      <td>1117.111</td>\n",
       "      <td>51.62384</td>\n",
       "      <td>5.476408</td>\n",
       "    </tr>\n",
       "    <tr>\n",
       "      <th>9</th>\n",
       "      <td>1132.683</td>\n",
       "      <td>50.97159</td>\n",
       "      <td>4.684453</td>\n",
       "    </tr>\n",
       "  </tbody>\n",
       "</table>\n",
       "</div>"
      ],
      "text/plain": [
       "   #4294A_Frequency    E real  Eimaginary\n",
       "0          1000.000  52.43872    4.336863\n",
       "1          1013.939  51.72060    5.291248\n",
       "2          1028.073  51.71726    5.546219\n",
       "3          1042.404  51.87074    5.206819\n",
       "4          1056.935  50.56518    5.560027\n",
       "5          1071.668  51.63305    4.894384\n",
       "6          1086.606  52.29094    4.844709\n",
       "7          1101.753  52.56074    4.794347\n",
       "8          1117.111  51.62384    5.476408\n",
       "9          1132.683  50.97159    4.684453"
      ]
     },
     "execution_count": 60,
     "metadata": {},
     "output_type": "execute_result"
    }
   ],
   "source": [
    "#读取单个的PE loop的文件\n",
    "df = pd.read_csv(r'C:\\PhD-Zipeng\\Research projects\\DABCO\\BF4\\Impedance\\Arrhenius fitting\\Cooling\\373.22.tab',delimiter='\\t',encoding= 'unicode_escape')\n",
    "df.head(10)"
   ]
  },
  {
   "cell_type": "code",
   "execution_count": 61,
   "metadata": {},
   "outputs": [
    {
     "data": {
      "image/png": "[encoded data removed]",
      "text/plain": [
       "<Figure size 432x288 with 1 Axes>"
      ]
     },
     "metadata": {},
     "output_type": "display_data"
    },
    {
     "name": "stdout",
     "output_type": "stream",
     "text": [
      "[]\n"
     ]
    }
   ],
   "source": [
    "# 提取 E imaginary 的列\n",
    "E_ima = df['Eimaginary']\n",
    "# 做smooth，不然 find peak 会很麻烦\n",
    "E_ima_smooth = gaussian_filter1d(E_ima.iloc[:], 10) #10代表 smooth的强度，最好是能刚好取出杂峰，又不smooth 太重\n",
    "\n",
    "plt.plot(E_ima,'g--')\n",
    "plt.plot(E_ima_smooth,'r')\n",
    "plt.xlabel('rows')\n",
    "plt.ylabel('E imaginary')\n",
    "plt.show()\n",
    "\n",
    "# find peak\n",
    "indices = find_peaks(E_ima_smooth, prominence=0)[0]# promince 是调节峰的突起程度，我的峰不太突起，所以设为0\n",
    "print(indices)"
   ]
  },
  {
   "cell_type": "code",
   "execution_count": 62,
   "metadata": {},
   "outputs": [
    {
     "ename": "IndexError",
     "evalue": "index 0 is out of bounds for axis 0 with size 0",
     "output_type": "error",
     "traceback": [
      "\u001b[1;31m---------------------------------------------------------------------------\u001b[0m",
      "\u001b[1;31mIndexError\u001b[0m                                Traceback (most recent call last)",
      "\u001b[1;32m<ipython-input-62-12bcaf733b03>\u001b[0m in \u001b[0;36m<module>\u001b[1;34m()\u001b[0m\n\u001b[1;32m----> 1\u001b[1;33m \u001b[0mindices\u001b[0m\u001b[1;33m[\u001b[0m\u001b[1;36m0\u001b[0m\u001b[1;33m]\u001b[0m\u001b[1;33m\u001b[0m\u001b[0m\n\u001b[0m",
      "\u001b[1;31mIndexError\u001b[0m: index 0 is out of bounds for axis 0 with size 0"
     ]
    }
   ],
   "source": [
    "indices[0]\n",
    "#常见的错误在于：某一个文件的峰找不到\n",
    "#解决方案是该smooth的强度"
   ]
  },
  {
   "cell_type": "code",
   "execution_count": 56,
   "metadata": {},
   "outputs": [
    {
     "name": "stdout",
     "output_type": "stream",
     "text": [
      "1337.3729999999998\n",
      "<class 'numpy.float64'>\n"
     ]
    }
   ],
   "source": [
    "f_relaxation = df.loc[int(indices[0]),'#4294A_Frequency']\n",
    "print(f_relaxation)\n",
    "print(type(f_relaxation))"
   ]
  },
  {
   "cell_type": "markdown",
   "metadata": {},
   "source": [
    "# Below is the code，above is for breakdown the loop and debug"
   ]
  },
  {
   "cell_type": "code",
   "execution_count": 46,
   "metadata": {},
   "outputs": [
    {
     "name": "stdout",
     "output_type": "stream",
     "text": [
      "[296.94, 296.98, 297.02, 297.08, 297.13, 297.16, 297.2, 297.25, 297.29, 297.34, 297.38, 297.43, 297.48, 297.54, 297.58, 297.63, 297.68, 297.72, 297.78, 297.83, 297.89, 297.94, 297.99, 298.04, 298.1, 298.15, 298.2, 298.26, 298.31, 298.37, 298.43, 298.49, 298.55, 298.6, 298.67, 298.74, 298.79, 298.85, 298.92, 298.98, 299.05, 299.12, 299.18, 299.25, 299.31, 299.38, 299.45, 299.53, 299.59, 299.66, 299.74, 299.82, 299.88, 299.98, 300.06, 300.13, 300.21, 300.29, 300.37, 300.46, 300.54, 300.62, 300.71, 300.8, 300.89, 300.98, 301.07, 301.17, 301.27, 301.35, 301.45, 301.55, 301.64, 301.74, 301.85, 301.94, 302.07, 302.16, 302.27, 302.37, 302.48, 302.61, 302.7, 302.83, 302.91, 303.03, 303.13, 303.25, 303.37, 303.48, 303.57, 303.69, 303.81, 303.91, 304.04, 304.14, 304.26, 304.37, 304.5, 304.62, 304.73, 304.82, 304.94, 305.06, 305.18, 305.29, 305.44, 305.53, 305.65, 305.76, 305.86, 305.99, 306.1, 306.22, 306.33, 306.45, 306.55, 306.66, 306.8, 306.88, 307.01, 307.14, 307.26, 307.35, 307.49, 307.58, 307.7, 307.81, 307.93, 308.03, 308.16, 308.25, 308.38, 308.5, 308.6, 308.72, 308.83, 308.96, 309.07, 309.16, 309.3, 309.43, 309.53, 309.64, 309.77, 309.87, 309.97, 310.13, 310.25, 310.33, 310.43, 310.56, 310.7, 310.81, 310.91, 311.03, 311.14, 311.25, 311.37, 311.48, 311.58, 311.71, 311.82, 311.94, 312.07, 312.18, 312.28, 312.41, 312.52, 312.62, 312.73, 312.86, 312.97, 313.07, 313.21, 313.33, 313.44, 313.56, 313.68, 313.78, 313.89, 314.0, 314.13, 314.24, 314.36, 314.49, 314.59, 314.7, 314.81, 314.93, 315.05, 315.17, 315.28, 315.4, 315.52, 315.59, 315.73, 315.84, 315.96, 316.08, 316.19, 316.31, 316.42, 316.53, 316.67, 316.79, 316.91, 317.0, 317.12, 317.23, 317.34, 317.46, 317.58, 317.7, 317.8, 317.91, 318.04, 318.17, 318.27, 318.37, 318.5, 318.62, 318.76, 318.84, 318.96, 319.08, 319.19, 319.31, 319.41, 319.54, 319.65, 319.77, 319.89, 320.01, 320.1, 320.22, 320.36, 320.46, 320.57, 320.69, 320.81, 320.91, 321.01, 321.14, 321.25, 321.37, 321.49, 321.59, 321.71, 321.84, 321.95, 322.06, 322.16, 322.28, 322.39, 322.51, 322.64, 322.77, 322.87, 322.95, 323.09, 323.21, 323.33, 323.48, 323.57, 323.68, 323.79, 323.91, 324.03, 324.13, 324.26, 324.33, 324.5, 324.59, 324.71, 324.81, 324.94, 325.07, 325.18, 325.29, 325.41, 325.51, 325.62, 325.74, 325.89, 325.98, 326.09, 326.23, 326.29, 326.45, 326.56, 326.67, 326.78, 326.9, 327.04, 327.11, 327.23, 327.36, 327.48, 327.56, 327.7, 327.82, 327.93, 328.06, 328.13, 328.28, 328.4, 328.52, 328.62, 328.72, 328.87, 328.97, 329.08, 329.2, 329.3, 329.48, 329.55, 329.66, 329.76, 329.88, 329.98, 330.11, 330.27, 330.36, 330.48, 330.6, 330.69, 330.79, 330.92, 331.07, 331.17, 331.26, 331.36, 331.52, 331.66, 331.73, 331.87, 331.95, 332.06, 332.18, 332.33, 332.42, 332.49, 332.65, 332.76, 332.85, 333.0, 333.14, 333.27, 333.34, 333.39, 333.58, 333.69, 333.8, 333.94, 334.04, 334.17, 334.27, 334.36, 334.47, 334.56, 334.72, 334.84, 334.95, 335.08, 335.17, 335.31, 335.43, 335.54, 335.66, 335.75, 335.89, 336.0, 336.12, 336.22, 336.32, 336.44, 336.57, 336.68, 336.77, 336.91, 337.03, 337.15, 337.25, 337.38, 337.5, 337.62, 337.71, 337.83, 337.94, 338.05, 338.2, 338.28, 338.39, 338.55, 338.65, 338.77, 338.88, 338.99, 339.1, 339.23, 339.32, 339.44, 339.55, 339.67, 339.78, 339.93, 340.06, 340.15, 340.2, 340.35, 340.49, 340.62, 340.7, 340.85, 340.95, 341.09, 341.17, 341.27, 341.4, 341.53, 341.62, 341.74, 341.85, 341.97, 342.08, 342.23, 342.35, 342.43, 342.55, 342.66, 342.79, 342.91, 343.04, 343.13, 343.28, 343.38, 343.5, 343.62, 343.72, 343.84, 343.95, 344.01, 344.16, 344.25, 344.39, 344.52, 344.61, 344.75, 344.87, 345.01, 345.08, 345.2, 345.36, 345.43, 345.55, 345.66, 345.76, 345.89, 346.0, 346.11, 346.25, 346.34, 346.5, 346.57, 346.68, 346.81, 346.94, 347.02, 347.16, 347.26, 347.38, 347.59, 347.72, 347.84, 347.94, 348.06, 348.2, 348.32, 348.42, 348.57, 348.63, 348.81, 348.87, 349.02, 349.15, 349.23, 349.34, 349.45, 349.56, 349.67, 349.83, 349.96, 350.06, 350.15, 350.28, 350.38, 350.49, 350.61, 350.72, 350.83, 350.95, 351.09, 351.18, 351.3, 351.47, 351.6, 351.68, 351.71, 351.88, 352.0, 352.1, 352.22, 352.33, 352.45, 352.57, 352.7, 352.76, 352.93, 353.03, 353.15, 353.25, 353.37, 353.51, 353.62, 353.77, 353.81, 353.95, 354.1, 354.25, 354.3, 354.44, 354.48, 354.59, 354.75, 354.86, 355.01, 355.07, 355.26, 355.32, 355.42, 355.55, 355.7, 355.77, 355.91, 356.06, 356.14, 356.26, 356.38, 356.47, 356.62, 356.74, 356.83, 356.93, 357.07, 357.18, 357.28, 357.42, 357.55, 357.64, 357.73, 357.84, 358.01, 358.12, 358.2, 358.33, 358.45, 358.56, 358.66, 358.81, 358.89, 358.99, 359.1, 359.23, 359.31, 359.49, 359.65, 359.75, 359.82, 359.93, 360.05, 360.2, 360.29, 360.39, 360.46, 360.63, 360.76, 360.87, 361.05, 361.14, 361.16, 361.28, 361.45, 361.56, 361.69, 361.75, 361.87, 362.01, 362.16, 362.21, 362.3, 362.52, 362.59, 362.69, 362.83, 362.89, 363.0, 363.14, 363.3, 363.4, 363.53, 363.68, 363.73, 363.81, 363.96, 364.14, 364.21, 364.29, 364.41, 364.56, 364.66, 364.77, 364.87, 364.97, 365.09, 365.25, 365.35, 365.49, 365.6, 365.68, 365.78, 365.94, 365.98, 366.18, 366.27, 366.4, 366.48, 366.66, 366.74, 366.85, 366.95, 367.08, 367.1, 367.34, 367.44, 367.59, 367.68, 367.76, 367.9, 367.97, 368.06, 368.26, 368.35, 368.45, 368.58, 368.7, 368.77, 368.91, 369.04, 369.21, 369.25, 369.29, 369.55, 369.64, 369.69, 369.83, 369.94, 370.1, 370.15, 370.29, 370.47, 370.53, 370.67, 370.77, 370.81, 371.02, 371.12, 371.18, 371.37, 371.46, 371.52, 371.67, 371.84, 371.92, 372.04, 372.14, 372.27, 372.38, 372.51, 372.58, 372.69, 372.95, 372.96, 373.06, 373.22, 373.32, 373.46, 373.52, 373.62, 373.77, 373.81, 374.0, 374.13, 374.29, 374.37, 374.4, 374.57, 374.65, 374.82, 374.91, 375.02, 375.17, 375.33, 375.35, 375.4, 375.57, 375.69, 375.82, 375.96, 376.04, 376.16, 376.28, 376.45, 376.54, 376.61, 376.74, 376.88, 377.0, 377.06, 377.17, 377.38, 377.43, 377.57, 377.65, 377.8, 377.97, 377.98, 378.06, 378.23, 378.35, 378.47, 378.64, 378.71, 378.77, 378.91, 379.07, 379.15, 379.34, 379.36, 379.5, 379.69, 379.74, 379.81, 379.97, 380.08, 380.28, 380.36, 380.42, 380.54, 380.65, 380.8, 380.93, 380.99, 381.13, 381.19, 381.39, 381.5, 381.64, 381.7, 381.77, 381.92, 382.1, 382.11, 382.3, 382.41, 382.54, 382.6, 382.8, 382.81, 382.98, 383.09, 383.19, 383.33, 383.53, 383.56, 383.61, 383.79, 383.84, 383.94, 384.13, 384.26, 384.39, 384.63, 384.69, 384.78, 384.94, 385.12, 385.19, 385.41, 385.59, 385.71, 385.87, 385.93, 386.1, 386.23, 386.36, 386.49, 386.71, 386.74, 386.9, 386.98, 387.08, 387.22, 387.32, 387.41, 387.67, 387.73, 387.8, 387.81, 388.06, 388.19, 388.28, 388.41, 388.46, 388.55, 388.81, 388.86, 389.02, 389.27, 389.29, 389.43, 389.49, 389.63, 389.81, 389.92, 390.11, 390.24, 390.38, 390.44, 390.58, 390.76, 390.77, 390.91, 391.01, 391.11, 391.31, 391.47, 391.49, 391.59, 391.74, 391.79, 391.94, 392.08, 392.2, 392.29, 392.42, 392.52, 392.63, 392.75, 392.85, 393.03, 393.18, 393.23, 393.27, 393.46, 393.51, 393.7, 393.75, 394.01, 394.12, 394.21, 394.41, 394.53, 394.57, 394.75, 394.79, 394.95, 395.07, 395.14, 395.33, 395.43, 395.53, 395.59, 395.72, 395.9, 395.95, 396.13, 396.21, 396.33, 396.44, 396.54, 396.69, 396.83, 396.85, 397.06, 397.15, 397.21, 397.44, 397.48, 397.66, 397.85, 397.91, 398.0, 398.3, 398.33, 398.34, 398.47, 398.67, 398.69, 398.88, 398.97, 399.08, 399.23, 399.26, 399.44, 399.52, 399.66, 399.74, 399.96, 399.99, 400.11, 400.2, 400.32, 400.4, 400.65, 400.77, 400.91, 400.93, 400.99, 401.15, 401.2, 401.46, 401.54, 401.64, 401.71, 401.8, 401.98, 402.13, 402.15, 402.35, 402.4, 402.56, 402.71, 402.88, 402.97, 403.13, 403.27, 403.39, 403.42, 403.6, 403.71, 403.81, 403.9, 404.08, 404.19, 404.29, 404.43, 404.52, 404.6, 404.67, 404.94, 404.96, 405.1, 405.17, 405.35, 405.37, 405.56, 405.71, 405.72, 405.9, 405.98, 406.07, 406.23, 406.36, 406.51, 406.61, 406.62, 406.86, 406.96, 406.98, 407.07, 407.25, 407.44, 407.54, 407.63, 407.83, 407.93, 408.06, 408.24, 408.35, 408.4, 408.5, 408.61, 408.76, 408.85, 409.01, 409.03, 409.31, 409.35, 409.36, 409.58, 409.68, 409.88, 409.99, 410.09, 410.1, 410.29, 410.32, 410.48, 410.63, 410.76, 410.79, 410.95, 411.1, 411.23, 411.34, 411.38, 411.51, 411.65, 411.72, 411.84, 412.05, 412.07, 412.23, 412.41, 412.47, 412.49, 412.66, 412.81, 412.86, 412.89, 413.16, 413.26, 413.34, 413.55, 413.62, 413.74, 413.76, 413.91, 414.06, 414.26, 414.28, 414.4, 414.51, 414.66, 414.74, 414.83, 414.94, 415.1, 415.19, 415.39, 415.44, 415.52, 415.66, 415.8, 415.82, 416.06, 416.17, 416.3, 416.43, 416.47, 416.63, 416.71, 416.81, 416.91, 417.08, 417.16, 417.26, 417.35, 417.49, 417.6, 417.87, 417.89, 417.91, 418.11, 418.22, 418.27, 418.42, 418.6, 418.71, 418.76, 418.96, 419.02, 419.08, 419.16, 419.37, 419.51, 419.52, 419.74, 419.83, 419.89, 420.05, 420.14, 420.3, 420.36, 420.52, 420.69, 420.78, 420.84, 420.95, 421.03, 421.24, 421.28, 421.47, 421.58, 421.67, 421.74, 421.93, 421.99, 422.03, 422.31, 422.33, 422.51, 422.61, 422.69, 422.81, 422.85, 423.1, 423.15, 423.33, 423.43, 423.54, 423.56, 423.72, 423.86, 423.94, 424.16, 424.19, 424.32, 424.5, 424.54, 424.69, 424.74, 424.81, 424.89, 425.16, 425.24, 425.28, 425.58, 425.66, 425.67, 425.81, 425.82, 426.05, 426.13, 426.22, 426.35, 426.57, 426.66, 426.74, 426.86, 426.89, 427.02, 427.23, 427.33, 427.38, 427.39, 427.71, 427.8, 427.91, 427.93, 428.17, 428.22, 428.32, 428.46, 428.57, 428.78, 428.8, 428.92, 429.0, 429.2, 429.3, 429.44, 429.46, 429.74, 429.75, 429.93, 429.95, 429.98, 429.99, 430.0, 430.01, 430.02, 430.04, 430.05, 430.07, 430.09, 430.11, 430.17]\n"
     ]
    }
   ],
   "source": [
    "#从文件名提取温度with regular expression\n",
    "path = r'C:\\PhD-Zipeng\\Research projects\\DABCO\\BF4\\Impedance\\Arrhenius fitting\\Cooling'\n",
    "files = os.listdir(path)\n",
    "temperature = list()\n",
    "for file in files:\n",
    "    if file.endswith(\".tab\"):\n",
    "        num = re.findall(r\"\\d+.\\d+\", file)\n",
    "        temperature.append(float(num[0]))\n",
    "print(temperature)"
   ]
  },
  {
   "cell_type": "code",
   "execution_count": 97,
   "metadata": {},
   "outputs": [
    {
     "data": {
      "text/html": [
       "<div>\n",
       "<style>\n",
       "    .dataframe thead tr:only-child th {\n",
       "        text-align: right;\n",
       "    }\n",
       "\n",
       "    .dataframe thead th {\n",
       "        text-align: left;\n",
       "    }\n",
       "\n",
       "    .dataframe tbody tr th {\n",
       "        vertical-align: top;\n",
       "    }\n",
       "</style>\n",
       "<table border=\"1\" class=\"dataframe\">\n",
       "  <thead>\n",
       "    <tr style=\"text-align: right;\">\n",
       "      <th></th>\n",
       "      <th>T</th>\n",
       "      <th>f_relaxation</th>\n",
       "    </tr>\n",
       "  </thead>\n",
       "  <tbody>\n",
       "    <tr>\n",
       "      <th>0</th>\n",
       "      <td>296.94</td>\n",
       "      <td>1028.073</td>\n",
       "    </tr>\n",
       "    <tr>\n",
       "      <th>1</th>\n",
       "      <td>296.98</td>\n",
       "      <td>1013.939</td>\n",
       "    </tr>\n",
       "    <tr>\n",
       "      <th>2</th>\n",
       "      <td>297.02</td>\n",
       "      <td>1374.917</td>\n",
       "    </tr>\n",
       "    <tr>\n",
       "      <th>3</th>\n",
       "      <td>297.08</td>\n",
       "      <td>1071.668</td>\n",
       "    </tr>\n",
       "    <tr>\n",
       "      <th>4</th>\n",
       "      <td>297.13</td>\n",
       "      <td>3883.098</td>\n",
       "    </tr>\n",
       "    <tr>\n",
       "      <th>5</th>\n",
       "      <td>297.16</td>\n",
       "      <td>7546.673</td>\n",
       "    </tr>\n",
       "    <tr>\n",
       "      <th>6</th>\n",
       "      <td>297.20</td>\n",
       "      <td>1164.481</td>\n",
       "    </tr>\n",
       "    <tr>\n",
       "      <th>7</th>\n",
       "      <td>297.25</td>\n",
       "      <td>2863.610</td>\n",
       "    </tr>\n",
       "    <tr>\n",
       "      <th>8</th>\n",
       "      <td>297.29</td>\n",
       "      <td>21020.610</td>\n",
       "    </tr>\n",
       "    <tr>\n",
       "      <th>9</th>\n",
       "      <td>297.34</td>\n",
       "      <td>10667.340</td>\n",
       "    </tr>\n",
       "  </tbody>\n",
       "</table>\n",
       "</div>"
      ],
      "text/plain": [
       "        T  f_relaxation\n",
       "0  296.94      1028.073\n",
       "1  296.98      1013.939\n",
       "2  297.02      1374.917\n",
       "3  297.08      1071.668\n",
       "4  297.13      3883.098\n",
       "5  297.16      7546.673\n",
       "6  297.20      1164.481\n",
       "7  297.25      2863.610\n",
       "8  297.29     21020.610\n",
       "9  297.34     10667.340"
      ]
     },
     "execution_count": 97,
     "metadata": {},
     "output_type": "execute_result"
    }
   ],
   "source": [
    "#批量操作所有文件\n",
    "path = r'C:\\PhD-Zipeng\\Research projects\\DABCO\\BF4\\Impedance\\Arrhenius fitting\\Cooling'\n",
    "\n",
    "files = glob(path + \"/*.tab\")\n",
    "\n",
    "lst_T=list()\n",
    "lst_f_relax=list()\n",
    "i = 0\n",
    "\n",
    "\n",
    "for file in files:\n",
    "    df = pd.read_csv(file,delimiter='\\t',encoding= 'unicode_escape')\n",
    "    E_ima = df['Eimaginary']\n",
    "    E_ima_smooth = gaussian_filter1d(E_ima.iloc[:], 7)\n",
    "    indices = find_peaks(E_ima_smooth, prominence=0)[0]# promince 是调节峰的突起程度，我的峰不太突起，所以设为0\n",
    "    \n",
    "    lst_T.append(temperature[i])\n",
    "#     print(temperature[i]) # 用来debug，如果loop 报错，可以找到是 i=xxx 的时候报错\n",
    "    \n",
    "    f_relaxation = df.loc[int(indices[0]),'#4294A_Frequency']\n",
    "    lst_f_relax.append(f_relaxation)\n",
    "    i = i+1\n",
    "    \n",
    "dic={\"T\":lst_T,\n",
    "  \"f_relaxation\":lst_f_relax}\n",
    "dt=pd.DataFrame(dic)\n",
    "dt.head(10)"
   ]
  },
  {
   "cell_type": "code",
   "execution_count": 83,
   "metadata": {
    "collapsed": true
   },
   "outputs": [],
   "source": [
    "dt.to_csv(r'C:\\PhD-Zipeng\\Research projects\\DABCO\\BF4\\Impedance\\Arrhenius fitting\\f0 vs T Cooling.csv')"
   ]
  },
  {
   "cell_type": "code",
   "execution_count": 98,
   "metadata": {},
   "outputs": [
    {
     "data": {
      "image/png": "[encoded data removed]",
      "text/plain": [
       "<Figure size 432x288 with 1 Axes>"
      ]
     },
     "metadata": {},
     "output_type": "display_data"
    }
   ],
   "source": [
    "T = dt['T']\n",
    "one_over_T = 1000/T\n",
    "\n",
    "plt.plot(one_over_T,dt['f_relaxation'],'r+',linewidth=1, markersize=2)\n",
    "plt.yscale(\"log\")\n",
    "plt.xlabel('1000/T (K-1)')\n",
    "plt.ylabel('f0 ')\n",
    "plt.xlim((2.3,2.5))\n",
    "plt.ylim((10000,70000))\n",
    "plt.show()"
   ]
  },
  {
   "cell_type": "code",
   "execution_count": null,
   "metadata": {
    "collapsed": true
   },
   "outputs": [],
   "source": []
  }
 ],
 "metadata": {
  "kernelspec": {
   "display_name": "Python 3",
   "language": "python",
   "name": "python3"
  },
  "language_info": {
   "codemirror_mode": {
    "name": "ipython",
    "version": 3
   },
   "file_extension": ".py",
   "mimetype": "text/x-python",
   "name": "python",
   "nbconvert_exporter": "python",
   "pygments_lexer": "ipython3",
   "version": "3.6.3"
  }
 },
 "nbformat": 4,
 "nbformat_minor": 2
}
