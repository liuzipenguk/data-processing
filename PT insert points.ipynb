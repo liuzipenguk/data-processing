{
 "cells": [
  {
   "cell_type": "code",
   "execution_count": 1,
   "metadata": {
    "collapsed": true
   },
   "outputs": [],
   "source": [
    "import re\n",
    "import os \n",
    "from glob import glob\n",
    "import pandas as pd\n",
    "import numpy as np\n",
    "import matplotlib as mpl\n",
    "import matplotlib.pyplot as plt\n",
    "\n",
    "from scipy import integrate\n",
    "from scipy import interpolate\n",
    "from scipy.signal import find_peaks\n",
    "from scipy.interpolate import interp1d\n",
    "from scipy.signal import savgol_filter"
   ]
  },
  {
   "cell_type": "code",
   "execution_count": 47,
   "metadata": {},
   "outputs": [
    {
     "name": "stdout",
     "output_type": "stream",
     "text": [
      "(140, 28)\n"
     ]
    },
    {
     "name": "stderr",
     "output_type": "stream",
     "text": [
      "C:\\Users\\Dev\\Anaconda3\\lib\\site-packages\\ipykernel_launcher.py:3: ParserWarning: Falling back to the 'python' engine because the 'c' engine does not support regex separators (separators > 1 char and different from '\\s+' are interpreted as regex); you can avoid this warning by specifying engine='python'.\n",
      "  This is separate from the ipykernel package so we can avoid doing imports until\n"
     ]
    }
   ],
   "source": [
    "path = 'C:\\\\PhD-Zipeng\\\\Research projects\\\\Organics\\\\Samples form Japan\\\\Indirect data-LF Xu\\\\No1\\\\data processing V2-insert points to PT\\\\PT@E_transposed.csv'\n",
    "output_path = 'C:\\\\PhD-Zipeng\\\\Research projects\\\\Organics\\\\Samples form Japan\\\\Indirect data-LF Xu\\\\No1\\\\data processing V2-insert points to PT\\\\PT@E_transposed_200points.csv'\n",
    "df = pd.read_csv(path,delimiter='\\,')\n",
    "i=1\n",
    "\n",
    "PTE = pd.DataFrame()\n",
    "T = np.linspace(319.12, 331.46, num=140, endpoint=True)\n",
    "PTE.insert(len(PTE.columns), \"T\", T)\n",
    "\n",
    "\n",
    "for index, row in df.iterrows():\n",
    "    x = df.iloc[:,0]\n",
    "    y = df.iloc[:,i]\n",
    "    f = interp1d(x, y, fill_value=\"extrapolate\",kind='next')\n",
    "    PTE.insert(len(PTE.columns), str(i), f(T))\n",
    "    i = i+1\n",
    "    \n",
    "print(PTE.shape)\n",
    "PTE.head(5)\n",
    "\n",
    "PTE.to_csv(output_path)"
   ]
  },
  {
   "cell_type": "code",
   "execution_count": null,
   "metadata": {
    "collapsed": true
   },
   "outputs": [],
   "source": []
  }
 ],
 "metadata": {
  "kernelspec": {
   "display_name": "Python 3",
   "language": "python",
   "name": "python3"
  },
  "language_info": {
   "codemirror_mode": {
    "name": "ipython",
    "version": 3
   },
   "file_extension": ".py",
   "mimetype": "text/x-python",
   "name": "python",
   "nbconvert_exporter": "python",
   "pygments_lexer": "ipython3",
   "version": "3.6.3"
  }
 },
 "nbformat": 4,
 "nbformat_minor": 2
}
